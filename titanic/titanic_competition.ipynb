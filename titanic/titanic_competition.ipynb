{
  "nbformat": 4,
  "nbformat_minor": 0,
  "metadata": {
    "colab": {
      "name": "Titanic_Competition.ipynb",
      "provenance": [],
      "collapsed_sections": []
    },
    "kernelspec": {
      "name": "python3",
      "display_name": "Python 3"
    },
    "language_info": {
      "name": "python"
    }
  },
  "cells": [
    {
      "cell_type": "markdown",
      "metadata": {
        "id": "TLD4m8MtG_Ux"
      },
      "source": [
        "# Titanic Kaggle Competition\n",
        "\n",
        "Hi! In this notebook we'll work on the titanic kaggle competition. The data and more details regarding the competition can be [found here](https://www.kaggle.com/c/titanic/overview). \n",
        "\n",
        "Let's start off by importing some packages we will use for data analysis."
      ]
    },
    {
      "cell_type": "code",
      "metadata": {
        "id": "pJHL4WwdiEC_"
      },
      "source": [
        "import numpy as np\n",
        "import pandas as pd\n",
        "import matplotlib.pyplot as plt\n",
        "import seaborn as sns"
      ],
      "execution_count": 2128,
      "outputs": []
    },
    {
      "cell_type": "markdown",
      "metadata": {
        "id": "KOUDprdSx7lN"
      },
      "source": [
        "# Loading the data\n",
        "\n",
        "Here we import the train and test data. For exploratory data analysis, we'll use the training data. I also create an all_data dataframe, so that when we feature engineer both the train and test datasets will change."
      ]
    },
    {
      "cell_type": "code",
      "metadata": {
        "colab": {
          "base_uri": "https://localhost:8080/",
          "height": 408
        },
        "id": "kdEjw9oiiPYh",
        "outputId": "16cdcfa1-68d0-459b-b621-dee7b4dcc410"
      },
      "source": [
        "# reading in training data\n",
        "train_data = pd.read_csv(\"data/train.csv\")\n",
        "train_data.head()"
      ],
      "execution_count": 2129,
      "outputs": [
        {
          "output_type": "execute_result",
          "data": {
            "text/html": [
              "<div>\n",
              "<style scoped>\n",
              "    .dataframe tbody tr th:only-of-type {\n",
              "        vertical-align: middle;\n",
              "    }\n",
              "\n",
              "    .dataframe tbody tr th {\n",
              "        vertical-align: top;\n",
              "    }\n",
              "\n",
              "    .dataframe thead th {\n",
              "        text-align: right;\n",
              "    }\n",
              "</style>\n",
              "<table border=\"1\" class=\"dataframe\">\n",
              "  <thead>\n",
              "    <tr style=\"text-align: right;\">\n",
              "      <th></th>\n",
              "      <th>PassengerId</th>\n",
              "      <th>Survived</th>\n",
              "      <th>Pclass</th>\n",
              "      <th>Name</th>\n",
              "      <th>Sex</th>\n",
              "      <th>Age</th>\n",
              "      <th>SibSp</th>\n",
              "      <th>Parch</th>\n",
              "      <th>Ticket</th>\n",
              "      <th>Fare</th>\n",
              "      <th>Cabin</th>\n",
              "      <th>Embarked</th>\n",
              "    </tr>\n",
              "  </thead>\n",
              "  <tbody>\n",
              "    <tr>\n",
              "      <th>0</th>\n",
              "      <td>1</td>\n",
              "      <td>0</td>\n",
              "      <td>3</td>\n",
              "      <td>Braund, Mr. Owen Harris</td>\n",
              "      <td>male</td>\n",
              "      <td>22.0</td>\n",
              "      <td>1</td>\n",
              "      <td>0</td>\n",
              "      <td>A/5 21171</td>\n",
              "      <td>7.2500</td>\n",
              "      <td>NaN</td>\n",
              "      <td>S</td>\n",
              "    </tr>\n",
              "    <tr>\n",
              "      <th>1</th>\n",
              "      <td>2</td>\n",
              "      <td>1</td>\n",
              "      <td>1</td>\n",
              "      <td>Cumings, Mrs. John Bradley (Florence Briggs Th...</td>\n",
              "      <td>female</td>\n",
              "      <td>38.0</td>\n",
              "      <td>1</td>\n",
              "      <td>0</td>\n",
              "      <td>PC 17599</td>\n",
              "      <td>71.2833</td>\n",
              "      <td>C85</td>\n",
              "      <td>C</td>\n",
              "    </tr>\n",
              "    <tr>\n",
              "      <th>2</th>\n",
              "      <td>3</td>\n",
              "      <td>1</td>\n",
              "      <td>3</td>\n",
              "      <td>Heikkinen, Miss. Laina</td>\n",
              "      <td>female</td>\n",
              "      <td>26.0</td>\n",
              "      <td>0</td>\n",
              "      <td>0</td>\n",
              "      <td>STON/O2. 3101282</td>\n",
              "      <td>7.9250</td>\n",
              "      <td>NaN</td>\n",
              "      <td>S</td>\n",
              "    </tr>\n",
              "    <tr>\n",
              "      <th>3</th>\n",
              "      <td>4</td>\n",
              "      <td>1</td>\n",
              "      <td>1</td>\n",
              "      <td>Futrelle, Mrs. Jacques Heath (Lily May Peel)</td>\n",
              "      <td>female</td>\n",
              "      <td>35.0</td>\n",
              "      <td>1</td>\n",
              "      <td>0</td>\n",
              "      <td>113803</td>\n",
              "      <td>53.1000</td>\n",
              "      <td>C123</td>\n",
              "      <td>S</td>\n",
              "    </tr>\n",
              "    <tr>\n",
              "      <th>4</th>\n",
              "      <td>5</td>\n",
              "      <td>0</td>\n",
              "      <td>3</td>\n",
              "      <td>Allen, Mr. William Henry</td>\n",
              "      <td>male</td>\n",
              "      <td>35.0</td>\n",
              "      <td>0</td>\n",
              "      <td>0</td>\n",
              "      <td>373450</td>\n",
              "      <td>8.0500</td>\n",
              "      <td>NaN</td>\n",
              "      <td>S</td>\n",
              "    </tr>\n",
              "  </tbody>\n",
              "</table>\n",
              "</div>"
            ],
            "text/plain": [
              "   PassengerId  Survived  Pclass  ...     Fare Cabin  Embarked\n",
              "0            1         0       3  ...   7.2500   NaN         S\n",
              "1            2         1       1  ...  71.2833   C85         C\n",
              "2            3         1       3  ...   7.9250   NaN         S\n",
              "3            4         1       1  ...  53.1000  C123         S\n",
              "4            5         0       3  ...   8.0500   NaN         S\n",
              "\n",
              "[5 rows x 12 columns]"
            ]
          },
          "metadata": {
            "tags": []
          },
          "execution_count": 2129
        }
      ]
    },
    {
      "cell_type": "code",
      "metadata": {
        "colab": {
          "base_uri": "https://localhost:8080/",
          "height": 238
        },
        "id": "TmC8bCG7iSqV",
        "outputId": "d94d6708-30bd-43ec-d498-5297a85e9225"
      },
      "source": [
        "# reading in test data\n",
        "test_data = pd.read_csv(\"data/test.csv\")\n",
        "test_data.head()"
      ],
      "execution_count": 2130,
      "outputs": [
        {
          "output_type": "execute_result",
          "data": {
            "text/html": [
              "<div>\n",
              "<style scoped>\n",
              "    .dataframe tbody tr th:only-of-type {\n",
              "        vertical-align: middle;\n",
              "    }\n",
              "\n",
              "    .dataframe tbody tr th {\n",
              "        vertical-align: top;\n",
              "    }\n",
              "\n",
              "    .dataframe thead th {\n",
              "        text-align: right;\n",
              "    }\n",
              "</style>\n",
              "<table border=\"1\" class=\"dataframe\">\n",
              "  <thead>\n",
              "    <tr style=\"text-align: right;\">\n",
              "      <th></th>\n",
              "      <th>PassengerId</th>\n",
              "      <th>Pclass</th>\n",
              "      <th>Name</th>\n",
              "      <th>Sex</th>\n",
              "      <th>Age</th>\n",
              "      <th>SibSp</th>\n",
              "      <th>Parch</th>\n",
              "      <th>Ticket</th>\n",
              "      <th>Fare</th>\n",
              "      <th>Cabin</th>\n",
              "      <th>Embarked</th>\n",
              "    </tr>\n",
              "  </thead>\n",
              "  <tbody>\n",
              "    <tr>\n",
              "      <th>0</th>\n",
              "      <td>892</td>\n",
              "      <td>3</td>\n",
              "      <td>Kelly, Mr. James</td>\n",
              "      <td>male</td>\n",
              "      <td>34.5</td>\n",
              "      <td>0</td>\n",
              "      <td>0</td>\n",
              "      <td>330911</td>\n",
              "      <td>7.8292</td>\n",
              "      <td>NaN</td>\n",
              "      <td>Q</td>\n",
              "    </tr>\n",
              "    <tr>\n",
              "      <th>1</th>\n",
              "      <td>893</td>\n",
              "      <td>3</td>\n",
              "      <td>Wilkes, Mrs. James (Ellen Needs)</td>\n",
              "      <td>female</td>\n",
              "      <td>47.0</td>\n",
              "      <td>1</td>\n",
              "      <td>0</td>\n",
              "      <td>363272</td>\n",
              "      <td>7.0000</td>\n",
              "      <td>NaN</td>\n",
              "      <td>S</td>\n",
              "    </tr>\n",
              "    <tr>\n",
              "      <th>2</th>\n",
              "      <td>894</td>\n",
              "      <td>2</td>\n",
              "      <td>Myles, Mr. Thomas Francis</td>\n",
              "      <td>male</td>\n",
              "      <td>62.0</td>\n",
              "      <td>0</td>\n",
              "      <td>0</td>\n",
              "      <td>240276</td>\n",
              "      <td>9.6875</td>\n",
              "      <td>NaN</td>\n",
              "      <td>Q</td>\n",
              "    </tr>\n",
              "    <tr>\n",
              "      <th>3</th>\n",
              "      <td>895</td>\n",
              "      <td>3</td>\n",
              "      <td>Wirz, Mr. Albert</td>\n",
              "      <td>male</td>\n",
              "      <td>27.0</td>\n",
              "      <td>0</td>\n",
              "      <td>0</td>\n",
              "      <td>315154</td>\n",
              "      <td>8.6625</td>\n",
              "      <td>NaN</td>\n",
              "      <td>S</td>\n",
              "    </tr>\n",
              "    <tr>\n",
              "      <th>4</th>\n",
              "      <td>896</td>\n",
              "      <td>3</td>\n",
              "      <td>Hirvonen, Mrs. Alexander (Helga E Lindqvist)</td>\n",
              "      <td>female</td>\n",
              "      <td>22.0</td>\n",
              "      <td>1</td>\n",
              "      <td>1</td>\n",
              "      <td>3101298</td>\n",
              "      <td>12.2875</td>\n",
              "      <td>NaN</td>\n",
              "      <td>S</td>\n",
              "    </tr>\n",
              "  </tbody>\n",
              "</table>\n",
              "</div>"
            ],
            "text/plain": [
              "   PassengerId  Pclass  ... Cabin Embarked\n",
              "0          892       3  ...   NaN        Q\n",
              "1          893       3  ...   NaN        S\n",
              "2          894       2  ...   NaN        Q\n",
              "3          895       3  ...   NaN        S\n",
              "4          896       3  ...   NaN        S\n",
              "\n",
              "[5 rows x 11 columns]"
            ]
          },
          "metadata": {
            "tags": []
          },
          "execution_count": 2130
        }
      ]
    },
    {
      "cell_type": "code",
      "metadata": {
        "colab": {
          "base_uri": "https://localhost:8080/",
          "height": 496
        },
        "id": "ZAmtmHYQiWjk",
        "outputId": "b6517acb-ce92-483b-d79c-2a3f357ce1cc"
      },
      "source": [
        "train_data[\"train_test\"] = 1\n",
        "test_data[\"train_test\"] = 0\n",
        "\n",
        "test_data[\"Survived\"] = np.NaN\n",
        "all_data = pd.concat([train_data, test_data])\n",
        "\n",
        "all_data.head()"
      ],
      "execution_count": 2131,
      "outputs": [
        {
          "output_type": "execute_result",
          "data": {
            "text/html": [
              "<div>\n",
              "<style scoped>\n",
              "    .dataframe tbody tr th:only-of-type {\n",
              "        vertical-align: middle;\n",
              "    }\n",
              "\n",
              "    .dataframe tbody tr th {\n",
              "        vertical-align: top;\n",
              "    }\n",
              "\n",
              "    .dataframe thead th {\n",
              "        text-align: right;\n",
              "    }\n",
              "</style>\n",
              "<table border=\"1\" class=\"dataframe\">\n",
              "  <thead>\n",
              "    <tr style=\"text-align: right;\">\n",
              "      <th></th>\n",
              "      <th>PassengerId</th>\n",
              "      <th>Survived</th>\n",
              "      <th>Pclass</th>\n",
              "      <th>Name</th>\n",
              "      <th>Sex</th>\n",
              "      <th>Age</th>\n",
              "      <th>SibSp</th>\n",
              "      <th>Parch</th>\n",
              "      <th>Ticket</th>\n",
              "      <th>Fare</th>\n",
              "      <th>Cabin</th>\n",
              "      <th>Embarked</th>\n",
              "      <th>train_test</th>\n",
              "    </tr>\n",
              "  </thead>\n",
              "  <tbody>\n",
              "    <tr>\n",
              "      <th>0</th>\n",
              "      <td>1</td>\n",
              "      <td>0.0</td>\n",
              "      <td>3</td>\n",
              "      <td>Braund, Mr. Owen Harris</td>\n",
              "      <td>male</td>\n",
              "      <td>22.0</td>\n",
              "      <td>1</td>\n",
              "      <td>0</td>\n",
              "      <td>A/5 21171</td>\n",
              "      <td>7.2500</td>\n",
              "      <td>NaN</td>\n",
              "      <td>S</td>\n",
              "      <td>1</td>\n",
              "    </tr>\n",
              "    <tr>\n",
              "      <th>1</th>\n",
              "      <td>2</td>\n",
              "      <td>1.0</td>\n",
              "      <td>1</td>\n",
              "      <td>Cumings, Mrs. John Bradley (Florence Briggs Th...</td>\n",
              "      <td>female</td>\n",
              "      <td>38.0</td>\n",
              "      <td>1</td>\n",
              "      <td>0</td>\n",
              "      <td>PC 17599</td>\n",
              "      <td>71.2833</td>\n",
              "      <td>C85</td>\n",
              "      <td>C</td>\n",
              "      <td>1</td>\n",
              "    </tr>\n",
              "    <tr>\n",
              "      <th>2</th>\n",
              "      <td>3</td>\n",
              "      <td>1.0</td>\n",
              "      <td>3</td>\n",
              "      <td>Heikkinen, Miss. Laina</td>\n",
              "      <td>female</td>\n",
              "      <td>26.0</td>\n",
              "      <td>0</td>\n",
              "      <td>0</td>\n",
              "      <td>STON/O2. 3101282</td>\n",
              "      <td>7.9250</td>\n",
              "      <td>NaN</td>\n",
              "      <td>S</td>\n",
              "      <td>1</td>\n",
              "    </tr>\n",
              "    <tr>\n",
              "      <th>3</th>\n",
              "      <td>4</td>\n",
              "      <td>1.0</td>\n",
              "      <td>1</td>\n",
              "      <td>Futrelle, Mrs. Jacques Heath (Lily May Peel)</td>\n",
              "      <td>female</td>\n",
              "      <td>35.0</td>\n",
              "      <td>1</td>\n",
              "      <td>0</td>\n",
              "      <td>113803</td>\n",
              "      <td>53.1000</td>\n",
              "      <td>C123</td>\n",
              "      <td>S</td>\n",
              "      <td>1</td>\n",
              "    </tr>\n",
              "    <tr>\n",
              "      <th>4</th>\n",
              "      <td>5</td>\n",
              "      <td>0.0</td>\n",
              "      <td>3</td>\n",
              "      <td>Allen, Mr. William Henry</td>\n",
              "      <td>male</td>\n",
              "      <td>35.0</td>\n",
              "      <td>0</td>\n",
              "      <td>0</td>\n",
              "      <td>373450</td>\n",
              "      <td>8.0500</td>\n",
              "      <td>NaN</td>\n",
              "      <td>S</td>\n",
              "      <td>1</td>\n",
              "    </tr>\n",
              "  </tbody>\n",
              "</table>\n",
              "</div>"
            ],
            "text/plain": [
              "   PassengerId  Survived  Pclass  ... Cabin Embarked  train_test\n",
              "0            1       0.0       3  ...   NaN        S           1\n",
              "1            2       1.0       1  ...   C85        C           1\n",
              "2            3       1.0       3  ...   NaN        S           1\n",
              "3            4       1.0       1  ...  C123        S           1\n",
              "4            5       0.0       3  ...   NaN        S           1\n",
              "\n",
              "[5 rows x 13 columns]"
            ]
          },
          "metadata": {
            "tags": []
          },
          "execution_count": 2131
        }
      ]
    },
    {
      "cell_type": "markdown",
      "metadata": {
        "id": "ub8SRb9Zyh7z"
      },
      "source": [
        "# Exploratory Data Analysis\n",
        "\n",
        "We'll start off by exploring the data and understanding the relationships between different features.\n"
      ]
    },
    {
      "cell_type": "code",
      "metadata": {
        "colab": {
          "base_uri": "https://localhost:8080/",
          "height": 279
        },
        "id": "E7Y-o1Xoiu6s",
        "outputId": "1644c927-fb50-496d-aed4-180c2232c856"
      },
      "source": [
        "# checking if data is balanced \n",
        "sns.countplot(x=\"Survived\", data=train_data);"
      ],
      "execution_count": 2132,
      "outputs": [
        {
          "output_type": "display_data",
          "data": {
            "image/png": "[encoded data removed]",
            "text/plain": [
              "<Figure size 432x288 with 1 Axes>"
            ]
          },
          "metadata": {
            "tags": [],
            "needs_background": "light"
          }
        }
      ]
    },
    {
      "cell_type": "code",
      "metadata": {
        "colab": {
          "base_uri": "https://localhost:8080/"
        },
        "id": "GcvSw2JDjC9m",
        "outputId": "f094a5b8-6b60-4ad0-b86e-52b3e8c69a69"
      },
      "source": [
        "# understanding null, categorical and continuous values\n",
        "train_data.info()"
      ],
      "execution_count": 2133,
      "outputs": [
        {
          "output_type": "stream",
          "text": [
            "<class 'pandas.core.frame.DataFrame'>\n",
            "RangeIndex: 891 entries, 0 to 890\n",
            "Data columns (total 13 columns):\n",
            " #   Column       Non-Null Count  Dtype  \n",
            "---  ------       --------------  -----  \n",
            " 0   PassengerId  891 non-null    int64  \n",
            " 1   Survived     891 non-null    int64  \n",
            " 2   Pclass       891 non-null    int64  \n",
            " 3   Name         891 non-null    object \n",
            " 4   Sex          891 non-null    object \n",
            " 5   Age          714 non-null    float64\n",
            " 6   SibSp        891 non-null    int64  \n",
            " 7   Parch        891 non-null    int64  \n",
            " 8   Ticket       891 non-null    object \n",
            " 9   Fare         891 non-null    float64\n",
            " 10  Cabin        204 non-null    object \n",
            " 11  Embarked     889 non-null    object \n",
            " 12  train_test   891 non-null    int64  \n",
            "dtypes: float64(2), int64(6), object(5)\n",
            "memory usage: 90.6+ KB\n"
          ],
          "name": "stdout"
        }
      ]
    },
    {
      "cell_type": "code",
      "metadata": {
        "colab": {
          "base_uri": "https://localhost:8080/",
          "height": 279
        },
        "id": "6W3OEV1GjXbn",
        "outputId": "5277b468-0fca-4224-e007-83a8b70d7d34"
      },
      "source": [
        "# exploring relationship between sex and survived\n",
        "sns.countplot(x=\"Sex\", data=train_data, hue=\"Survived\");"
      ],
      "execution_count": 2134,
      "outputs": [
        {
          "output_type": "display_data",
          "data": {
            "image/png": "[encoded data removed]",
            "text/plain": [
              "<Figure size 432x288 with 1 Axes>"
            ]
          },
          "metadata": {
            "tags": [],
            "needs_background": "light"
          }
        }
      ]
    },
    {
      "cell_type": "code",
      "metadata": {
        "colab": {
          "base_uri": "https://localhost:8080/",
          "height": 488
        },
        "id": "iz2rtAx-jzG7",
        "outputId": "d5634f10-fd63-4974-d4a3-0b910cbabc52"
      },
      "source": [
        "# drawing heatmap to explore correlations\n",
        "plt.figure(figsize=(12,8))\n",
        "sns.heatmap(train_data.corr(), annot=True, cmap=\"viridis\");"
      ],
      "execution_count": 2135,
      "outputs": [
        {
          "output_type": "display_data",
          "data": {
            "image/png": "[encoded data removed]",
            "text/plain": [
              "<Figure size 864x576 with 2 Axes>"
            ]
          },
          "metadata": {
            "tags": [],
            "needs_background": "light"
          }
        }
      ]
    },
    {
      "cell_type": "markdown",
      "metadata": {
        "id": "XNwCzxuyzWcW"
      },
      "source": [
        "From the heatmap above, I noticed there was some correlation between pclass and fare. So, we'll explore this further."
      ]
    },
    {
      "cell_type": "code",
      "metadata": {
        "colab": {
          "base_uri": "https://localhost:8080/",
          "height": 497
        },
        "id": "YsTDDMCJj_0w",
        "outputId": "29343931-3b1a-40f5-8531-3cd4a788681c"
      },
      "source": [
        "plt.figure(figsize=(12,8))\n",
        "sns.boxplot(x=\"Pclass\", y=\"Fare\", data=train_data);"
      ],
      "execution_count": 2136,
      "outputs": [
        {
          "output_type": "display_data",
          "data": {
            "image/png": "[encoded data removed]",
            "text/plain": [
              "<Figure size 864x576 with 1 Axes>"
            ]
          },
          "metadata": {
            "tags": [],
            "needs_background": "light"
          }
        }
      ]
    },
    {
      "cell_type": "code",
      "metadata": {
        "colab": {
          "base_uri": "https://localhost:8080/",
          "height": 173
        },
        "id": "5JV2Kfxuk5eB",
        "outputId": "7a477f25-f127-478f-d6b5-c76719ba1389"
      },
      "source": [
        "train_data.groupby(\"Pclass\").describe()[\"Fare\"]"
      ],
      "execution_count": 2137,
      "outputs": [
        {
          "output_type": "execute_result",
          "data": {
            "text/html": [
              "<div>\n",
              "<style scoped>\n",
              "    .dataframe tbody tr th:only-of-type {\n",
              "        vertical-align: middle;\n",
              "    }\n",
              "\n",
              "    .dataframe tbody tr th {\n",
              "        vertical-align: top;\n",
              "    }\n",
              "\n",
              "    .dataframe thead th {\n",
              "        text-align: right;\n",
              "    }\n",
              "</style>\n",
              "<table border=\"1\" class=\"dataframe\">\n",
              "  <thead>\n",
              "    <tr style=\"text-align: right;\">\n",
              "      <th></th>\n",
              "      <th>count</th>\n",
              "      <th>mean</th>\n",
              "      <th>std</th>\n",
              "      <th>min</th>\n",
              "      <th>25%</th>\n",
              "      <th>50%</th>\n",
              "      <th>75%</th>\n",
              "      <th>max</th>\n",
              "    </tr>\n",
              "    <tr>\n",
              "      <th>Pclass</th>\n",
              "      <th></th>\n",
              "      <th></th>\n",
              "      <th></th>\n",
              "      <th></th>\n",
              "      <th></th>\n",
              "      <th></th>\n",
              "      <th></th>\n",
              "      <th></th>\n",
              "    </tr>\n",
              "  </thead>\n",
              "  <tbody>\n",
              "    <tr>\n",
              "      <th>1</th>\n",
              "      <td>216.0</td>\n",
              "      <td>84.154687</td>\n",
              "      <td>78.380373</td>\n",
              "      <td>0.0</td>\n",
              "      <td>30.92395</td>\n",
              "      <td>60.2875</td>\n",
              "      <td>93.5</td>\n",
              "      <td>512.3292</td>\n",
              "    </tr>\n",
              "    <tr>\n",
              "      <th>2</th>\n",
              "      <td>184.0</td>\n",
              "      <td>20.662183</td>\n",
              "      <td>13.417399</td>\n",
              "      <td>0.0</td>\n",
              "      <td>13.00000</td>\n",
              "      <td>14.2500</td>\n",
              "      <td>26.0</td>\n",
              "      <td>73.5000</td>\n",
              "    </tr>\n",
              "    <tr>\n",
              "      <th>3</th>\n",
              "      <td>491.0</td>\n",
              "      <td>13.675550</td>\n",
              "      <td>11.778142</td>\n",
              "      <td>0.0</td>\n",
              "      <td>7.75000</td>\n",
              "      <td>8.0500</td>\n",
              "      <td>15.5</td>\n",
              "      <td>69.5500</td>\n",
              "    </tr>\n",
              "  </tbody>\n",
              "</table>\n",
              "</div>"
            ],
            "text/plain": [
              "        count       mean        std  min       25%      50%   75%       max\n",
              "Pclass                                                                     \n",
              "1       216.0  84.154687  78.380373  0.0  30.92395  60.2875  93.5  512.3292\n",
              "2       184.0  20.662183  13.417399  0.0  13.00000  14.2500  26.0   73.5000\n",
              "3       491.0  13.675550  11.778142  0.0   7.75000   8.0500  15.5   69.5500"
            ]
          },
          "metadata": {
            "tags": []
          },
          "execution_count": 2137
        }
      ]
    },
    {
      "cell_type": "code",
      "metadata": {
        "colab": {
          "base_uri": "https://localhost:8080/"
        },
        "id": "o6m59YRZlX6e",
        "outputId": "5c345f69-5f78-41e7-ad8e-8e6ce7afcb28"
      },
      "source": [
        "train_data.columns"
      ],
      "execution_count": 2138,
      "outputs": [
        {
          "output_type": "execute_result",
          "data": {
            "text/plain": [
              "Index(['PassengerId', 'Survived', 'Pclass', 'Name', 'Sex', 'Age', 'SibSp',\n",
              "       'Parch', 'Ticket', 'Fare', 'Cabin', 'Embarked', 'train_test'],\n",
              "      dtype='object')"
            ]
          },
          "metadata": {
            "tags": []
          },
          "execution_count": 2138
        }
      ]
    },
    {
      "cell_type": "markdown",
      "metadata": {
        "id": "yqcnSgWizq35"
      },
      "source": [
        "Now, we'll explore some of the categorical variables and their relationship with survived."
      ]
    },
    {
      "cell_type": "code",
      "metadata": {
        "colab": {
          "base_uri": "https://localhost:8080/",
          "height": 279
        },
        "id": "JxaVJs1ZnCdb",
        "outputId": "07dc0e95-9c05-4fe4-f418-d3f38e50d151"
      },
      "source": [
        "sns.countplot(x=\"Pclass\", data=train_data, hue=\"Survived\");"
      ],
      "execution_count": 2139,
      "outputs": [
        {
          "output_type": "display_data",
          "data": {
            "image/png": "[encoded data removed]",
            "text/plain": [
              "<Figure size 432x288 with 1 Axes>"
            ]
          },
          "metadata": {
            "tags": [],
            "needs_background": "light"
          }
        }
      ]
    },
    {
      "cell_type": "code",
      "metadata": {
        "colab": {
          "base_uri": "https://localhost:8080/",
          "height": 279
        },
        "id": "t_u62yktnINZ",
        "outputId": "0b7cb0b0-fcca-4cec-faea-4a2d82e4dae2"
      },
      "source": [
        "sns.countplot(x=\"Embarked\", data=train_data, hue=\"Survived\");"
      ],
      "execution_count": 2140,
      "outputs": [
        {
          "output_type": "display_data",
          "data": {
            "image/png": "[encoded data removed]",
            "text/plain": [
              "<Figure size 432x288 with 1 Axes>"
            ]
          },
          "metadata": {
            "tags": [],
            "needs_background": "light"
          }
        }
      ]
    },
    {
      "cell_type": "markdown",
      "metadata": {
        "id": "KO_lFX9D0Niz"
      },
      "source": [
        "Based on the graph, it's not clear whether or not a certain location means there is a higher chance of survival.\n",
        "\n",
        "To address this, let's find the percentage of people survived for each embarked class."
      ]
    },
    {
      "cell_type": "code",
      "metadata": {
        "id": "AxypalgpnnuH"
      },
      "source": [
        "total_emb = train_data.groupby(\"Embarked\")[\"Survived\"].count()\n",
        "sur_emb = train_data[train_data[\"Survived\"] == 1].groupby(\"Embarked\")[\"Survived\"].count()"
      ],
      "execution_count": 2141,
      "outputs": []
    },
    {
      "cell_type": "code",
      "metadata": {
        "colab": {
          "base_uri": "https://localhost:8080/"
        },
        "id": "Zo_u6lRzoPpb",
        "outputId": "be04aba7-a9ea-4ac8-85a5-e00cf15398b0"
      },
      "source": [
        "per_emb = sur_emb / total_emb * 100\n",
        "per_emb"
      ],
      "execution_count": 2142,
      "outputs": [
        {
          "output_type": "execute_result",
          "data": {
            "text/plain": [
              "Embarked\n",
              "C    55.357143\n",
              "Q    38.961039\n",
              "S    33.695652\n",
              "Name: Survived, dtype: float64"
            ]
          },
          "metadata": {
            "tags": []
          },
          "execution_count": 2142
        }
      ]
    },
    {
      "cell_type": "markdown",
      "metadata": {
        "id": "OYcSi6ss0k8r"
      },
      "source": [
        "Now, that's a lot more clear, and we can see that half the people who left from Cherbourg survived!\n",
        "\n",
        "Now let's explore the continuous variables."
      ]
    },
    {
      "cell_type": "code",
      "metadata": {
        "colab": {
          "base_uri": "https://localhost:8080/",
          "height": 1000
        },
        "id": "r_K54a5isGue",
        "outputId": "d1a493e2-c63c-4c3c-d4f0-18b2363cd310"
      },
      "source": [
        "for feature in num_var:\n",
        "  sns.displot(train_data[feature], kde=False)\n",
        "  plt.show()"
      ],
      "execution_count": 2143,
      "outputs": [
        {
          "output_type": "display_data",
          "data": {
            "image/png": "[encoded data removed]",
            "text/plain": [
              "<Figure size 360x360 with 1 Axes>"
            ]
          },
          "metadata": {
            "tags": [],
            "needs_background": "light"
          }
        },
        {
          "output_type": "display_data",
          "data": {
            "image/png": "[encoded data removed]",
            "text/plain": [
              "<Figure size 360x360 with 1 Axes>"
            ]
          },
          "metadata": {
            "tags": [],
            "needs_background": "light"
          }
        },
        {
          "output_type": "display_data",
          "data": {
            "image/png": "[encoded data removed]",
            "text/plain": [
              "<Figure size 360x360 with 1 Axes>"
            ]
          },
          "metadata": {
            "tags": [],
            "needs_background": "light"
          }
        },
        {
          "output_type": "display_data",
          "data": {
            "image/png": "[encoded data removed]",
            "text/plain": [
              "<Figure size 360x360 with 1 Axes>"
            ]
          },
          "metadata": {
            "tags": [],
            "needs_background": "light"
          }
        }
      ]
    },
    {
      "cell_type": "markdown",
      "metadata": {
        "id": "mA1Z9qM51Eee"
      },
      "source": [
        "I also want to draw a countplot for parch and sibsp to see if there is a relationship with survived."
      ]
    },
    {
      "cell_type": "code",
      "metadata": {
        "colab": {
          "base_uri": "https://localhost:8080/",
          "height": 279
        },
        "id": "tcGRiIkwsQ-7",
        "outputId": "e0a9cd62-b119-4c4c-d9b0-f753cfadf06b"
      },
      "source": [
        "sns.countplot(x=\"Parch\", data=train_data, hue=\"Survived\");"
      ],
      "execution_count": 2144,
      "outputs": [
        {
          "output_type": "display_data",
          "data": {
            "image/png": "[encoded data removed]",
            "text/plain": [
              "<Figure size 432x288 with 1 Axes>"
            ]
          },
          "metadata": {
            "tags": [],
            "needs_background": "light"
          }
        }
      ]
    },
    {
      "cell_type": "code",
      "metadata": {
        "colab": {
          "base_uri": "https://localhost:8080/",
          "height": 279
        },
        "id": "FKbI_olas5Um",
        "outputId": "0f8e0281-bf24-4ccd-ad3e-750b30c5dbef"
      },
      "source": [
        "sns.countplot(x=\"SibSp\", data=train_data, hue=\"Survived\");"
      ],
      "execution_count": 2145,
      "outputs": [
        {
          "output_type": "display_data",
          "data": {
            "image/png": "[encoded data removed]",
            "text/plain": [
              "<Figure size 432x288 with 1 Axes>"
            ]
          },
          "metadata": {
            "tags": [],
            "needs_background": "light"
          }
        }
      ]
    },
    {
      "cell_type": "markdown",
      "metadata": {
        "id": "VpxSBEAo1WvC"
      },
      "source": [
        "Before finishing of data analysis, I quickly want to check if any of the variables are correlated with survived. "
      ]
    },
    {
      "cell_type": "code",
      "metadata": {
        "colab": {
          "base_uri": "https://localhost:8080/",
          "height": 316
        },
        "id": "JAzYrTz-tEqn",
        "outputId": "d51614a8-4931-4124-ba36-98fc86f0a8df"
      },
      "source": [
        "train_data.corr()[\"Survived\"].sort_values().drop([\"train_test\", \"Survived\"]).plot(kind=\"bar\");"
      ],
      "execution_count": 2146,
      "outputs": [
        {
          "output_type": "display_data",
          "data": {
            "image/png": "[encoded data removed]",
            "text/plain": [
              "<Figure size 432x288 with 1 Axes>"
            ]
          },
          "metadata": {
            "tags": [],
            "needs_background": "light"
          }
        }
      ]
    },
    {
      "cell_type": "markdown",
      "metadata": {
        "id": "Na4qmUDp1vzA"
      },
      "source": [
        "There is some correlation between fare and survived, so let's explore this!"
      ]
    },
    {
      "cell_type": "code",
      "metadata": {
        "colab": {
          "base_uri": "https://localhost:8080/",
          "height": 279
        },
        "id": "1TzY-b87wqvl",
        "outputId": "96e1f92f-7fd4-4fc1-88ee-cc5f558672f6"
      },
      "source": [
        "sns.boxplot(x=\"Survived\", y=\"Fare\", data=train_data );"
      ],
      "execution_count": 2147,
      "outputs": [
        {
          "output_type": "display_data",
          "data": {
            "image/png": "[encoded data removed]",
            "text/plain": [
              "<Figure size 432x288 with 1 Axes>"
            ]
          },
          "metadata": {
            "tags": [],
            "needs_background": "light"
          }
        }
      ]
    },
    {
      "cell_type": "code",
      "metadata": {
        "colab": {
          "base_uri": "https://localhost:8080/",
          "height": 142
        },
        "id": "vgRvq5ElxNU_",
        "outputId": "13da2e09-726a-4e97-e54b-cd3e30ecef04"
      },
      "source": [
        "train_data.groupby(\"Survived\")[\"Fare\"].describe()"
      ],
      "execution_count": 2148,
      "outputs": [
        {
          "output_type": "execute_result",
          "data": {
            "text/html": [
              "<div>\n",
              "<style scoped>\n",
              "    .dataframe tbody tr th:only-of-type {\n",
              "        vertical-align: middle;\n",
              "    }\n",
              "\n",
              "    .dataframe tbody tr th {\n",
              "        vertical-align: top;\n",
              "    }\n",
              "\n",
              "    .dataframe thead th {\n",
              "        text-align: right;\n",
              "    }\n",
              "</style>\n",
              "<table border=\"1\" class=\"dataframe\">\n",
              "  <thead>\n",
              "    <tr style=\"text-align: right;\">\n",
              "      <th></th>\n",
              "      <th>count</th>\n",
              "      <th>mean</th>\n",
              "      <th>std</th>\n",
              "      <th>min</th>\n",
              "      <th>25%</th>\n",
              "      <th>50%</th>\n",
              "      <th>75%</th>\n",
              "      <th>max</th>\n",
              "    </tr>\n",
              "    <tr>\n",
              "      <th>Survived</th>\n",
              "      <th></th>\n",
              "      <th></th>\n",
              "      <th></th>\n",
              "      <th></th>\n",
              "      <th></th>\n",
              "      <th></th>\n",
              "      <th></th>\n",
              "      <th></th>\n",
              "    </tr>\n",
              "  </thead>\n",
              "  <tbody>\n",
              "    <tr>\n",
              "      <th>0</th>\n",
              "      <td>549.0</td>\n",
              "      <td>22.117887</td>\n",
              "      <td>31.388207</td>\n",
              "      <td>0.0</td>\n",
              "      <td>7.8542</td>\n",
              "      <td>10.5</td>\n",
              "      <td>26.0</td>\n",
              "      <td>263.0000</td>\n",
              "    </tr>\n",
              "    <tr>\n",
              "      <th>1</th>\n",
              "      <td>342.0</td>\n",
              "      <td>48.395408</td>\n",
              "      <td>66.596998</td>\n",
              "      <td>0.0</td>\n",
              "      <td>12.4750</td>\n",
              "      <td>26.0</td>\n",
              "      <td>57.0</td>\n",
              "      <td>512.3292</td>\n",
              "    </tr>\n",
              "  </tbody>\n",
              "</table>\n",
              "</div>"
            ],
            "text/plain": [
              "          count       mean        std  min      25%   50%   75%       max\n",
              "Survived                                                                 \n",
              "0         549.0  22.117887  31.388207  0.0   7.8542  10.5  26.0  263.0000\n",
              "1         342.0  48.395408  66.596998  0.0  12.4750  26.0  57.0  512.3292"
            ]
          },
          "metadata": {
            "tags": []
          },
          "execution_count": 2148
        }
      ]
    },
    {
      "cell_type": "code",
      "metadata": {
        "colab": {
          "base_uri": "https://localhost:8080/",
          "height": 279
        },
        "id": "QypFDW8I1-RA",
        "outputId": "286b5a09-a2fb-42c5-b566-1360f4f6c073"
      },
      "source": [
        "sns.boxplot(x=\"Survived\", y=\"Fare\", data=train_data );"
      ],
      "execution_count": 2149,
      "outputs": [
        {
          "output_type": "display_data",
          "data": {
            "image/png": "[encoded data removed]",
            "text/plain": [
              "<Figure size 432x288 with 1 Axes>"
            ]
          },
          "metadata": {
            "tags": [],
            "needs_background": "light"
          }
        }
      ]
    },
    {
      "cell_type": "markdown",
      "metadata": {
        "id": "z0EAOIRoyKjI"
      },
      "source": [
        "# Data Preprocessing - Dealing with Missing Data\n",
        "\n",
        "Now, we'll clean up the data and deal with the missing data. "
      ]
    },
    {
      "cell_type": "code",
      "metadata": {
        "colab": {
          "base_uri": "https://localhost:8080/"
        },
        "id": "IRlOuei5xaS1",
        "outputId": "6c54a502-b542-484a-a047-518ca60ac395"
      },
      "source": [
        "all_data.isnull().sum()"
      ],
      "execution_count": 2150,
      "outputs": [
        {
          "output_type": "execute_result",
          "data": {
            "text/plain": [
              "PassengerId       0\n",
              "Survived        418\n",
              "Pclass            0\n",
              "Name              0\n",
              "Sex               0\n",
              "Age             263\n",
              "SibSp             0\n",
              "Parch             0\n",
              "Ticket            0\n",
              "Fare              1\n",
              "Cabin          1014\n",
              "Embarked          2\n",
              "train_test        0\n",
              "dtype: int64"
            ]
          },
          "metadata": {
            "tags": []
          },
          "execution_count": 2150
        }
      ]
    },
    {
      "cell_type": "markdown",
      "metadata": {
        "id": "LDhC4KhO2hL8"
      },
      "source": [
        "For a better representation of the null values, let's see what percentage of these values are missing for each feature."
      ]
    },
    {
      "cell_type": "code",
      "metadata": {
        "colab": {
          "base_uri": "https://localhost:8080/"
        },
        "id": "7Abb3OjrzXbs",
        "outputId": "71f23918-8100-4962-ed7d-5b24f6e38490"
      },
      "source": [
        "all_data.isnull().sum() / len(all_data) * 100"
      ],
      "execution_count": 2151,
      "outputs": [
        {
          "output_type": "execute_result",
          "data": {
            "text/plain": [
              "PassengerId     0.000000\n",
              "Survived       31.932773\n",
              "Pclass          0.000000\n",
              "Name            0.000000\n",
              "Sex             0.000000\n",
              "Age            20.091673\n",
              "SibSp           0.000000\n",
              "Parch           0.000000\n",
              "Ticket          0.000000\n",
              "Fare            0.076394\n",
              "Cabin          77.463713\n",
              "Embarked        0.152788\n",
              "train_test      0.000000\n",
              "dtype: float64"
            ]
          },
          "metadata": {
            "tags": []
          },
          "execution_count": 2151
        }
      ]
    },
    {
      "cell_type": "markdown",
      "metadata": {
        "id": "EtoPNKst2rYd"
      },
      "source": [
        "First, we'll deal with cabin as a huge chunk of the data is missing.\n",
        "\n",
        "Rather than dropping the entire feature, we'll extract two features from it - cabin number and letter.\n"
      ]
    },
    {
      "cell_type": "code",
      "metadata": {
        "id": "v6xf0wDK1AKb"
      },
      "source": [
        "all_data[\"Cabin_num\"] = all_data[\"Cabin\"].apply(lambda x: 0 if pd.isna(x) else len(x.split(\" \")))\n"
      ],
      "execution_count": 2152,
      "outputs": []
    },
    {
      "cell_type": "code",
      "metadata": {
        "colab": {
          "base_uri": "https://localhost:8080/"
        },
        "id": "C8l26OjHeCQU",
        "outputId": "6487f2dc-ec22-4e84-8de7-00da0657ba7b"
      },
      "source": [
        "cabin_num_sur = all_data.groupby(\"Cabin_num\")[\"Survived\"].sum()\n",
        "cabin_num_total = all_data.groupby(\"Cabin_num\")[\"Survived\"].count()\n",
        "cabin_num_per = cabin_num_sur / cabin_num_total * 100\n",
        "cabin_num_per"
      ],
      "execution_count": 2153,
      "outputs": [
        {
          "output_type": "execute_result",
          "data": {
            "text/plain": [
              "Cabin_num\n",
              "0     29.985444\n",
              "1     67.777778\n",
              "2     56.250000\n",
              "3     50.000000\n",
              "4    100.000000\n",
              "Name: Survived, dtype: float64"
            ]
          },
          "metadata": {
            "tags": []
          },
          "execution_count": 2153
        }
      ]
    },
    {
      "cell_type": "code",
      "metadata": {
        "id": "_YjGLFspeab_"
      },
      "source": [
        "all_data[\"Cabin_letter\"] = all_data[\"Cabin\"].apply(lambda x: \"n\" if pd.isna(x) else str(x[0]))"
      ],
      "execution_count": 2154,
      "outputs": []
    },
    {
      "cell_type": "code",
      "metadata": {
        "colab": {
          "base_uri": "https://localhost:8080/",
          "height": 278
        },
        "id": "Uo0Su0qtfM0m",
        "outputId": "0dc26a34-28c3-4984-b373-4f6a0c55be4a"
      },
      "source": [
        "cabin_letter_sur = all_data.groupby(\"Cabin_letter\")[\"Survived\"].sum()\n",
        "cabin_letter_total = all_data.groupby(\"Cabin_letter\")[\"Survived\"].count()\n",
        "cabin_letter_per = cabin_letter_sur / cabin_letter_total * 100\n",
        "cabin_letter_per.plot(kind=\"bar\");"
      ],
      "execution_count": 2155,
      "outputs": [
        {
          "output_type": "display_data",
          "data": {
            "image/png": "[encoded data removed]",
            "text/plain": [
              "<Figure size 432x288 with 1 Axes>"
            ]
          },
          "metadata": {
            "tags": [],
            "needs_background": "light"
          }
        }
      ]
    },
    {
      "cell_type": "code",
      "metadata": {
        "id": "zdaSrVKygTIl"
      },
      "source": [
        "all_data = all_data.drop(\"Cabin\", axis=1)"
      ],
      "execution_count": 2156,
      "outputs": []
    },
    {
      "cell_type": "code",
      "metadata": {
        "colab": {
          "base_uri": "https://localhost:8080/"
        },
        "id": "dOEoZ8rw3jcr",
        "outputId": "345ab990-2c48-4ccc-bc02-8d74296326bf"
      },
      "source": [
        "all_data.isnull().sum() / len(all_data) * 100"
      ],
      "execution_count": 2157,
      "outputs": [
        {
          "output_type": "execute_result",
          "data": {
            "text/plain": [
              "PassengerId      0.000000\n",
              "Survived        31.932773\n",
              "Pclass           0.000000\n",
              "Name             0.000000\n",
              "Sex              0.000000\n",
              "Age             20.091673\n",
              "SibSp            0.000000\n",
              "Parch            0.000000\n",
              "Ticket           0.000000\n",
              "Fare             0.076394\n",
              "Embarked         0.152788\n",
              "train_test       0.000000\n",
              "Cabin_num        0.000000\n",
              "Cabin_letter     0.000000\n",
              "dtype: float64"
            ]
          },
          "metadata": {
            "tags": []
          },
          "execution_count": 2157
        }
      ]
    },
    {
      "cell_type": "markdown",
      "metadata": {
        "id": "vroxw1KU3CFn"
      },
      "source": [
        "Now, we've created two more features and dropped cabin. Next, we'll focus on filling in the age values. \n",
        "\n",
        "To do so, we'll fill in the values based on the pclass of the data. For each pclass, we will take the average age and fill it in with the missing values in the age column.\n",
        "\n",
        "The reason we are using pclass to determine what values to fill in age with is because there is some correlation between the two features (from heatmap above)."
      ]
    },
    {
      "cell_type": "code",
      "metadata": {
        "id": "ekObN31fgbcf",
        "colab": {
          "base_uri": "https://localhost:8080/"
        },
        "outputId": "47b32dc8-1ae7-46e6-f618-acdcfafd9361"
      },
      "source": [
        "pclass_age = all_data.groupby(\"Pclass\")[\"Age\"].mean()\n",
        "pclass_age"
      ],
      "execution_count": 2158,
      "outputs": [
        {
          "output_type": "execute_result",
          "data": {
            "text/plain": [
              "Pclass\n",
              "1    39.159930\n",
              "2    29.506705\n",
              "3    24.816367\n",
              "Name: Age, dtype: float64"
            ]
          },
          "metadata": {
            "tags": []
          },
          "execution_count": 2158
        }
      ]
    },
    {
      "cell_type": "code",
      "metadata": {
        "id": "1k_bzfUChr4g"
      },
      "source": [
        "def pclass_age_fun(pclass, age):\n",
        "  if pd.isna(age):\n",
        "    return pclass_age[pclass]\n",
        "  else:\n",
        "    return age"
      ],
      "execution_count": 2159,
      "outputs": []
    },
    {
      "cell_type": "code",
      "metadata": {
        "id": "m-uRvq_xhPgu"
      },
      "source": [
        "all_data[\"Age\"] = all_data.apply(lambda x: pclass_age_fun(x[\"Pclass\"], x[\"Age\"]), axis=1)"
      ],
      "execution_count": 2160,
      "outputs": []
    },
    {
      "cell_type": "code",
      "metadata": {
        "colab": {
          "base_uri": "https://localhost:8080/"
        },
        "id": "BzQLPSCTjEne",
        "outputId": "f293e424-1309-4cea-95a9-ba94a1784e4e"
      },
      "source": [
        "all_data.isnull().sum() / len(all_data) * 100"
      ],
      "execution_count": 2161,
      "outputs": [
        {
          "output_type": "execute_result",
          "data": {
            "text/plain": [
              "PassengerId      0.000000\n",
              "Survived        31.932773\n",
              "Pclass           0.000000\n",
              "Name             0.000000\n",
              "Sex              0.000000\n",
              "Age              0.000000\n",
              "SibSp            0.000000\n",
              "Parch            0.000000\n",
              "Ticket           0.000000\n",
              "Fare             0.076394\n",
              "Embarked         0.152788\n",
              "train_test       0.000000\n",
              "Cabin_num        0.000000\n",
              "Cabin_letter     0.000000\n",
              "dtype: float64"
            ]
          },
          "metadata": {
            "tags": []
          },
          "execution_count": 2161
        }
      ]
    },
    {
      "cell_type": "markdown",
      "metadata": {
        "id": "huAdlcH53ywC"
      },
      "source": [
        "Now, there are two features left to deal with - fare and embarked. For embarked, all the missing values are in the training set, therefore, we'll drop the rows that have a missing value.\n",
        "\n",
        "The reason we are not dealing with the survived feature is because we set those values to be null when we concatenated the train and test data above!"
      ]
    },
    {
      "cell_type": "code",
      "metadata": {
        "id": "N9BnLgbrjH78"
      },
      "source": [
        "all_data = all_data.dropna(subset=[\"Embarked\"])"
      ],
      "execution_count": 2162,
      "outputs": []
    },
    {
      "cell_type": "code",
      "metadata": {
        "colab": {
          "base_uri": "https://localhost:8080/"
        },
        "id": "gHxsRkKJrHIN",
        "outputId": "d6ed91c2-aba7-4b28-9adc-327b85667137"
      },
      "source": [
        "test_data.isnull().sum()"
      ],
      "execution_count": 2163,
      "outputs": [
        {
          "output_type": "execute_result",
          "data": {
            "text/plain": [
              "PassengerId      0\n",
              "Pclass           0\n",
              "Name             0\n",
              "Sex              0\n",
              "Age             86\n",
              "SibSp            0\n",
              "Parch            0\n",
              "Ticket           0\n",
              "Fare             1\n",
              "Cabin          327\n",
              "Embarked         0\n",
              "train_test       0\n",
              "Survived       418\n",
              "dtype: int64"
            ]
          },
          "metadata": {
            "tags": []
          },
          "execution_count": 2163
        }
      ]
    },
    {
      "cell_type": "markdown",
      "metadata": {
        "id": "3ASinfbb4I83"
      },
      "source": [
        "Now, we have to deal with the single missing value from Fare. We did not drop this value since it is in the test set, and the competition states to not drop any of the test values. \n",
        "\n",
        "Instead, we will fill in this value with the average Fare."
      ]
    },
    {
      "cell_type": "code",
      "metadata": {
        "id": "YqQP1VutrK4R"
      },
      "source": [
        "all_data[\"Fare\"] = all_data[\"Fare\"].fillna(all_data[\"Fare\"].mean())"
      ],
      "execution_count": 2164,
      "outputs": []
    },
    {
      "cell_type": "code",
      "metadata": {
        "colab": {
          "base_uri": "https://localhost:8080/"
        },
        "id": "0QPN_3vxty7S",
        "outputId": "a65f3d5f-55e8-46a3-c0ff-fe9467bfb9a3"
      },
      "source": [
        "all_data.isnull().sum()"
      ],
      "execution_count": 2165,
      "outputs": [
        {
          "output_type": "execute_result",
          "data": {
            "text/plain": [
              "PassengerId       0\n",
              "Survived        418\n",
              "Pclass            0\n",
              "Name              0\n",
              "Sex               0\n",
              "Age               0\n",
              "SibSp             0\n",
              "Parch             0\n",
              "Ticket            0\n",
              "Fare              0\n",
              "Embarked          0\n",
              "train_test        0\n",
              "Cabin_num         0\n",
              "Cabin_letter      0\n",
              "dtype: int64"
            ]
          },
          "metadata": {
            "tags": []
          },
          "execution_count": 2165
        }
      ]
    },
    {
      "cell_type": "markdown",
      "metadata": {
        "id": "mLUFFhFz4dh6"
      },
      "source": [
        "The data is now all filled!"
      ]
    },
    {
      "cell_type": "code",
      "metadata": {
        "colab": {
          "base_uri": "https://localhost:8080/",
          "height": 496
        },
        "id": "m6DABEOYjZ6B",
        "outputId": "46e96dec-8956-4f8f-81c7-5612a7726e37"
      },
      "source": [
        "all_data.head()"
      ],
      "execution_count": 2166,
      "outputs": [
        {
          "output_type": "execute_result",
          "data": {
            "text/html": [
              "<div>\n",
              "<style scoped>\n",
              "    .dataframe tbody tr th:only-of-type {\n",
              "        vertical-align: middle;\n",
              "    }\n",
              "\n",
              "    .dataframe tbody tr th {\n",
              "        vertical-align: top;\n",
              "    }\n",
              "\n",
              "    .dataframe thead th {\n",
              "        text-align: right;\n",
              "    }\n",
              "</style>\n",
              "<table border=\"1\" class=\"dataframe\">\n",
              "  <thead>\n",
              "    <tr style=\"text-align: right;\">\n",
              "      <th></th>\n",
              "      <th>PassengerId</th>\n",
              "      <th>Survived</th>\n",
              "      <th>Pclass</th>\n",
              "      <th>Name</th>\n",
              "      <th>Sex</th>\n",
              "      <th>Age</th>\n",
              "      <th>SibSp</th>\n",
              "      <th>Parch</th>\n",
              "      <th>Ticket</th>\n",
              "      <th>Fare</th>\n",
              "      <th>Embarked</th>\n",
              "      <th>train_test</th>\n",
              "      <th>Cabin_num</th>\n",
              "      <th>Cabin_letter</th>\n",
              "    </tr>\n",
              "  </thead>\n",
              "  <tbody>\n",
              "    <tr>\n",
              "      <th>0</th>\n",
              "      <td>1</td>\n",
              "      <td>0.0</td>\n",
              "      <td>3</td>\n",
              "      <td>Braund, Mr. Owen Harris</td>\n",
              "      <td>male</td>\n",
              "      <td>22.0</td>\n",
              "      <td>1</td>\n",
              "      <td>0</td>\n",
              "      <td>A/5 21171</td>\n",
              "      <td>7.2500</td>\n",
              "      <td>S</td>\n",
              "      <td>1</td>\n",
              "      <td>0</td>\n",
              "      <td>n</td>\n",
              "    </tr>\n",
              "    <tr>\n",
              "      <th>1</th>\n",
              "      <td>2</td>\n",
              "      <td>1.0</td>\n",
              "      <td>1</td>\n",
              "      <td>Cumings, Mrs. John Bradley (Florence Briggs Th...</td>\n",
              "      <td>female</td>\n",
              "      <td>38.0</td>\n",
              "      <td>1</td>\n",
              "      <td>0</td>\n",
              "      <td>PC 17599</td>\n",
              "      <td>71.2833</td>\n",
              "      <td>C</td>\n",
              "      <td>1</td>\n",
              "      <td>1</td>\n",
              "      <td>C</td>\n",
              "    </tr>\n",
              "    <tr>\n",
              "      <th>2</th>\n",
              "      <td>3</td>\n",
              "      <td>1.0</td>\n",
              "      <td>3</td>\n",
              "      <td>Heikkinen, Miss. Laina</td>\n",
              "      <td>female</td>\n",
              "      <td>26.0</td>\n",
              "      <td>0</td>\n",
              "      <td>0</td>\n",
              "      <td>STON/O2. 3101282</td>\n",
              "      <td>7.9250</td>\n",
              "      <td>S</td>\n",
              "      <td>1</td>\n",
              "      <td>0</td>\n",
              "      <td>n</td>\n",
              "    </tr>\n",
              "    <tr>\n",
              "      <th>3</th>\n",
              "      <td>4</td>\n",
              "      <td>1.0</td>\n",
              "      <td>1</td>\n",
              "      <td>Futrelle, Mrs. Jacques Heath (Lily May Peel)</td>\n",
              "      <td>female</td>\n",
              "      <td>35.0</td>\n",
              "      <td>1</td>\n",
              "      <td>0</td>\n",
              "      <td>113803</td>\n",
              "      <td>53.1000</td>\n",
              "      <td>S</td>\n",
              "      <td>1</td>\n",
              "      <td>1</td>\n",
              "      <td>C</td>\n",
              "    </tr>\n",
              "    <tr>\n",
              "      <th>4</th>\n",
              "      <td>5</td>\n",
              "      <td>0.0</td>\n",
              "      <td>3</td>\n",
              "      <td>Allen, Mr. William Henry</td>\n",
              "      <td>male</td>\n",
              "      <td>35.0</td>\n",
              "      <td>0</td>\n",
              "      <td>0</td>\n",
              "      <td>373450</td>\n",
              "      <td>8.0500</td>\n",
              "      <td>S</td>\n",
              "      <td>1</td>\n",
              "      <td>0</td>\n",
              "      <td>n</td>\n",
              "    </tr>\n",
              "  </tbody>\n",
              "</table>\n",
              "</div>"
            ],
            "text/plain": [
              "   PassengerId  Survived  Pclass  ... train_test Cabin_num  Cabin_letter\n",
              "0            1       0.0       3  ...          1         0             n\n",
              "1            2       1.0       1  ...          1         1             C\n",
              "2            3       1.0       3  ...          1         0             n\n",
              "3            4       1.0       1  ...          1         1             C\n",
              "4            5       0.0       3  ...          1         0             n\n",
              "\n",
              "[5 rows x 14 columns]"
            ]
          },
          "metadata": {
            "tags": []
          },
          "execution_count": 2166
        }
      ]
    },
    {
      "cell_type": "markdown",
      "metadata": {
        "id": "P46khA8HkohF"
      },
      "source": [
        "# Data Preprocessing - Feature Engineering\n",
        "\n",
        "The last thing we need to do before training our model is to feature engineer and deal with the categorical variables."
      ]
    },
    {
      "cell_type": "code",
      "metadata": {
        "colab": {
          "base_uri": "https://localhost:8080/"
        },
        "id": "LFBycFMzj_yB",
        "outputId": "5348d6e4-dd78-403d-e1ae-eb10c90078b7"
      },
      "source": [
        "all_data.select_dtypes([\"object\"]).columns"
      ],
      "execution_count": 2167,
      "outputs": [
        {
          "output_type": "execute_result",
          "data": {
            "text/plain": [
              "Index(['Name', 'Sex', 'Ticket', 'Embarked', 'Cabin_letter'], dtype='object')"
            ]
          },
          "metadata": {
            "tags": []
          },
          "execution_count": 2167
        }
      ]
    },
    {
      "cell_type": "markdown",
      "metadata": {
        "id": "CFHqygkK8Fse"
      },
      "source": [
        "Let's first extract the title from the name column."
      ]
    },
    {
      "cell_type": "code",
      "metadata": {
        "colab": {
          "base_uri": "https://localhost:8080/"
        },
        "id": "qCns_TsQmZVi",
        "outputId": "3cb6ed16-37ef-4b0b-b0e0-b99f1214ddf4"
      },
      "source": [
        "all_data['Title'] = all_data[\"Name\"].apply(lambda x: x.split(',')[1].split('.')[0].strip())\n",
        "all_data[\"Title\"].value_counts()"
      ],
      "execution_count": 2168,
      "outputs": [
        {
          "output_type": "execute_result",
          "data": {
            "text/plain": [
              "Mr              757\n",
              "Miss            259\n",
              "Mrs             196\n",
              "Master           61\n",
              "Rev               8\n",
              "Dr                8\n",
              "Col               4\n",
              "Major             2\n",
              "Ms                2\n",
              "Mlle              2\n",
              "Mme               1\n",
              "Dona              1\n",
              "Lady              1\n",
              "Jonkheer          1\n",
              "Capt              1\n",
              "Sir               1\n",
              "Don               1\n",
              "the Countess      1\n",
              "Name: Title, dtype: int64"
            ]
          },
          "metadata": {
            "tags": []
          },
          "execution_count": 2168
        }
      ]
    },
    {
      "cell_type": "markdown",
      "metadata": {
        "id": "3AUvU8lK8LOi"
      },
      "source": [
        "It's evident that there are a bunch of categories, but a majority of them just have a couple people. Let's create an \"other\" column. "
      ]
    },
    {
      "cell_type": "code",
      "metadata": {
        "id": "eE38UefVnrRs"
      },
      "source": [
        "all_data[\"Title\"] = all_data[\"Title\"].replace([\"Rev\", \"Dr\", \"Col\", \"Major\", \"Ms\", \"Mlle\", \"Mme\", \"Dona\", \"Lady\", \"Jonkheer\", \"Capt\", \"Sir\", \"Don\", \"the Countess\"], \"OTHER\")"
      ],
      "execution_count": 2169,
      "outputs": []
    },
    {
      "cell_type": "code",
      "metadata": {
        "id": "VfQjD42em7fA"
      },
      "source": [
        "all_data = all_data.drop(\"Name\", axis=1)"
      ],
      "execution_count": 2170,
      "outputs": []
    },
    {
      "cell_type": "markdown",
      "metadata": {
        "id": "AVQxXC4Y8d11"
      },
      "source": [
        "Let's deal with the ticket now. This time we'll create a new column called \"ticket_num\" which will indicate if a ticket is made up of all numbers or not."
      ]
    },
    {
      "cell_type": "code",
      "metadata": {
        "id": "J9bFRnZGlLRo"
      },
      "source": [
        "all_data[\"Ticket_num\"] = all_data[\"Ticket\"].apply(lambda x: 1 if x.isnumeric() else 0)"
      ],
      "execution_count": 2171,
      "outputs": []
    },
    {
      "cell_type": "code",
      "metadata": {
        "colab": {
          "base_uri": "https://localhost:8080/",
          "height": 280
        },
        "id": "xpnJ6plBoaEt",
        "outputId": "46095c24-2d6d-48bc-f6f7-37f3d13218cd"
      },
      "source": [
        "ticket_num_sur = all_data.groupby(\"Ticket_num\")[\"Survived\"].sum()\n",
        "ticket_num_total = all_data.groupby(\"Ticket_num\")[\"Survived\"].count()\n",
        "ticket_num_per = ticket_num_sur / ticket_num_total * 100\n",
        "ticket_num_per.plot(kind=\"bar\");"
      ],
      "execution_count": 2172,
      "outputs": [
        {
          "output_type": "display_data",
          "data": {
            "image/png": "[encoded data removed]",
            "text/plain": [
              "<Figure size 432x288 with 1 Axes>"
            ]
          },
          "metadata": {
            "tags": [],
            "needs_background": "light"
          }
        }
      ]
    },
    {
      "cell_type": "markdown",
      "metadata": {
        "id": "-HC4pQpH8vxo"
      },
      "source": [
        "It's clear that it does not really matter if a ticket is a numbered ticket or not. So, let's just drop this column."
      ]
    },
    {
      "cell_type": "code",
      "metadata": {
        "colab": {
          "base_uri": "https://localhost:8080/",
          "height": 419
        },
        "id": "DxQM5_hvmBuu",
        "outputId": "2e6daf26-3cde-4514-cf87-1e4537fd254e"
      },
      "source": [
        "# Just drop ticket and ticket_num\n",
        "all_data = all_data.drop([\"Ticket\", \"Ticket_num\"], axis=1)\n",
        "all_data"
      ],
      "execution_count": 2173,
      "outputs": [
        {
          "output_type": "execute_result",
          "data": {
            "text/html": [
              "<div>\n",
              "<style scoped>\n",
              "    .dataframe tbody tr th:only-of-type {\n",
              "        vertical-align: middle;\n",
              "    }\n",
              "\n",
              "    .dataframe tbody tr th {\n",
              "        vertical-align: top;\n",
              "    }\n",
              "\n",
              "    .dataframe thead th {\n",
              "        text-align: right;\n",
              "    }\n",
              "</style>\n",
              "<table border=\"1\" class=\"dataframe\">\n",
              "  <thead>\n",
              "    <tr style=\"text-align: right;\">\n",
              "      <th></th>\n",
              "      <th>PassengerId</th>\n",
              "      <th>Survived</th>\n",
              "      <th>Pclass</th>\n",
              "      <th>Sex</th>\n",
              "      <th>Age</th>\n",
              "      <th>SibSp</th>\n",
              "      <th>Parch</th>\n",
              "      <th>Fare</th>\n",
              "      <th>Embarked</th>\n",
              "      <th>train_test</th>\n",
              "      <th>Cabin_num</th>\n",
              "      <th>Cabin_letter</th>\n",
              "      <th>Title</th>\n",
              "    </tr>\n",
              "  </thead>\n",
              "  <tbody>\n",
              "    <tr>\n",
              "      <th>0</th>\n",
              "      <td>1</td>\n",
              "      <td>0.0</td>\n",
              "      <td>3</td>\n",
              "      <td>male</td>\n",
              "      <td>22.000000</td>\n",
              "      <td>1</td>\n",
              "      <td>0</td>\n",
              "      <td>7.2500</td>\n",
              "      <td>S</td>\n",
              "      <td>1</td>\n",
              "      <td>0</td>\n",
              "      <td>n</td>\n",
              "      <td>Mr</td>\n",
              "    </tr>\n",
              "    <tr>\n",
              "      <th>1</th>\n",
              "      <td>2</td>\n",
              "      <td>1.0</td>\n",
              "      <td>1</td>\n",
              "      <td>female</td>\n",
              "      <td>38.000000</td>\n",
              "      <td>1</td>\n",
              "      <td>0</td>\n",
              "      <td>71.2833</td>\n",
              "      <td>C</td>\n",
              "      <td>1</td>\n",
              "      <td>1</td>\n",
              "      <td>C</td>\n",
              "      <td>Mrs</td>\n",
              "    </tr>\n",
              "    <tr>\n",
              "      <th>2</th>\n",
              "      <td>3</td>\n",
              "      <td>1.0</td>\n",
              "      <td>3</td>\n",
              "      <td>female</td>\n",
              "      <td>26.000000</td>\n",
              "      <td>0</td>\n",
              "      <td>0</td>\n",
              "      <td>7.9250</td>\n",
              "      <td>S</td>\n",
              "      <td>1</td>\n",
              "      <td>0</td>\n",
              "      <td>n</td>\n",
              "      <td>Miss</td>\n",
              "    </tr>\n",
              "    <tr>\n",
              "      <th>3</th>\n",
              "      <td>4</td>\n",
              "      <td>1.0</td>\n",
              "      <td>1</td>\n",
              "      <td>female</td>\n",
              "      <td>35.000000</td>\n",
              "      <td>1</td>\n",
              "      <td>0</td>\n",
              "      <td>53.1000</td>\n",
              "      <td>S</td>\n",
              "      <td>1</td>\n",
              "      <td>1</td>\n",
              "      <td>C</td>\n",
              "      <td>Mrs</td>\n",
              "    </tr>\n",
              "    <tr>\n",
              "      <th>4</th>\n",
              "      <td>5</td>\n",
              "      <td>0.0</td>\n",
              "      <td>3</td>\n",
              "      <td>male</td>\n",
              "      <td>35.000000</td>\n",
              "      <td>0</td>\n",
              "      <td>0</td>\n",
              "      <td>8.0500</td>\n",
              "      <td>S</td>\n",
              "      <td>1</td>\n",
              "      <td>0</td>\n",
              "      <td>n</td>\n",
              "      <td>Mr</td>\n",
              "    </tr>\n",
              "    <tr>\n",
              "      <th>...</th>\n",
              "      <td>...</td>\n",
              "      <td>...</td>\n",
              "      <td>...</td>\n",
              "      <td>...</td>\n",
              "      <td>...</td>\n",
              "      <td>...</td>\n",
              "      <td>...</td>\n",
              "      <td>...</td>\n",
              "      <td>...</td>\n",
              "      <td>...</td>\n",
              "      <td>...</td>\n",
              "      <td>...</td>\n",
              "      <td>...</td>\n",
              "    </tr>\n",
              "    <tr>\n",
              "      <th>413</th>\n",
              "      <td>1305</td>\n",
              "      <td>NaN</td>\n",
              "      <td>3</td>\n",
              "      <td>male</td>\n",
              "      <td>24.816367</td>\n",
              "      <td>0</td>\n",
              "      <td>0</td>\n",
              "      <td>8.0500</td>\n",
              "      <td>S</td>\n",
              "      <td>0</td>\n",
              "      <td>0</td>\n",
              "      <td>n</td>\n",
              "      <td>Mr</td>\n",
              "    </tr>\n",
              "    <tr>\n",
              "      <th>414</th>\n",
              "      <td>1306</td>\n",
              "      <td>NaN</td>\n",
              "      <td>1</td>\n",
              "      <td>female</td>\n",
              "      <td>39.000000</td>\n",
              "      <td>0</td>\n",
              "      <td>0</td>\n",
              "      <td>108.9000</td>\n",
              "      <td>C</td>\n",
              "      <td>0</td>\n",
              "      <td>1</td>\n",
              "      <td>C</td>\n",
              "      <td>OTHER</td>\n",
              "    </tr>\n",
              "    <tr>\n",
              "      <th>415</th>\n",
              "      <td>1307</td>\n",
              "      <td>NaN</td>\n",
              "      <td>3</td>\n",
              "      <td>male</td>\n",
              "      <td>38.500000</td>\n",
              "      <td>0</td>\n",
              "      <td>0</td>\n",
              "      <td>7.2500</td>\n",
              "      <td>S</td>\n",
              "      <td>0</td>\n",
              "      <td>0</td>\n",
              "      <td>n</td>\n",
              "      <td>Mr</td>\n",
              "    </tr>\n",
              "    <tr>\n",
              "      <th>416</th>\n",
              "      <td>1308</td>\n",
              "      <td>NaN</td>\n",
              "      <td>3</td>\n",
              "      <td>male</td>\n",
              "      <td>24.816367</td>\n",
              "      <td>0</td>\n",
              "      <td>0</td>\n",
              "      <td>8.0500</td>\n",
              "      <td>S</td>\n",
              "      <td>0</td>\n",
              "      <td>0</td>\n",
              "      <td>n</td>\n",
              "      <td>Mr</td>\n",
              "    </tr>\n",
              "    <tr>\n",
              "      <th>417</th>\n",
              "      <td>1309</td>\n",
              "      <td>NaN</td>\n",
              "      <td>3</td>\n",
              "      <td>male</td>\n",
              "      <td>24.816367</td>\n",
              "      <td>1</td>\n",
              "      <td>1</td>\n",
              "      <td>22.3583</td>\n",
              "      <td>C</td>\n",
              "      <td>0</td>\n",
              "      <td>0</td>\n",
              "      <td>n</td>\n",
              "      <td>Master</td>\n",
              "    </tr>\n",
              "  </tbody>\n",
              "</table>\n",
              "<p>1307 rows × 13 columns</p>\n",
              "</div>"
            ],
            "text/plain": [
              "     PassengerId  Survived  Pclass  ... Cabin_num  Cabin_letter   Title\n",
              "0              1       0.0       3  ...         0             n      Mr\n",
              "1              2       1.0       1  ...         1             C     Mrs\n",
              "2              3       1.0       3  ...         0             n    Miss\n",
              "3              4       1.0       1  ...         1             C     Mrs\n",
              "4              5       0.0       3  ...         0             n      Mr\n",
              "..           ...       ...     ...  ...       ...           ...     ...\n",
              "413         1305       NaN       3  ...         0             n      Mr\n",
              "414         1306       NaN       1  ...         1             C   OTHER\n",
              "415         1307       NaN       3  ...         0             n      Mr\n",
              "416         1308       NaN       3  ...         0             n      Mr\n",
              "417         1309       NaN       3  ...         0             n  Master\n",
              "\n",
              "[1307 rows x 13 columns]"
            ]
          },
          "metadata": {
            "tags": []
          },
          "execution_count": 2173
        }
      ]
    },
    {
      "cell_type": "markdown",
      "metadata": {
        "id": "9NXEF5fg89Gv"
      },
      "source": [
        "Now, let's deal with the remaining categorical columns. We will one hot encode the columns."
      ]
    },
    {
      "cell_type": "code",
      "metadata": {
        "id": "YKTJng-emS7j"
      },
      "source": [
        "dummies = pd.get_dummies(all_data[[\"Sex\", \"Embarked\", \"Cabin_letter\", \"Title\"]], drop_first=True)\n",
        "all_data = pd.concat([all_data.drop([\"Sex\", \"Embarked\", \"Cabin_letter\", \"Title\"], axis=1), dummies], axis=1)"
      ],
      "execution_count": 2174,
      "outputs": []
    },
    {
      "cell_type": "code",
      "metadata": {
        "colab": {
          "base_uri": "https://localhost:8080/",
          "height": 439
        },
        "id": "3mHoSduimoNX",
        "outputId": "4491eb11-88e5-42ed-e4e9-8cb25c47db2b"
      },
      "source": [
        "all_data"
      ],
      "execution_count": 2175,
      "outputs": [
        {
          "output_type": "execute_result",
          "data": {
            "text/html": [
              "<div>\n",
              "<style scoped>\n",
              "    .dataframe tbody tr th:only-of-type {\n",
              "        vertical-align: middle;\n",
              "    }\n",
              "\n",
              "    .dataframe tbody tr th {\n",
              "        vertical-align: top;\n",
              "    }\n",
              "\n",
              "    .dataframe thead th {\n",
              "        text-align: right;\n",
              "    }\n",
              "</style>\n",
              "<table border=\"1\" class=\"dataframe\">\n",
              "  <thead>\n",
              "    <tr style=\"text-align: right;\">\n",
              "      <th></th>\n",
              "      <th>PassengerId</th>\n",
              "      <th>Survived</th>\n",
              "      <th>Pclass</th>\n",
              "      <th>Age</th>\n",
              "      <th>SibSp</th>\n",
              "      <th>Parch</th>\n",
              "      <th>Fare</th>\n",
              "      <th>train_test</th>\n",
              "      <th>Cabin_num</th>\n",
              "      <th>Sex_male</th>\n",
              "      <th>Embarked_Q</th>\n",
              "      <th>Embarked_S</th>\n",
              "      <th>Cabin_letter_B</th>\n",
              "      <th>Cabin_letter_C</th>\n",
              "      <th>Cabin_letter_D</th>\n",
              "      <th>Cabin_letter_E</th>\n",
              "      <th>Cabin_letter_F</th>\n",
              "      <th>Cabin_letter_G</th>\n",
              "      <th>Cabin_letter_T</th>\n",
              "      <th>Cabin_letter_n</th>\n",
              "      <th>Title_Miss</th>\n",
              "      <th>Title_Mr</th>\n",
              "      <th>Title_Mrs</th>\n",
              "      <th>Title_OTHER</th>\n",
              "    </tr>\n",
              "  </thead>\n",
              "  <tbody>\n",
              "    <tr>\n",
              "      <th>0</th>\n",
              "      <td>1</td>\n",
              "      <td>0.0</td>\n",
              "      <td>3</td>\n",
              "      <td>22.000000</td>\n",
              "      <td>1</td>\n",
              "      <td>0</td>\n",
              "      <td>7.2500</td>\n",
              "      <td>1</td>\n",
              "      <td>0</td>\n",
              "      <td>1</td>\n",
              "      <td>0</td>\n",
              "      <td>1</td>\n",
              "      <td>0</td>\n",
              "      <td>0</td>\n",
              "      <td>0</td>\n",
              "      <td>0</td>\n",
              "      <td>0</td>\n",
              "      <td>0</td>\n",
              "      <td>0</td>\n",
              "      <td>1</td>\n",
              "      <td>0</td>\n",
              "      <td>1</td>\n",
              "      <td>0</td>\n",
              "      <td>0</td>\n",
              "    </tr>\n",
              "    <tr>\n",
              "      <th>1</th>\n",
              "      <td>2</td>\n",
              "      <td>1.0</td>\n",
              "      <td>1</td>\n",
              "      <td>38.000000</td>\n",
              "      <td>1</td>\n",
              "      <td>0</td>\n",
              "      <td>71.2833</td>\n",
              "      <td>1</td>\n",
              "      <td>1</td>\n",
              "      <td>0</td>\n",
              "      <td>0</td>\n",
              "      <td>0</td>\n",
              "      <td>0</td>\n",
              "      <td>1</td>\n",
              "      <td>0</td>\n",
              "      <td>0</td>\n",
              "      <td>0</td>\n",
              "      <td>0</td>\n",
              "      <td>0</td>\n",
              "      <td>0</td>\n",
              "      <td>0</td>\n",
              "      <td>0</td>\n",
              "      <td>1</td>\n",
              "      <td>0</td>\n",
              "    </tr>\n",
              "    <tr>\n",
              "      <th>2</th>\n",
              "      <td>3</td>\n",
              "      <td>1.0</td>\n",
              "      <td>3</td>\n",
              "      <td>26.000000</td>\n",
              "      <td>0</td>\n",
              "      <td>0</td>\n",
              "      <td>7.9250</td>\n",
              "      <td>1</td>\n",
              "      <td>0</td>\n",
              "      <td>0</td>\n",
              "      <td>0</td>\n",
              "      <td>1</td>\n",
              "      <td>0</td>\n",
              "      <td>0</td>\n",
              "      <td>0</td>\n",
              "      <td>0</td>\n",
              "      <td>0</td>\n",
              "      <td>0</td>\n",
              "      <td>0</td>\n",
              "      <td>1</td>\n",
              "      <td>1</td>\n",
              "      <td>0</td>\n",
              "      <td>0</td>\n",
              "      <td>0</td>\n",
              "    </tr>\n",
              "    <tr>\n",
              "      <th>3</th>\n",
              "      <td>4</td>\n",
              "      <td>1.0</td>\n",
              "      <td>1</td>\n",
              "      <td>35.000000</td>\n",
              "      <td>1</td>\n",
              "      <td>0</td>\n",
              "      <td>53.1000</td>\n",
              "      <td>1</td>\n",
              "      <td>1</td>\n",
              "      <td>0</td>\n",
              "      <td>0</td>\n",
              "      <td>1</td>\n",
              "      <td>0</td>\n",
              "      <td>1</td>\n",
              "      <td>0</td>\n",
              "      <td>0</td>\n",
              "      <td>0</td>\n",
              "      <td>0</td>\n",
              "      <td>0</td>\n",
              "      <td>0</td>\n",
              "      <td>0</td>\n",
              "      <td>0</td>\n",
              "      <td>1</td>\n",
              "      <td>0</td>\n",
              "    </tr>\n",
              "    <tr>\n",
              "      <th>4</th>\n",
              "      <td>5</td>\n",
              "      <td>0.0</td>\n",
              "      <td>3</td>\n",
              "      <td>35.000000</td>\n",
              "      <td>0</td>\n",
              "      <td>0</td>\n",
              "      <td>8.0500</td>\n",
              "      <td>1</td>\n",
              "      <td>0</td>\n",
              "      <td>1</td>\n",
              "      <td>0</td>\n",
              "      <td>1</td>\n",
              "      <td>0</td>\n",
              "      <td>0</td>\n",
              "      <td>0</td>\n",
              "      <td>0</td>\n",
              "      <td>0</td>\n",
              "      <td>0</td>\n",
              "      <td>0</td>\n",
              "      <td>1</td>\n",
              "      <td>0</td>\n",
              "      <td>1</td>\n",
              "      <td>0</td>\n",
              "      <td>0</td>\n",
              "    </tr>\n",
              "    <tr>\n",
              "      <th>...</th>\n",
              "      <td>...</td>\n",
              "      <td>...</td>\n",
              "      <td>...</td>\n",
              "      <td>...</td>\n",
              "      <td>...</td>\n",
              "      <td>...</td>\n",
              "      <td>...</td>\n",
              "      <td>...</td>\n",
              "      <td>...</td>\n",
              "      <td>...</td>\n",
              "      <td>...</td>\n",
              "      <td>...</td>\n",
              "      <td>...</td>\n",
              "      <td>...</td>\n",
              "      <td>...</td>\n",
              "      <td>...</td>\n",
              "      <td>...</td>\n",
              "      <td>...</td>\n",
              "      <td>...</td>\n",
              "      <td>...</td>\n",
              "      <td>...</td>\n",
              "      <td>...</td>\n",
              "      <td>...</td>\n",
              "      <td>...</td>\n",
              "    </tr>\n",
              "    <tr>\n",
              "      <th>413</th>\n",
              "      <td>1305</td>\n",
              "      <td>NaN</td>\n",
              "      <td>3</td>\n",
              "      <td>24.816367</td>\n",
              "      <td>0</td>\n",
              "      <td>0</td>\n",
              "      <td>8.0500</td>\n",
              "      <td>0</td>\n",
              "      <td>0</td>\n",
              "      <td>1</td>\n",
              "      <td>0</td>\n",
              "      <td>1</td>\n",
              "      <td>0</td>\n",
              "      <td>0</td>\n",
              "      <td>0</td>\n",
              "      <td>0</td>\n",
              "      <td>0</td>\n",
              "      <td>0</td>\n",
              "      <td>0</td>\n",
              "      <td>1</td>\n",
              "      <td>0</td>\n",
              "      <td>1</td>\n",
              "      <td>0</td>\n",
              "      <td>0</td>\n",
              "    </tr>\n",
              "    <tr>\n",
              "      <th>414</th>\n",
              "      <td>1306</td>\n",
              "      <td>NaN</td>\n",
              "      <td>1</td>\n",
              "      <td>39.000000</td>\n",
              "      <td>0</td>\n",
              "      <td>0</td>\n",
              "      <td>108.9000</td>\n",
              "      <td>0</td>\n",
              "      <td>1</td>\n",
              "      <td>0</td>\n",
              "      <td>0</td>\n",
              "      <td>0</td>\n",
              "      <td>0</td>\n",
              "      <td>1</td>\n",
              "      <td>0</td>\n",
              "      <td>0</td>\n",
              "      <td>0</td>\n",
              "      <td>0</td>\n",
              "      <td>0</td>\n",
              "      <td>0</td>\n",
              "      <td>0</td>\n",
              "      <td>0</td>\n",
              "      <td>0</td>\n",
              "      <td>1</td>\n",
              "    </tr>\n",
              "    <tr>\n",
              "      <th>415</th>\n",
              "      <td>1307</td>\n",
              "      <td>NaN</td>\n",
              "      <td>3</td>\n",
              "      <td>38.500000</td>\n",
              "      <td>0</td>\n",
              "      <td>0</td>\n",
              "      <td>7.2500</td>\n",
              "      <td>0</td>\n",
              "      <td>0</td>\n",
              "      <td>1</td>\n",
              "      <td>0</td>\n",
              "      <td>1</td>\n",
              "      <td>0</td>\n",
              "      <td>0</td>\n",
              "      <td>0</td>\n",
              "      <td>0</td>\n",
              "      <td>0</td>\n",
              "      <td>0</td>\n",
              "      <td>0</td>\n",
              "      <td>1</td>\n",
              "      <td>0</td>\n",
              "      <td>1</td>\n",
              "      <td>0</td>\n",
              "      <td>0</td>\n",
              "    </tr>\n",
              "    <tr>\n",
              "      <th>416</th>\n",
              "      <td>1308</td>\n",
              "      <td>NaN</td>\n",
              "      <td>3</td>\n",
              "      <td>24.816367</td>\n",
              "      <td>0</td>\n",
              "      <td>0</td>\n",
              "      <td>8.0500</td>\n",
              "      <td>0</td>\n",
              "      <td>0</td>\n",
              "      <td>1</td>\n",
              "      <td>0</td>\n",
              "      <td>1</td>\n",
              "      <td>0</td>\n",
              "      <td>0</td>\n",
              "      <td>0</td>\n",
              "      <td>0</td>\n",
              "      <td>0</td>\n",
              "      <td>0</td>\n",
              "      <td>0</td>\n",
              "      <td>1</td>\n",
              "      <td>0</td>\n",
              "      <td>1</td>\n",
              "      <td>0</td>\n",
              "      <td>0</td>\n",
              "    </tr>\n",
              "    <tr>\n",
              "      <th>417</th>\n",
              "      <td>1309</td>\n",
              "      <td>NaN</td>\n",
              "      <td>3</td>\n",
              "      <td>24.816367</td>\n",
              "      <td>1</td>\n",
              "      <td>1</td>\n",
              "      <td>22.3583</td>\n",
              "      <td>0</td>\n",
              "      <td>0</td>\n",
              "      <td>1</td>\n",
              "      <td>0</td>\n",
              "      <td>0</td>\n",
              "      <td>0</td>\n",
              "      <td>0</td>\n",
              "      <td>0</td>\n",
              "      <td>0</td>\n",
              "      <td>0</td>\n",
              "      <td>0</td>\n",
              "      <td>0</td>\n",
              "      <td>1</td>\n",
              "      <td>0</td>\n",
              "      <td>0</td>\n",
              "      <td>0</td>\n",
              "      <td>0</td>\n",
              "    </tr>\n",
              "  </tbody>\n",
              "</table>\n",
              "<p>1307 rows × 24 columns</p>\n",
              "</div>"
            ],
            "text/plain": [
              "     PassengerId  Survived  Pclass  ...  Title_Mr  Title_Mrs  Title_OTHER\n",
              "0              1       0.0       3  ...         1          0            0\n",
              "1              2       1.0       1  ...         0          1            0\n",
              "2              3       1.0       3  ...         0          0            0\n",
              "3              4       1.0       1  ...         0          1            0\n",
              "4              5       0.0       3  ...         1          0            0\n",
              "..           ...       ...     ...  ...       ...        ...          ...\n",
              "413         1305       NaN       3  ...         1          0            0\n",
              "414         1306       NaN       1  ...         0          0            1\n",
              "415         1307       NaN       3  ...         1          0            0\n",
              "416         1308       NaN       3  ...         1          0            0\n",
              "417         1309       NaN       3  ...         0          0            0\n",
              "\n",
              "[1307 rows x 24 columns]"
            ]
          },
          "metadata": {
            "tags": []
          },
          "execution_count": 2175
        }
      ]
    },
    {
      "cell_type": "code",
      "metadata": {
        "colab": {
          "base_uri": "https://localhost:8080/"
        },
        "id": "e3Pv6vQZmo9W",
        "outputId": "1091e224-5a86-4d6d-82b7-e9178cd05ccb"
      },
      "source": [
        "all_data.select_dtypes([\"object\"]).columns"
      ],
      "execution_count": 2176,
      "outputs": [
        {
          "output_type": "execute_result",
          "data": {
            "text/plain": [
              "Index([], dtype='object')"
            ]
          },
          "metadata": {
            "tags": []
          },
          "execution_count": 2176
        }
      ]
    },
    {
      "cell_type": "markdown",
      "metadata": {
        "id": "ayCPzpHx9M3S"
      },
      "source": [
        "All data preprocessing is done!\n",
        "\n",
        "Now, let's split the data back into train and test datasets so that we can input them into the model."
      ]
    },
    {
      "cell_type": "code",
      "metadata": {
        "id": "8XRFVMYepaps"
      },
      "source": [
        "X_train = all_data[all_data[\"train_test\"] == 1].drop([\"Survived\", \"PassengerId\"], axis=1)\n",
        "X_test = all_data[all_data[\"train_test\"] == 0].drop([\"Survived\", \"PassengerId\"], axis=1)"
      ],
      "execution_count": 2177,
      "outputs": []
    },
    {
      "cell_type": "code",
      "metadata": {
        "colab": {
          "base_uri": "https://localhost:8080/"
        },
        "id": "UWYoQVnRp84-",
        "outputId": "ba1ef01d-e0a6-43f8-b0a7-6e69bcf15cfb"
      },
      "source": [
        "X_train.shape"
      ],
      "execution_count": 2178,
      "outputs": [
        {
          "output_type": "execute_result",
          "data": {
            "text/plain": [
              "(889, 22)"
            ]
          },
          "metadata": {
            "tags": []
          },
          "execution_count": 2178
        }
      ]
    },
    {
      "cell_type": "code",
      "metadata": {
        "colab": {
          "base_uri": "https://localhost:8080/"
        },
        "id": "MRMUhpLOp9j5",
        "outputId": "860103b6-382a-417c-fcaa-47f780cb4402"
      },
      "source": [
        "X_test.shape"
      ],
      "execution_count": 2179,
      "outputs": [
        {
          "output_type": "execute_result",
          "data": {
            "text/plain": [
              "(418, 22)"
            ]
          },
          "metadata": {
            "tags": []
          },
          "execution_count": 2179
        }
      ]
    },
    {
      "cell_type": "code",
      "metadata": {
        "colab": {
          "base_uri": "https://localhost:8080/"
        },
        "id": "inGkqW2PqAMh",
        "outputId": "efde5db0-c30a-4f7f-bb7f-df2c9bab1f4f"
      },
      "source": [
        "y_train = all_data[all_data[\"train_test\"] == 1][\"Survived\"]\n",
        "y_train.shape"
      ],
      "execution_count": 2180,
      "outputs": [
        {
          "output_type": "execute_result",
          "data": {
            "text/plain": [
              "(889,)"
            ]
          },
          "metadata": {
            "tags": []
          },
          "execution_count": 2180
        }
      ]
    },
    {
      "cell_type": "markdown",
      "metadata": {
        "id": "_PUTgI4hybNk"
      },
      "source": [
        "# Scaling data\n",
        "\n",
        "Before trying out some models, let's scale the data so that training will be easier. We'll use MinMaxScaler from scikit-learn.\n"
      ]
    },
    {
      "cell_type": "code",
      "metadata": {
        "id": "i_3zRC-xvqM2"
      },
      "source": [
        "from sklearn.preprocessing import MinMaxScaler"
      ],
      "execution_count": 2181,
      "outputs": []
    },
    {
      "cell_type": "code",
      "metadata": {
        "id": "pbhqwV_tyfGq"
      },
      "source": [
        "scaler = MinMaxScaler()"
      ],
      "execution_count": 2182,
      "outputs": []
    },
    {
      "cell_type": "code",
      "metadata": {
        "id": "f86VjNddyhpX"
      },
      "source": [
        "X_train = scaler.fit_transform(X_train)\n",
        "X_test = scaler.transform(X_test)"
      ],
      "execution_count": 2183,
      "outputs": []
    },
    {
      "cell_type": "code",
      "metadata": {
        "colab": {
          "base_uri": "https://localhost:8080/"
        },
        "id": "0iZx8fcWyrxv",
        "outputId": "81a573eb-e932-45dc-d379-6921ebfecec3"
      },
      "source": [
        "X_train.shape"
      ],
      "execution_count": 2184,
      "outputs": [
        {
          "output_type": "execute_result",
          "data": {
            "text/plain": [
              "(889, 22)"
            ]
          },
          "metadata": {
            "tags": []
          },
          "execution_count": 2184
        }
      ]
    },
    {
      "cell_type": "code",
      "metadata": {
        "colab": {
          "base_uri": "https://localhost:8080/"
        },
        "id": "uBisaCvSys_I",
        "outputId": "002f17e3-b216-4485-a851-132f8fa1964e"
      },
      "source": [
        "X_test.shape"
      ],
      "execution_count": 2185,
      "outputs": [
        {
          "output_type": "execute_result",
          "data": {
            "text/plain": [
              "(418, 22)"
            ]
          },
          "metadata": {
            "tags": []
          },
          "execution_count": 2185
        }
      ]
    },
    {
      "cell_type": "markdown",
      "metadata": {
        "id": "rL9JrkHk1-UZ"
      },
      "source": [
        "# Model Building\n",
        "\n",
        "Now, we'll try out different models from the scikit-learn library and see which one works the best for this problem. \n"
      ]
    },
    {
      "cell_type": "code",
      "metadata": {
        "id": "uL81_I7h2CbF"
      },
      "source": [
        "from sklearn.model_selection import cross_val_score\n",
        "from sklearn.linear_model import LogisticRegression\n",
        "from sklearn.tree import DecisionTreeClassifier\n",
        "from sklearn.neighbors import KNeighborsClassifier\n",
        "from sklearn.ensemble import RandomForestClassifier\n",
        "from sklearn.svm import SVC"
      ],
      "execution_count": 2186,
      "outputs": []
    },
    {
      "cell_type": "code",
      "metadata": {
        "colab": {
          "base_uri": "https://localhost:8080/"
        },
        "id": "N8mi-WYH2Tvs",
        "outputId": "7ffba507-9e25-486f-b769-95138e493589"
      },
      "source": [
        "# Implemented cross validation for better accuracy predictions\n",
        "\n",
        "logreg = LogisticRegression()\n",
        "logreg.fit(X_train, y_train)\n",
        "\n",
        "logreg_cv = cross_val_score(logreg,X_train,y_train,cv=5)\n",
        "logreg_cv_mean = round(logreg_cv.mean() * 100, 2)\n",
        "\n",
        "print(logreg_cv_mean)"
      ],
      "execution_count": 2187,
      "outputs": [
        {
          "output_type": "stream",
          "text": [
            "82.34\n"
          ],
          "name": "stdout"
        }
      ]
    },
    {
      "cell_type": "code",
      "metadata": {
        "colab": {
          "base_uri": "https://localhost:8080/"
        },
        "id": "v5H1YBEs3THd",
        "outputId": "b368e075-6cc0-47f5-a980-26b587f4bd0e"
      },
      "source": [
        "dectree = DecisionTreeClassifier()\n",
        "dectree.fit(X_train, y_train)\n",
        "\n",
        "\n",
        "dectree_cv = cross_val_score(dectree,X_train,y_train,cv=5)\n",
        "dectree_cv_mean = round(dectree_cv.mean() * 100, 2)\n",
        "\n",
        "print(dectree_cv_mean)"
      ],
      "execution_count": 2188,
      "outputs": [
        {
          "output_type": "stream",
          "text": [
            "78.63\n"
          ],
          "name": "stdout"
        }
      ]
    },
    {
      "cell_type": "code",
      "metadata": {
        "colab": {
          "base_uri": "https://localhost:8080/"
        },
        "id": "BIcCGABc9y8F",
        "outputId": "ffacf478-9fcf-45d1-9247-e26132c1aafb"
      },
      "source": [
        "knn = KNeighborsClassifier()\n",
        "knn.fit(X_train, y_train)\n",
        "\n",
        "\n",
        "knn_cv = cross_val_score(knn, X_train, y_train, cv=5)\n",
        "knn_cv_mean = round(knn_cv.mean() * 100, 2)\n",
        "\n",
        "print(knn_cv_mean)"
      ],
      "execution_count": 2189,
      "outputs": [
        {
          "output_type": "stream",
          "text": [
            "80.66\n"
          ],
          "name": "stdout"
        }
      ]
    },
    {
      "cell_type": "code",
      "metadata": {
        "colab": {
          "base_uri": "https://localhost:8080/"
        },
        "id": "4LXY4ec5-LCQ",
        "outputId": "8af3cc94-4d4d-4656-d4a6-462fa124d969"
      },
      "source": [
        "rf = RandomForestClassifier()\n",
        "rf.fit(X_train, y_train)\n",
        "\n",
        "\n",
        "rf_cv = cross_val_score(rf,X_train,y_train,cv=5)\n",
        "rf_cv_mean = round(rf_cv.mean() * 100, 2)\n",
        "\n",
        "print(rf_cv_mean)"
      ],
      "execution_count": 2190,
      "outputs": [
        {
          "output_type": "stream",
          "text": [
            "80.66\n"
          ],
          "name": "stdout"
        }
      ]
    },
    {
      "cell_type": "code",
      "metadata": {
        "colab": {
          "base_uri": "https://localhost:8080/"
        },
        "id": "bMXxeBZf-THH",
        "outputId": "0f2afd0a-0880-4546-fa18-f92f3f70f894"
      },
      "source": [
        "svc = SVC(probability = True)\n",
        "svc.fit(X_train, y_train)\n",
        "\n",
        "\n",
        "svc_cv = cross_val_score(svc,X_train,y_train,cv=5)\n",
        "svc_cv_mean = round(svc_cv.mean() * 100, 2)\n",
        "\n",
        "print(svc_cv_mean)"
      ],
      "execution_count": 2191,
      "outputs": [
        {
          "output_type": "stream",
          "text": [
            "81.67\n"
          ],
          "name": "stdout"
        }
      ]
    },
    {
      "cell_type": "code",
      "metadata": {
        "id": "Rjhjt4i2-XGC",
        "colab": {
          "base_uri": "https://localhost:8080/",
          "height": 204
        },
        "outputId": "bed6979f-353c-4cfe-aec4-e019714641dc"
      },
      "source": [
        "models = pd.DataFrame({\n",
        "    \"Model\": [\"Logistic Regression\", \"Decision Tree\", \"KNN\", \"Random Forest\", \"SVC\"],\n",
        "    \"Score\": [logreg_cv_mean, dectree_cv_mean, knn_cv_mean, rf_cv_mean, svc_cv_mean]\n",
        "})\n",
        "models.sort_values(\"Score\", ascending=False)\n"
      ],
      "execution_count": 2192,
      "outputs": [
        {
          "output_type": "execute_result",
          "data": {
            "text/html": [
              "<div>\n",
              "<style scoped>\n",
              "    .dataframe tbody tr th:only-of-type {\n",
              "        vertical-align: middle;\n",
              "    }\n",
              "\n",
              "    .dataframe tbody tr th {\n",
              "        vertical-align: top;\n",
              "    }\n",
              "\n",
              "    .dataframe thead th {\n",
              "        text-align: right;\n",
              "    }\n",
              "</style>\n",
              "<table border=\"1\" class=\"dataframe\">\n",
              "  <thead>\n",
              "    <tr style=\"text-align: right;\">\n",
              "      <th></th>\n",
              "      <th>Model</th>\n",
              "      <th>Score</th>\n",
              "    </tr>\n",
              "  </thead>\n",
              "  <tbody>\n",
              "    <tr>\n",
              "      <th>0</th>\n",
              "      <td>Logistic Regression</td>\n",
              "      <td>82.34</td>\n",
              "    </tr>\n",
              "    <tr>\n",
              "      <th>4</th>\n",
              "      <td>SVC</td>\n",
              "      <td>81.67</td>\n",
              "    </tr>\n",
              "    <tr>\n",
              "      <th>2</th>\n",
              "      <td>KNN</td>\n",
              "      <td>80.66</td>\n",
              "    </tr>\n",
              "    <tr>\n",
              "      <th>3</th>\n",
              "      <td>Random Forest</td>\n",
              "      <td>80.66</td>\n",
              "    </tr>\n",
              "    <tr>\n",
              "      <th>1</th>\n",
              "      <td>Decision Tree</td>\n",
              "      <td>78.63</td>\n",
              "    </tr>\n",
              "  </tbody>\n",
              "</table>\n",
              "</div>"
            ],
            "text/plain": [
              "                 Model  Score\n",
              "0  Logistic Regression  82.34\n",
              "4                  SVC  81.67\n",
              "2                  KNN  80.66\n",
              "3        Random Forest  80.66\n",
              "1        Decision Tree  78.63"
            ]
          },
          "metadata": {
            "tags": []
          },
          "execution_count": 2192
        }
      ]
    },
    {
      "cell_type": "markdown",
      "metadata": {
        "id": "KamInLTv-CMM"
      },
      "source": [
        "So it's clear that logistic regression worked the best for our problem! \n",
        "\n",
        "Just to satisfy my curiosity, let's try making a neural network using tensorflow (will be subject to overfitting since we don't have the test predictions to use for validation data)!"
      ]
    },
    {
      "cell_type": "code",
      "metadata": {
        "id": "1bA0V3VYulWF"
      },
      "source": [
        "# Trying out a neural network\n",
        "import tensorflow as tf\n",
        "from tensorflow.keras.models import Sequential\n",
        "from tensorflow.keras.layers import Dense, Dropout"
      ],
      "execution_count": 2193,
      "outputs": []
    },
    {
      "cell_type": "code",
      "metadata": {
        "id": "uiPu3bQUvKd3"
      },
      "source": [
        "model = Sequential()\n",
        "\n",
        "model.add(Dense(22, activation=\"relu\"))\n",
        "model.add(Dropout(0.4))\n",
        "model.add(Dense(11, activation=\"relu\"))\n",
        "model.add(Dense(1, activation=\"sigmoid\"))\n",
        "\n",
        "model.compile(loss=\"binary_crossentropy\", optimizer=\"adam\", metrics=[\"accuracy\"])"
      ],
      "execution_count": 2194,
      "outputs": []
    },
    {
      "cell_type": "code",
      "metadata": {
        "colab": {
          "base_uri": "https://localhost:8080/"
        },
        "id": "UYzvM4n2viJ3",
        "outputId": "dc822fe1-0ec7-4273-cc33-416a86da655e"
      },
      "source": [
        "model.fit(X_train, y_train, epochs=400, batch_size=256)"
      ],
      "execution_count": 2195,
      "outputs": [
        {
          "output_type": "stream",
          "text": [
            "Epoch 1/400\n",
            "4/4 [==============================] - 1s 4ms/step - loss: 0.7050 - accuracy: 0.4589\n",
            "Epoch 2/400\n",
            "4/4 [==============================] - 0s 4ms/step - loss: 0.6897 - accuracy: 0.5062\n",
            "Epoch 3/400\n",
            "4/4 [==============================] - 0s 5ms/step - loss: 0.6755 - accuracy: 0.5951\n",
            "Epoch 4/400\n",
            "4/4 [==============================] - 0s 4ms/step - loss: 0.6686 - accuracy: 0.6063\n",
            "Epoch 5/400\n",
            "4/4 [==============================] - 0s 5ms/step - loss: 0.6567 - accuracy: 0.6558\n",
            "Epoch 6/400\n",
            "4/4 [==============================] - 0s 4ms/step - loss: 0.6455 - accuracy: 0.6727\n",
            "Epoch 7/400\n",
            "4/4 [==============================] - 0s 4ms/step - loss: 0.6415 - accuracy: 0.6749\n",
            "Epoch 8/400\n",
            "4/4 [==============================] - 0s 5ms/step - loss: 0.6333 - accuracy: 0.6929\n",
            "Epoch 9/400\n",
            "4/4 [==============================] - 0s 4ms/step - loss: 0.6148 - accuracy: 0.7267\n",
            "Epoch 10/400\n",
            "4/4 [==============================] - 0s 5ms/step - loss: 0.6115 - accuracy: 0.7199\n",
            "Epoch 11/400\n",
            "4/4 [==============================] - 0s 5ms/step - loss: 0.6061 - accuracy: 0.7222\n",
            "Epoch 12/400\n",
            "4/4 [==============================] - 0s 6ms/step - loss: 0.5929 - accuracy: 0.7312\n",
            "Epoch 13/400\n",
            "4/4 [==============================] - 0s 4ms/step - loss: 0.5846 - accuracy: 0.7334\n",
            "Epoch 14/400\n",
            "4/4 [==============================] - 0s 4ms/step - loss: 0.5706 - accuracy: 0.7357\n",
            "Epoch 15/400\n",
            "4/4 [==============================] - 0s 4ms/step - loss: 0.5713 - accuracy: 0.7458\n",
            "Epoch 16/400\n",
            "4/4 [==============================] - 0s 5ms/step - loss: 0.5598 - accuracy: 0.7435\n",
            "Epoch 17/400\n",
            "4/4 [==============================] - 0s 4ms/step - loss: 0.5502 - accuracy: 0.7559\n",
            "Epoch 18/400\n",
            "4/4 [==============================] - 0s 5ms/step - loss: 0.5512 - accuracy: 0.7469\n",
            "Epoch 19/400\n",
            "4/4 [==============================] - 0s 7ms/step - loss: 0.5421 - accuracy: 0.7503\n",
            "Epoch 20/400\n",
            "4/4 [==============================] - 0s 5ms/step - loss: 0.5402 - accuracy: 0.7660\n",
            "Epoch 21/400\n",
            "4/4 [==============================] - 0s 5ms/step - loss: 0.5318 - accuracy: 0.7694\n",
            "Epoch 22/400\n",
            "4/4 [==============================] - 0s 5ms/step - loss: 0.5221 - accuracy: 0.7638\n",
            "Epoch 23/400\n",
            "4/4 [==============================] - 0s 5ms/step - loss: 0.5239 - accuracy: 0.7750\n",
            "Epoch 24/400\n",
            "4/4 [==============================] - 0s 4ms/step - loss: 0.5122 - accuracy: 0.7795\n",
            "Epoch 25/400\n",
            "4/4 [==============================] - 0s 5ms/step - loss: 0.5071 - accuracy: 0.7885\n",
            "Epoch 26/400\n",
            "4/4 [==============================] - 0s 4ms/step - loss: 0.5142 - accuracy: 0.7683\n",
            "Epoch 27/400\n",
            "4/4 [==============================] - 0s 6ms/step - loss: 0.4960 - accuracy: 0.7942\n",
            "Epoch 28/400\n",
            "4/4 [==============================] - 0s 5ms/step - loss: 0.4934 - accuracy: 0.7818\n",
            "Epoch 29/400\n",
            "4/4 [==============================] - 0s 5ms/step - loss: 0.4773 - accuracy: 0.7885\n",
            "Epoch 30/400\n",
            "4/4 [==============================] - 0s 6ms/step - loss: 0.4880 - accuracy: 0.7908\n",
            "Epoch 31/400\n",
            "4/4 [==============================] - 0s 4ms/step - loss: 0.4877 - accuracy: 0.7852\n",
            "Epoch 32/400\n",
            "4/4 [==============================] - 0s 5ms/step - loss: 0.4749 - accuracy: 0.8020\n",
            "Epoch 33/400\n",
            "4/4 [==============================] - 0s 5ms/step - loss: 0.4862 - accuracy: 0.7897\n",
            "Epoch 34/400\n",
            "4/4 [==============================] - 0s 5ms/step - loss: 0.4850 - accuracy: 0.7874\n",
            "Epoch 35/400\n",
            "4/4 [==============================] - 0s 4ms/step - loss: 0.4720 - accuracy: 0.8009\n",
            "Epoch 36/400\n",
            "4/4 [==============================] - 0s 4ms/step - loss: 0.4786 - accuracy: 0.7975\n",
            "Epoch 37/400\n",
            "4/4 [==============================] - 0s 4ms/step - loss: 0.4776 - accuracy: 0.7885\n",
            "Epoch 38/400\n",
            "4/4 [==============================] - 0s 4ms/step - loss: 0.4964 - accuracy: 0.7840\n",
            "Epoch 39/400\n",
            "4/4 [==============================] - 0s 5ms/step - loss: 0.4900 - accuracy: 0.7852\n",
            "Epoch 40/400\n",
            "4/4 [==============================] - 0s 4ms/step - loss: 0.4834 - accuracy: 0.7953\n",
            "Epoch 41/400\n",
            "4/4 [==============================] - 0s 5ms/step - loss: 0.4675 - accuracy: 0.7964\n",
            "Epoch 42/400\n",
            "4/4 [==============================] - 0s 5ms/step - loss: 0.4788 - accuracy: 0.7829\n",
            "Epoch 43/400\n",
            "4/4 [==============================] - 0s 5ms/step - loss: 0.4716 - accuracy: 0.7998\n",
            "Epoch 44/400\n",
            "4/4 [==============================] - 0s 4ms/step - loss: 0.4744 - accuracy: 0.7908\n",
            "Epoch 45/400\n",
            "4/4 [==============================] - 0s 5ms/step - loss: 0.4755 - accuracy: 0.8088\n",
            "Epoch 46/400\n",
            "4/4 [==============================] - 0s 4ms/step - loss: 0.4690 - accuracy: 0.7953\n",
            "Epoch 47/400\n",
            "4/4 [==============================] - 0s 6ms/step - loss: 0.4591 - accuracy: 0.8144\n",
            "Epoch 48/400\n",
            "4/4 [==============================] - 0s 6ms/step - loss: 0.4626 - accuracy: 0.8144\n",
            "Epoch 49/400\n",
            "4/4 [==============================] - 0s 5ms/step - loss: 0.4576 - accuracy: 0.8121\n",
            "Epoch 50/400\n",
            "4/4 [==============================] - 0s 4ms/step - loss: 0.4623 - accuracy: 0.7795\n",
            "Epoch 51/400\n",
            "4/4 [==============================] - 0s 5ms/step - loss: 0.4569 - accuracy: 0.8020\n",
            "Epoch 52/400\n",
            "4/4 [==============================] - 0s 4ms/step - loss: 0.4627 - accuracy: 0.7942\n",
            "Epoch 53/400\n",
            "4/4 [==============================] - 0s 6ms/step - loss: 0.4741 - accuracy: 0.7818\n",
            "Epoch 54/400\n",
            "4/4 [==============================] - 0s 3ms/step - loss: 0.4505 - accuracy: 0.8020\n",
            "Epoch 55/400\n",
            "4/4 [==============================] - 0s 4ms/step - loss: 0.4587 - accuracy: 0.8155\n",
            "Epoch 56/400\n",
            "4/4 [==============================] - 0s 3ms/step - loss: 0.4551 - accuracy: 0.8099\n",
            "Epoch 57/400\n",
            "4/4 [==============================] - 0s 4ms/step - loss: 0.4574 - accuracy: 0.7998\n",
            "Epoch 58/400\n",
            "4/4 [==============================] - 0s 3ms/step - loss: 0.4593 - accuracy: 0.7998\n",
            "Epoch 59/400\n",
            "4/4 [==============================] - 0s 8ms/step - loss: 0.4544 - accuracy: 0.8121\n",
            "Epoch 60/400\n",
            "4/4 [==============================] - 0s 5ms/step - loss: 0.4598 - accuracy: 0.8043\n",
            "Epoch 61/400\n",
            "4/4 [==============================] - 0s 5ms/step - loss: 0.4381 - accuracy: 0.8189\n",
            "Epoch 62/400\n",
            "4/4 [==============================] - 0s 5ms/step - loss: 0.4608 - accuracy: 0.8099\n",
            "Epoch 63/400\n",
            "4/4 [==============================] - 0s 5ms/step - loss: 0.4507 - accuracy: 0.8144\n",
            "Epoch 64/400\n",
            "4/4 [==============================] - 0s 4ms/step - loss: 0.4472 - accuracy: 0.8099\n",
            "Epoch 65/400\n",
            "4/4 [==============================] - 0s 4ms/step - loss: 0.4480 - accuracy: 0.8144\n",
            "Epoch 66/400\n",
            "4/4 [==============================] - 0s 4ms/step - loss: 0.4479 - accuracy: 0.8088\n",
            "Epoch 67/400\n",
            "4/4 [==============================] - 0s 4ms/step - loss: 0.4608 - accuracy: 0.8133\n",
            "Epoch 68/400\n",
            "4/4 [==============================] - 0s 5ms/step - loss: 0.4381 - accuracy: 0.8110\n",
            "Epoch 69/400\n",
            "4/4 [==============================] - 0s 7ms/step - loss: 0.4511 - accuracy: 0.7964\n",
            "Epoch 70/400\n",
            "4/4 [==============================] - 0s 5ms/step - loss: 0.4490 - accuracy: 0.8155\n",
            "Epoch 71/400\n",
            "4/4 [==============================] - 0s 9ms/step - loss: 0.4489 - accuracy: 0.8076\n",
            "Epoch 72/400\n",
            "4/4 [==============================] - 0s 7ms/step - loss: 0.4421 - accuracy: 0.8133\n",
            "Epoch 73/400\n",
            "4/4 [==============================] - 0s 7ms/step - loss: 0.4423 - accuracy: 0.8166\n",
            "Epoch 74/400\n",
            "4/4 [==============================] - 0s 5ms/step - loss: 0.4483 - accuracy: 0.8009\n",
            "Epoch 75/400\n",
            "4/4 [==============================] - 0s 5ms/step - loss: 0.4426 - accuracy: 0.8043\n",
            "Epoch 76/400\n",
            "4/4 [==============================] - 0s 4ms/step - loss: 0.4426 - accuracy: 0.8166\n",
            "Epoch 77/400\n",
            "4/4 [==============================] - 0s 5ms/step - loss: 0.4421 - accuracy: 0.8043\n",
            "Epoch 78/400\n",
            "4/4 [==============================] - 0s 6ms/step - loss: 0.4351 - accuracy: 0.8121\n",
            "Epoch 79/400\n",
            "4/4 [==============================] - 0s 5ms/step - loss: 0.4383 - accuracy: 0.8110\n",
            "Epoch 80/400\n",
            "4/4 [==============================] - 0s 4ms/step - loss: 0.4431 - accuracy: 0.8099\n",
            "Epoch 81/400\n",
            "4/4 [==============================] - 0s 4ms/step - loss: 0.4313 - accuracy: 0.8121\n",
            "Epoch 82/400\n",
            "4/4 [==============================] - 0s 5ms/step - loss: 0.4356 - accuracy: 0.8223\n",
            "Epoch 83/400\n",
            "4/4 [==============================] - 0s 5ms/step - loss: 0.4464 - accuracy: 0.8009\n",
            "Epoch 84/400\n",
            "4/4 [==============================] - 0s 5ms/step - loss: 0.4290 - accuracy: 0.8256\n",
            "Epoch 85/400\n",
            "4/4 [==============================] - 0s 5ms/step - loss: 0.4245 - accuracy: 0.8155\n",
            "Epoch 86/400\n",
            "4/4 [==============================] - 0s 5ms/step - loss: 0.4381 - accuracy: 0.8223\n",
            "Epoch 87/400\n",
            "4/4 [==============================] - 0s 5ms/step - loss: 0.4336 - accuracy: 0.8290\n",
            "Epoch 88/400\n",
            "4/4 [==============================] - 0s 5ms/step - loss: 0.4296 - accuracy: 0.8290\n",
            "Epoch 89/400\n",
            "4/4 [==============================] - 0s 5ms/step - loss: 0.4232 - accuracy: 0.8211\n",
            "Epoch 90/400\n",
            "4/4 [==============================] - 0s 6ms/step - loss: 0.4291 - accuracy: 0.8189\n",
            "Epoch 91/400\n",
            "4/4 [==============================] - 0s 5ms/step - loss: 0.4356 - accuracy: 0.8099\n",
            "Epoch 92/400\n",
            "4/4 [==============================] - 0s 4ms/step - loss: 0.4250 - accuracy: 0.8189\n",
            "Epoch 93/400\n",
            "4/4 [==============================] - 0s 7ms/step - loss: 0.4345 - accuracy: 0.8166\n",
            "Epoch 94/400\n",
            "4/4 [==============================] - 0s 5ms/step - loss: 0.4256 - accuracy: 0.8290\n",
            "Epoch 95/400\n",
            "4/4 [==============================] - 0s 4ms/step - loss: 0.4247 - accuracy: 0.8054\n",
            "Epoch 96/400\n",
            "4/4 [==============================] - 0s 5ms/step - loss: 0.4240 - accuracy: 0.8268\n",
            "Epoch 97/400\n",
            "4/4 [==============================] - 0s 6ms/step - loss: 0.4251 - accuracy: 0.8324\n",
            "Epoch 98/400\n",
            "4/4 [==============================] - 0s 5ms/step - loss: 0.4544 - accuracy: 0.8166\n",
            "Epoch 99/400\n",
            "4/4 [==============================] - 0s 4ms/step - loss: 0.4302 - accuracy: 0.8223\n",
            "Epoch 100/400\n",
            "4/4 [==============================] - 0s 7ms/step - loss: 0.4218 - accuracy: 0.8223\n",
            "Epoch 101/400\n",
            "4/4 [==============================] - 0s 4ms/step - loss: 0.4195 - accuracy: 0.8211\n",
            "Epoch 102/400\n",
            "4/4 [==============================] - 0s 5ms/step - loss: 0.4187 - accuracy: 0.8358\n",
            "Epoch 103/400\n",
            "4/4 [==============================] - 0s 5ms/step - loss: 0.4349 - accuracy: 0.8335\n",
            "Epoch 104/400\n",
            "4/4 [==============================] - 0s 5ms/step - loss: 0.4352 - accuracy: 0.8200\n",
            "Epoch 105/400\n",
            "4/4 [==============================] - 0s 5ms/step - loss: 0.4317 - accuracy: 0.8279\n",
            "Epoch 106/400\n",
            "4/4 [==============================] - 0s 6ms/step - loss: 0.4246 - accuracy: 0.8279\n",
            "Epoch 107/400\n",
            "4/4 [==============================] - 0s 5ms/step - loss: 0.4221 - accuracy: 0.8391\n",
            "Epoch 108/400\n",
            "4/4 [==============================] - 0s 7ms/step - loss: 0.4188 - accuracy: 0.8346\n",
            "Epoch 109/400\n",
            "4/4 [==============================] - 0s 4ms/step - loss: 0.4308 - accuracy: 0.8313\n",
            "Epoch 110/400\n",
            "4/4 [==============================] - 0s 4ms/step - loss: 0.4274 - accuracy: 0.8369\n",
            "Epoch 111/400\n",
            "4/4 [==============================] - 0s 4ms/step - loss: 0.4179 - accuracy: 0.8290\n",
            "Epoch 112/400\n",
            "4/4 [==============================] - 0s 5ms/step - loss: 0.4353 - accuracy: 0.8155\n",
            "Epoch 113/400\n",
            "4/4 [==============================] - 0s 6ms/step - loss: 0.4299 - accuracy: 0.8189\n",
            "Epoch 114/400\n",
            "4/4 [==============================] - 0s 6ms/step - loss: 0.4154 - accuracy: 0.8369\n",
            "Epoch 115/400\n",
            "4/4 [==============================] - 0s 4ms/step - loss: 0.4189 - accuracy: 0.8234\n",
            "Epoch 116/400\n",
            "4/4 [==============================] - 0s 5ms/step - loss: 0.4270 - accuracy: 0.8346\n",
            "Epoch 117/400\n",
            "4/4 [==============================] - 0s 6ms/step - loss: 0.4026 - accuracy: 0.8346\n",
            "Epoch 118/400\n",
            "4/4 [==============================] - 0s 6ms/step - loss: 0.4119 - accuracy: 0.8346\n",
            "Epoch 119/400\n",
            "4/4 [==============================] - 0s 4ms/step - loss: 0.4069 - accuracy: 0.8436\n",
            "Epoch 120/400\n",
            "4/4 [==============================] - 0s 6ms/step - loss: 0.4089 - accuracy: 0.8268\n",
            "Epoch 121/400\n",
            "4/4 [==============================] - 0s 5ms/step - loss: 0.4239 - accuracy: 0.8290\n",
            "Epoch 122/400\n",
            "4/4 [==============================] - 0s 4ms/step - loss: 0.4208 - accuracy: 0.8234\n",
            "Epoch 123/400\n",
            "4/4 [==============================] - 0s 6ms/step - loss: 0.4077 - accuracy: 0.8369\n",
            "Epoch 124/400\n",
            "4/4 [==============================] - 0s 4ms/step - loss: 0.4238 - accuracy: 0.8279\n",
            "Epoch 125/400\n",
            "4/4 [==============================] - 0s 7ms/step - loss: 0.4241 - accuracy: 0.8358\n",
            "Epoch 126/400\n",
            "4/4 [==============================] - 0s 6ms/step - loss: 0.4024 - accuracy: 0.8493\n",
            "Epoch 127/400\n",
            "4/4 [==============================] - 0s 8ms/step - loss: 0.4117 - accuracy: 0.8211\n",
            "Epoch 128/400\n",
            "4/4 [==============================] - 0s 7ms/step - loss: 0.4238 - accuracy: 0.8256\n",
            "Epoch 129/400\n",
            "4/4 [==============================] - 0s 4ms/step - loss: 0.4175 - accuracy: 0.8223\n",
            "Epoch 130/400\n",
            "4/4 [==============================] - 0s 5ms/step - loss: 0.4191 - accuracy: 0.8358\n",
            "Epoch 131/400\n",
            "4/4 [==============================] - 0s 5ms/step - loss: 0.4120 - accuracy: 0.8358\n",
            "Epoch 132/400\n",
            "4/4 [==============================] - 0s 7ms/step - loss: 0.4184 - accuracy: 0.8403\n",
            "Epoch 133/400\n",
            "4/4 [==============================] - 0s 5ms/step - loss: 0.4140 - accuracy: 0.8313\n",
            "Epoch 134/400\n",
            "4/4 [==============================] - 0s 5ms/step - loss: 0.4164 - accuracy: 0.8436\n",
            "Epoch 135/400\n",
            "4/4 [==============================] - 0s 5ms/step - loss: 0.4126 - accuracy: 0.8324\n",
            "Epoch 136/400\n",
            "4/4 [==============================] - 0s 4ms/step - loss: 0.4122 - accuracy: 0.8380\n",
            "Epoch 137/400\n",
            "4/4 [==============================] - 0s 7ms/step - loss: 0.4043 - accuracy: 0.8324\n",
            "Epoch 138/400\n",
            "4/4 [==============================] - 0s 4ms/step - loss: 0.4063 - accuracy: 0.8459\n",
            "Epoch 139/400\n",
            "4/4 [==============================] - 0s 4ms/step - loss: 0.4098 - accuracy: 0.8346\n",
            "Epoch 140/400\n",
            "4/4 [==============================] - 0s 4ms/step - loss: 0.4126 - accuracy: 0.8335\n",
            "Epoch 141/400\n",
            "4/4 [==============================] - 0s 4ms/step - loss: 0.4190 - accuracy: 0.8346\n",
            "Epoch 142/400\n",
            "4/4 [==============================] - 0s 6ms/step - loss: 0.4146 - accuracy: 0.8301\n",
            "Epoch 143/400\n",
            "4/4 [==============================] - 0s 3ms/step - loss: 0.4205 - accuracy: 0.8290\n",
            "Epoch 144/400\n",
            "4/4 [==============================] - 0s 4ms/step - loss: 0.4235 - accuracy: 0.8234\n",
            "Epoch 145/400\n",
            "4/4 [==============================] - 0s 5ms/step - loss: 0.4141 - accuracy: 0.8324\n",
            "Epoch 146/400\n",
            "4/4 [==============================] - 0s 8ms/step - loss: 0.4116 - accuracy: 0.8290\n",
            "Epoch 147/400\n",
            "4/4 [==============================] - 0s 5ms/step - loss: 0.4169 - accuracy: 0.8211\n",
            "Epoch 148/400\n",
            "4/4 [==============================] - 0s 5ms/step - loss: 0.4181 - accuracy: 0.8301\n",
            "Epoch 149/400\n",
            "4/4 [==============================] - 0s 7ms/step - loss: 0.3989 - accuracy: 0.8380\n",
            "Epoch 150/400\n",
            "4/4 [==============================] - 0s 5ms/step - loss: 0.4143 - accuracy: 0.8313\n",
            "Epoch 151/400\n",
            "4/4 [==============================] - 0s 6ms/step - loss: 0.4169 - accuracy: 0.8369\n",
            "Epoch 152/400\n",
            "4/4 [==============================] - 0s 4ms/step - loss: 0.4181 - accuracy: 0.8425\n",
            "Epoch 153/400\n",
            "4/4 [==============================] - 0s 6ms/step - loss: 0.4146 - accuracy: 0.8335\n",
            "Epoch 154/400\n",
            "4/4 [==============================] - 0s 4ms/step - loss: 0.4150 - accuracy: 0.8166\n",
            "Epoch 155/400\n",
            "4/4 [==============================] - 0s 4ms/step - loss: 0.4125 - accuracy: 0.8448\n",
            "Epoch 156/400\n",
            "4/4 [==============================] - 0s 4ms/step - loss: 0.3992 - accuracy: 0.8391\n",
            "Epoch 157/400\n",
            "4/4 [==============================] - 0s 4ms/step - loss: 0.4028 - accuracy: 0.8256\n",
            "Epoch 158/400\n",
            "4/4 [==============================] - 0s 6ms/step - loss: 0.4230 - accuracy: 0.8268\n",
            "Epoch 159/400\n",
            "4/4 [==============================] - 0s 5ms/step - loss: 0.4083 - accuracy: 0.8324\n",
            "Epoch 160/400\n",
            "4/4 [==============================] - 0s 5ms/step - loss: 0.4156 - accuracy: 0.8268\n",
            "Epoch 161/400\n",
            "4/4 [==============================] - 0s 4ms/step - loss: 0.4170 - accuracy: 0.8290\n",
            "Epoch 162/400\n",
            "4/4 [==============================] - 0s 4ms/step - loss: 0.4109 - accuracy: 0.8391\n",
            "Epoch 163/400\n",
            "4/4 [==============================] - 0s 4ms/step - loss: 0.4065 - accuracy: 0.8369\n",
            "Epoch 164/400\n",
            "4/4 [==============================] - 0s 4ms/step - loss: 0.4024 - accuracy: 0.8358\n",
            "Epoch 165/400\n",
            "4/4 [==============================] - 0s 5ms/step - loss: 0.4148 - accuracy: 0.8301\n",
            "Epoch 166/400\n",
            "4/4 [==============================] - 0s 4ms/step - loss: 0.4003 - accuracy: 0.8414\n",
            "Epoch 167/400\n",
            "4/4 [==============================] - 0s 4ms/step - loss: 0.3969 - accuracy: 0.8436\n",
            "Epoch 168/400\n",
            "4/4 [==============================] - 0s 4ms/step - loss: 0.4159 - accuracy: 0.8313\n",
            "Epoch 169/400\n",
            "4/4 [==============================] - 0s 6ms/step - loss: 0.4210 - accuracy: 0.8346\n",
            "Epoch 170/400\n",
            "4/4 [==============================] - 0s 4ms/step - loss: 0.3975 - accuracy: 0.8448\n",
            "Epoch 171/400\n",
            "4/4 [==============================] - 0s 8ms/step - loss: 0.3996 - accuracy: 0.8436\n",
            "Epoch 172/400\n",
            "4/4 [==============================] - 0s 7ms/step - loss: 0.3911 - accuracy: 0.8414\n",
            "Epoch 173/400\n",
            "4/4 [==============================] - 0s 4ms/step - loss: 0.3936 - accuracy: 0.8425\n",
            "Epoch 174/400\n",
            "4/4 [==============================] - 0s 5ms/step - loss: 0.4086 - accuracy: 0.8346\n",
            "Epoch 175/400\n",
            "4/4 [==============================] - 0s 5ms/step - loss: 0.3973 - accuracy: 0.8403\n",
            "Epoch 176/400\n",
            "4/4 [==============================] - 0s 4ms/step - loss: 0.4023 - accuracy: 0.8391\n",
            "Epoch 177/400\n",
            "4/4 [==============================] - 0s 8ms/step - loss: 0.4029 - accuracy: 0.8313\n",
            "Epoch 178/400\n",
            "4/4 [==============================] - 0s 5ms/step - loss: 0.4068 - accuracy: 0.8346\n",
            "Epoch 179/400\n",
            "4/4 [==============================] - 0s 5ms/step - loss: 0.3930 - accuracy: 0.8391\n",
            "Epoch 180/400\n",
            "4/4 [==============================] - 0s 6ms/step - loss: 0.4008 - accuracy: 0.8425\n",
            "Epoch 181/400\n",
            "4/4 [==============================] - 0s 4ms/step - loss: 0.4082 - accuracy: 0.8380\n",
            "Epoch 182/400\n",
            "4/4 [==============================] - 0s 6ms/step - loss: 0.4068 - accuracy: 0.8391\n",
            "Epoch 183/400\n",
            "4/4 [==============================] - 0s 4ms/step - loss: 0.4201 - accuracy: 0.8290\n",
            "Epoch 184/400\n",
            "4/4 [==============================] - 0s 7ms/step - loss: 0.4143 - accuracy: 0.8324\n",
            "Epoch 185/400\n",
            "4/4 [==============================] - 0s 7ms/step - loss: 0.4111 - accuracy: 0.8301\n",
            "Epoch 186/400\n",
            "4/4 [==============================] - 0s 6ms/step - loss: 0.4116 - accuracy: 0.8459\n",
            "Epoch 187/400\n",
            "4/4 [==============================] - 0s 6ms/step - loss: 0.4093 - accuracy: 0.8335\n",
            "Epoch 188/400\n",
            "4/4 [==============================] - 0s 6ms/step - loss: 0.4054 - accuracy: 0.8369\n",
            "Epoch 189/400\n",
            "4/4 [==============================] - 0s 6ms/step - loss: 0.3937 - accuracy: 0.8369\n",
            "Epoch 190/400\n",
            "4/4 [==============================] - 0s 5ms/step - loss: 0.3940 - accuracy: 0.8403\n",
            "Epoch 191/400\n",
            "4/4 [==============================] - 0s 5ms/step - loss: 0.3905 - accuracy: 0.8481\n",
            "Epoch 192/400\n",
            "4/4 [==============================] - 0s 5ms/step - loss: 0.3868 - accuracy: 0.8504\n",
            "Epoch 193/400\n",
            "4/4 [==============================] - 0s 5ms/step - loss: 0.4068 - accuracy: 0.8324\n",
            "Epoch 194/400\n",
            "4/4 [==============================] - 0s 4ms/step - loss: 0.3910 - accuracy: 0.8403\n",
            "Epoch 195/400\n",
            "4/4 [==============================] - 0s 4ms/step - loss: 0.3924 - accuracy: 0.8403\n",
            "Epoch 196/400\n",
            "4/4 [==============================] - 0s 6ms/step - loss: 0.3971 - accuracy: 0.8414\n",
            "Epoch 197/400\n",
            "4/4 [==============================] - 0s 5ms/step - loss: 0.3986 - accuracy: 0.8380\n",
            "Epoch 198/400\n",
            "4/4 [==============================] - 0s 4ms/step - loss: 0.3952 - accuracy: 0.8403\n",
            "Epoch 199/400\n",
            "4/4 [==============================] - 0s 5ms/step - loss: 0.3952 - accuracy: 0.8436\n",
            "Epoch 200/400\n",
            "4/4 [==============================] - 0s 5ms/step - loss: 0.4027 - accuracy: 0.8414\n",
            "Epoch 201/400\n",
            "4/4 [==============================] - 0s 5ms/step - loss: 0.4019 - accuracy: 0.8346\n",
            "Epoch 202/400\n",
            "4/4 [==============================] - 0s 4ms/step - loss: 0.3848 - accuracy: 0.8504\n",
            "Epoch 203/400\n",
            "4/4 [==============================] - 0s 6ms/step - loss: 0.3993 - accuracy: 0.8324\n",
            "Epoch 204/400\n",
            "4/4 [==============================] - 0s 6ms/step - loss: 0.3997 - accuracy: 0.8346\n",
            "Epoch 205/400\n",
            "4/4 [==============================] - 0s 5ms/step - loss: 0.4015 - accuracy: 0.8380\n",
            "Epoch 206/400\n",
            "4/4 [==============================] - 0s 5ms/step - loss: 0.3963 - accuracy: 0.8358\n",
            "Epoch 207/400\n",
            "4/4 [==============================] - 0s 4ms/step - loss: 0.4037 - accuracy: 0.8425\n",
            "Epoch 208/400\n",
            "4/4 [==============================] - 0s 5ms/step - loss: 0.3995 - accuracy: 0.8391\n",
            "Epoch 209/400\n",
            "4/4 [==============================] - 0s 5ms/step - loss: 0.4034 - accuracy: 0.8414\n",
            "Epoch 210/400\n",
            "4/4 [==============================] - 0s 5ms/step - loss: 0.3849 - accuracy: 0.8538\n",
            "Epoch 211/400\n",
            "4/4 [==============================] - 0s 5ms/step - loss: 0.3856 - accuracy: 0.8436\n",
            "Epoch 212/400\n",
            "4/4 [==============================] - 0s 4ms/step - loss: 0.3949 - accuracy: 0.8459\n",
            "Epoch 213/400\n",
            "4/4 [==============================] - 0s 6ms/step - loss: 0.4025 - accuracy: 0.8335\n",
            "Epoch 214/400\n",
            "4/4 [==============================] - 0s 6ms/step - loss: 0.3979 - accuracy: 0.8481\n",
            "Epoch 215/400\n",
            "4/4 [==============================] - 0s 5ms/step - loss: 0.4049 - accuracy: 0.8403\n",
            "Epoch 216/400\n",
            "4/4 [==============================] - 0s 5ms/step - loss: 0.4003 - accuracy: 0.8436\n",
            "Epoch 217/400\n",
            "4/4 [==============================] - 0s 5ms/step - loss: 0.3854 - accuracy: 0.8414\n",
            "Epoch 218/400\n",
            "4/4 [==============================] - 0s 5ms/step - loss: 0.3981 - accuracy: 0.8493\n",
            "Epoch 219/400\n",
            "4/4 [==============================] - 0s 5ms/step - loss: 0.3970 - accuracy: 0.8425\n",
            "Epoch 220/400\n",
            "4/4 [==============================] - 0s 6ms/step - loss: 0.3930 - accuracy: 0.8448\n",
            "Epoch 221/400\n",
            "4/4 [==============================] - 0s 8ms/step - loss: 0.3961 - accuracy: 0.8448\n",
            "Epoch 222/400\n",
            "4/4 [==============================] - 0s 5ms/step - loss: 0.4005 - accuracy: 0.8403\n",
            "Epoch 223/400\n",
            "4/4 [==============================] - 0s 7ms/step - loss: 0.3952 - accuracy: 0.8403\n",
            "Epoch 224/400\n",
            "4/4 [==============================] - 0s 5ms/step - loss: 0.3966 - accuracy: 0.8414\n",
            "Epoch 225/400\n",
            "4/4 [==============================] - 0s 4ms/step - loss: 0.3911 - accuracy: 0.8526\n",
            "Epoch 226/400\n",
            "4/4 [==============================] - 0s 5ms/step - loss: 0.3893 - accuracy: 0.8493\n",
            "Epoch 227/400\n",
            "4/4 [==============================] - 0s 7ms/step - loss: 0.3914 - accuracy: 0.8493\n",
            "Epoch 228/400\n",
            "4/4 [==============================] - 0s 6ms/step - loss: 0.3912 - accuracy: 0.8425\n",
            "Epoch 229/400\n",
            "4/4 [==============================] - 0s 4ms/step - loss: 0.3884 - accuracy: 0.8515\n",
            "Epoch 230/400\n",
            "4/4 [==============================] - 0s 4ms/step - loss: 0.3965 - accuracy: 0.8301\n",
            "Epoch 231/400\n",
            "4/4 [==============================] - 0s 4ms/step - loss: 0.3923 - accuracy: 0.8369\n",
            "Epoch 232/400\n",
            "4/4 [==============================] - 0s 4ms/step - loss: 0.3794 - accuracy: 0.8414\n",
            "Epoch 233/400\n",
            "4/4 [==============================] - 0s 4ms/step - loss: 0.3931 - accuracy: 0.8549\n",
            "Epoch 234/400\n",
            "4/4 [==============================] - 0s 5ms/step - loss: 0.3823 - accuracy: 0.8436\n",
            "Epoch 235/400\n",
            "4/4 [==============================] - 0s 7ms/step - loss: 0.3865 - accuracy: 0.8481\n",
            "Epoch 236/400\n",
            "4/4 [==============================] - 0s 6ms/step - loss: 0.3875 - accuracy: 0.8425\n",
            "Epoch 237/400\n",
            "4/4 [==============================] - 0s 5ms/step - loss: 0.3892 - accuracy: 0.8425\n",
            "Epoch 238/400\n",
            "4/4 [==============================] - 0s 5ms/step - loss: 0.3844 - accuracy: 0.8414\n",
            "Epoch 239/400\n",
            "4/4 [==============================] - 0s 4ms/step - loss: 0.3813 - accuracy: 0.8403\n",
            "Epoch 240/400\n",
            "4/4 [==============================] - 0s 5ms/step - loss: 0.3874 - accuracy: 0.8459\n",
            "Epoch 241/400\n",
            "4/4 [==============================] - 0s 4ms/step - loss: 0.3901 - accuracy: 0.8403\n",
            "Epoch 242/400\n",
            "4/4 [==============================] - 0s 4ms/step - loss: 0.3863 - accuracy: 0.8414\n",
            "Epoch 243/400\n",
            "4/4 [==============================] - 0s 6ms/step - loss: 0.3857 - accuracy: 0.8470\n",
            "Epoch 244/400\n",
            "4/4 [==============================] - 0s 6ms/step - loss: 0.3860 - accuracy: 0.8436\n",
            "Epoch 245/400\n",
            "4/4 [==============================] - 0s 5ms/step - loss: 0.3912 - accuracy: 0.8403\n",
            "Epoch 246/400\n",
            "4/4 [==============================] - 0s 5ms/step - loss: 0.3893 - accuracy: 0.8391\n",
            "Epoch 247/400\n",
            "4/4 [==============================] - 0s 4ms/step - loss: 0.3744 - accuracy: 0.8628\n",
            "Epoch 248/400\n",
            "4/4 [==============================] - 0s 7ms/step - loss: 0.3870 - accuracy: 0.8425\n",
            "Epoch 249/400\n",
            "4/4 [==============================] - 0s 7ms/step - loss: 0.3866 - accuracy: 0.8403\n",
            "Epoch 250/400\n",
            "4/4 [==============================] - 0s 4ms/step - loss: 0.3879 - accuracy: 0.8403\n",
            "Epoch 251/400\n",
            "4/4 [==============================] - 0s 5ms/step - loss: 0.3800 - accuracy: 0.8526\n",
            "Epoch 252/400\n",
            "4/4 [==============================] - 0s 6ms/step - loss: 0.3964 - accuracy: 0.8436\n",
            "Epoch 253/400\n",
            "4/4 [==============================] - 0s 9ms/step - loss: 0.3926 - accuracy: 0.8414\n",
            "Epoch 254/400\n",
            "4/4 [==============================] - 0s 5ms/step - loss: 0.3878 - accuracy: 0.8436\n",
            "Epoch 255/400\n",
            "4/4 [==============================] - 0s 4ms/step - loss: 0.3785 - accuracy: 0.8481\n",
            "Epoch 256/400\n",
            "4/4 [==============================] - 0s 5ms/step - loss: 0.3759 - accuracy: 0.8526\n",
            "Epoch 257/400\n",
            "4/4 [==============================] - 0s 5ms/step - loss: 0.3859 - accuracy: 0.8538\n",
            "Epoch 258/400\n",
            "4/4 [==============================] - 0s 4ms/step - loss: 0.3823 - accuracy: 0.8414\n",
            "Epoch 259/400\n",
            "4/4 [==============================] - 0s 5ms/step - loss: 0.3919 - accuracy: 0.8358\n",
            "Epoch 260/400\n",
            "4/4 [==============================] - 0s 6ms/step - loss: 0.3932 - accuracy: 0.8369\n",
            "Epoch 261/400\n",
            "4/4 [==============================] - 0s 4ms/step - loss: 0.3813 - accuracy: 0.8481\n",
            "Epoch 262/400\n",
            "4/4 [==============================] - 0s 4ms/step - loss: 0.3806 - accuracy: 0.8560\n",
            "Epoch 263/400\n",
            "4/4 [==============================] - 0s 7ms/step - loss: 0.3825 - accuracy: 0.8538\n",
            "Epoch 264/400\n",
            "4/4 [==============================] - 0s 4ms/step - loss: 0.3821 - accuracy: 0.8504\n",
            "Epoch 265/400\n",
            "4/4 [==============================] - 0s 5ms/step - loss: 0.3831 - accuracy: 0.8493\n",
            "Epoch 266/400\n",
            "4/4 [==============================] - 0s 5ms/step - loss: 0.3897 - accuracy: 0.8425\n",
            "Epoch 267/400\n",
            "4/4 [==============================] - 0s 5ms/step - loss: 0.3831 - accuracy: 0.8403\n",
            "Epoch 268/400\n",
            "4/4 [==============================] - 0s 7ms/step - loss: 0.3774 - accuracy: 0.8571\n",
            "Epoch 269/400\n",
            "4/4 [==============================] - 0s 5ms/step - loss: 0.3784 - accuracy: 0.8493\n",
            "Epoch 270/400\n",
            "4/4 [==============================] - 0s 6ms/step - loss: 0.3738 - accuracy: 0.8493\n",
            "Epoch 271/400\n",
            "4/4 [==============================] - 0s 5ms/step - loss: 0.3837 - accuracy: 0.8481\n",
            "Epoch 272/400\n",
            "4/4 [==============================] - 0s 5ms/step - loss: 0.3885 - accuracy: 0.8436\n",
            "Epoch 273/400\n",
            "4/4 [==============================] - 0s 6ms/step - loss: 0.3749 - accuracy: 0.8571\n",
            "Epoch 274/400\n",
            "4/4 [==============================] - 0s 6ms/step - loss: 0.3802 - accuracy: 0.8538\n",
            "Epoch 275/400\n",
            "4/4 [==============================] - 0s 4ms/step - loss: 0.3712 - accuracy: 0.8616\n",
            "Epoch 276/400\n",
            "4/4 [==============================] - 0s 4ms/step - loss: 0.3860 - accuracy: 0.8459\n",
            "Epoch 277/400\n",
            "4/4 [==============================] - 0s 4ms/step - loss: 0.3885 - accuracy: 0.8481\n",
            "Epoch 278/400\n",
            "4/4 [==============================] - 0s 4ms/step - loss: 0.3771 - accuracy: 0.8515\n",
            "Epoch 279/400\n",
            "4/4 [==============================] - 0s 6ms/step - loss: 0.3832 - accuracy: 0.8515\n",
            "Epoch 280/400\n",
            "4/4 [==============================] - 0s 6ms/step - loss: 0.3852 - accuracy: 0.8459\n",
            "Epoch 281/400\n",
            "4/4 [==============================] - 0s 4ms/step - loss: 0.3897 - accuracy: 0.8481\n",
            "Epoch 282/400\n",
            "4/4 [==============================] - 0s 4ms/step - loss: 0.3846 - accuracy: 0.8459\n",
            "Epoch 283/400\n",
            "4/4 [==============================] - 0s 5ms/step - loss: 0.3797 - accuracy: 0.8504\n",
            "Epoch 284/400\n",
            "4/4 [==============================] - 0s 8ms/step - loss: 0.3867 - accuracy: 0.8459\n",
            "Epoch 285/400\n",
            "4/4 [==============================] - 0s 4ms/step - loss: 0.3857 - accuracy: 0.8425\n",
            "Epoch 286/400\n",
            "4/4 [==============================] - 0s 6ms/step - loss: 0.3863 - accuracy: 0.8481\n",
            "Epoch 287/400\n",
            "4/4 [==============================] - 0s 6ms/step - loss: 0.3915 - accuracy: 0.8380\n",
            "Epoch 288/400\n",
            "4/4 [==============================] - 0s 4ms/step - loss: 0.3828 - accuracy: 0.8403\n",
            "Epoch 289/400\n",
            "4/4 [==============================] - 0s 6ms/step - loss: 0.3828 - accuracy: 0.8459\n",
            "Epoch 290/400\n",
            "4/4 [==============================] - 0s 5ms/step - loss: 0.3811 - accuracy: 0.8515\n",
            "Epoch 291/400\n",
            "4/4 [==============================] - 0s 8ms/step - loss: 0.3755 - accuracy: 0.8414\n",
            "Epoch 292/400\n",
            "4/4 [==============================] - 0s 5ms/step - loss: 0.3800 - accuracy: 0.8470\n",
            "Epoch 293/400\n",
            "4/4 [==============================] - 0s 6ms/step - loss: 0.3824 - accuracy: 0.8481\n",
            "Epoch 294/400\n",
            "4/4 [==============================] - 0s 6ms/step - loss: 0.3858 - accuracy: 0.8504\n",
            "Epoch 295/400\n",
            "4/4 [==============================] - 0s 6ms/step - loss: 0.3850 - accuracy: 0.8414\n",
            "Epoch 296/400\n",
            "4/4 [==============================] - 0s 6ms/step - loss: 0.3766 - accuracy: 0.8425\n",
            "Epoch 297/400\n",
            "4/4 [==============================] - 0s 7ms/step - loss: 0.3864 - accuracy: 0.8403\n",
            "Epoch 298/400\n",
            "4/4 [==============================] - 0s 6ms/step - loss: 0.3747 - accuracy: 0.8526\n",
            "Epoch 299/400\n",
            "4/4 [==============================] - 0s 5ms/step - loss: 0.3808 - accuracy: 0.8470\n",
            "Epoch 300/400\n",
            "4/4 [==============================] - 0s 5ms/step - loss: 0.3781 - accuracy: 0.8493\n",
            "Epoch 301/400\n",
            "4/4 [==============================] - 0s 5ms/step - loss: 0.3711 - accuracy: 0.8571\n",
            "Epoch 302/400\n",
            "4/4 [==============================] - 0s 6ms/step - loss: 0.3768 - accuracy: 0.8504\n",
            "Epoch 303/400\n",
            "4/4 [==============================] - 0s 4ms/step - loss: 0.3853 - accuracy: 0.8425\n",
            "Epoch 304/400\n",
            "4/4 [==============================] - 0s 4ms/step - loss: 0.3774 - accuracy: 0.8459\n",
            "Epoch 305/400\n",
            "4/4 [==============================] - 0s 4ms/step - loss: 0.3894 - accuracy: 0.8436\n",
            "Epoch 306/400\n",
            "4/4 [==============================] - 0s 5ms/step - loss: 0.3753 - accuracy: 0.8459\n",
            "Epoch 307/400\n",
            "4/4 [==============================] - 0s 5ms/step - loss: 0.3746 - accuracy: 0.8493\n",
            "Epoch 308/400\n",
            "4/4 [==============================] - 0s 4ms/step - loss: 0.3849 - accuracy: 0.8493\n",
            "Epoch 309/400\n",
            "4/4 [==============================] - 0s 4ms/step - loss: 0.3743 - accuracy: 0.8526\n",
            "Epoch 310/400\n",
            "4/4 [==============================] - 0s 7ms/step - loss: 0.3804 - accuracy: 0.8470\n",
            "Epoch 311/400\n",
            "4/4 [==============================] - 0s 6ms/step - loss: 0.3749 - accuracy: 0.8436\n",
            "Epoch 312/400\n",
            "4/4 [==============================] - 0s 5ms/step - loss: 0.3796 - accuracy: 0.8414\n",
            "Epoch 313/400\n",
            "4/4 [==============================] - 0s 5ms/step - loss: 0.3779 - accuracy: 0.8538\n",
            "Epoch 314/400\n",
            "4/4 [==============================] - 0s 6ms/step - loss: 0.3718 - accuracy: 0.8594\n",
            "Epoch 315/400\n",
            "4/4 [==============================] - 0s 5ms/step - loss: 0.3805 - accuracy: 0.8515\n",
            "Epoch 316/400\n",
            "4/4 [==============================] - 0s 5ms/step - loss: 0.3745 - accuracy: 0.8504\n",
            "Epoch 317/400\n",
            "4/4 [==============================] - 0s 6ms/step - loss: 0.3810 - accuracy: 0.8515\n",
            "Epoch 318/400\n",
            "4/4 [==============================] - 0s 7ms/step - loss: 0.3758 - accuracy: 0.8493\n",
            "Epoch 319/400\n",
            "4/4 [==============================] - 0s 6ms/step - loss: 0.3857 - accuracy: 0.8616\n",
            "Epoch 320/400\n",
            "4/4 [==============================] - 0s 6ms/step - loss: 0.3792 - accuracy: 0.8481\n",
            "Epoch 321/400\n",
            "4/4 [==============================] - 0s 8ms/step - loss: 0.3718 - accuracy: 0.8515\n",
            "Epoch 322/400\n",
            "4/4 [==============================] - 0s 5ms/step - loss: 0.3722 - accuracy: 0.8504\n",
            "Epoch 323/400\n",
            "4/4 [==============================] - 0s 5ms/step - loss: 0.3714 - accuracy: 0.8538\n",
            "Epoch 324/400\n",
            "4/4 [==============================] - 0s 5ms/step - loss: 0.3787 - accuracy: 0.8504\n",
            "Epoch 325/400\n",
            "4/4 [==============================] - 0s 4ms/step - loss: 0.3743 - accuracy: 0.8526\n",
            "Epoch 326/400\n",
            "4/4 [==============================] - 0s 6ms/step - loss: 0.3737 - accuracy: 0.8526\n",
            "Epoch 327/400\n",
            "4/4 [==============================] - 0s 5ms/step - loss: 0.3750 - accuracy: 0.8493\n",
            "Epoch 328/400\n",
            "4/4 [==============================] - 0s 4ms/step - loss: 0.3780 - accuracy: 0.8538\n",
            "Epoch 329/400\n",
            "4/4 [==============================] - 0s 4ms/step - loss: 0.3770 - accuracy: 0.8538\n",
            "Epoch 330/400\n",
            "4/4 [==============================] - 0s 4ms/step - loss: 0.3810 - accuracy: 0.8414\n",
            "Epoch 331/400\n",
            "4/4 [==============================] - 0s 5ms/step - loss: 0.3824 - accuracy: 0.8493\n",
            "Epoch 332/400\n",
            "4/4 [==============================] - 0s 4ms/step - loss: 0.3729 - accuracy: 0.8470\n",
            "Epoch 333/400\n",
            "4/4 [==============================] - 0s 6ms/step - loss: 0.3752 - accuracy: 0.8504\n",
            "Epoch 334/400\n",
            "4/4 [==============================] - 0s 5ms/step - loss: 0.3806 - accuracy: 0.8459\n",
            "Epoch 335/400\n",
            "4/4 [==============================] - 0s 5ms/step - loss: 0.3704 - accuracy: 0.8504\n",
            "Epoch 336/400\n",
            "4/4 [==============================] - 0s 4ms/step - loss: 0.3668 - accuracy: 0.8560\n",
            "Epoch 337/400\n",
            "4/4 [==============================] - 0s 4ms/step - loss: 0.3687 - accuracy: 0.8459\n",
            "Epoch 338/400\n",
            "4/4 [==============================] - 0s 7ms/step - loss: 0.3769 - accuracy: 0.8448\n",
            "Epoch 339/400\n",
            "4/4 [==============================] - 0s 5ms/step - loss: 0.3712 - accuracy: 0.8571\n",
            "Epoch 340/400\n",
            "4/4 [==============================] - 0s 4ms/step - loss: 0.3706 - accuracy: 0.8481\n",
            "Epoch 341/400\n",
            "4/4 [==============================] - 0s 5ms/step - loss: 0.3790 - accuracy: 0.8448\n",
            "Epoch 342/400\n",
            "4/4 [==============================] - 0s 8ms/step - loss: 0.3627 - accuracy: 0.8571\n",
            "Epoch 343/400\n",
            "4/4 [==============================] - 0s 9ms/step - loss: 0.3835 - accuracy: 0.8459\n",
            "Epoch 344/400\n",
            "4/4 [==============================] - 0s 5ms/step - loss: 0.3713 - accuracy: 0.8515\n",
            "Epoch 345/400\n",
            "4/4 [==============================] - 0s 6ms/step - loss: 0.3630 - accuracy: 0.8583\n",
            "Epoch 346/400\n",
            "4/4 [==============================] - 0s 7ms/step - loss: 0.3706 - accuracy: 0.8504\n",
            "Epoch 347/400\n",
            "4/4 [==============================] - 0s 6ms/step - loss: 0.3856 - accuracy: 0.8481\n",
            "Epoch 348/400\n",
            "4/4 [==============================] - 0s 5ms/step - loss: 0.3704 - accuracy: 0.8538\n",
            "Epoch 349/400\n",
            "4/4 [==============================] - 0s 5ms/step - loss: 0.3745 - accuracy: 0.8493\n",
            "Epoch 350/400\n",
            "4/4 [==============================] - 0s 5ms/step - loss: 0.3688 - accuracy: 0.8504\n",
            "Epoch 351/400\n",
            "4/4 [==============================] - 0s 5ms/step - loss: 0.3827 - accuracy: 0.8526\n",
            "Epoch 352/400\n",
            "4/4 [==============================] - 0s 5ms/step - loss: 0.3626 - accuracy: 0.8616\n",
            "Epoch 353/400\n",
            "4/4 [==============================] - 0s 5ms/step - loss: 0.3735 - accuracy: 0.8481\n",
            "Epoch 354/400\n",
            "4/4 [==============================] - 0s 5ms/step - loss: 0.3749 - accuracy: 0.8560\n",
            "Epoch 355/400\n",
            "4/4 [==============================] - 0s 6ms/step - loss: 0.3758 - accuracy: 0.8493\n",
            "Epoch 356/400\n",
            "4/4 [==============================] - 0s 10ms/step - loss: 0.3791 - accuracy: 0.8515\n",
            "Epoch 357/400\n",
            "4/4 [==============================] - 0s 6ms/step - loss: 0.3709 - accuracy: 0.8526\n",
            "Epoch 358/400\n",
            "4/4 [==============================] - 0s 4ms/step - loss: 0.3699 - accuracy: 0.8504\n",
            "Epoch 359/400\n",
            "4/4 [==============================] - 0s 7ms/step - loss: 0.3769 - accuracy: 0.8526\n",
            "Epoch 360/400\n",
            "4/4 [==============================] - 0s 5ms/step - loss: 0.3761 - accuracy: 0.8448\n",
            "Epoch 361/400\n",
            "4/4 [==============================] - 0s 5ms/step - loss: 0.3717 - accuracy: 0.8459\n",
            "Epoch 362/400\n",
            "4/4 [==============================] - 0s 5ms/step - loss: 0.3779 - accuracy: 0.8526\n",
            "Epoch 363/400\n",
            "4/4 [==============================] - 0s 4ms/step - loss: 0.3747 - accuracy: 0.8560\n",
            "Epoch 364/400\n",
            "4/4 [==============================] - 0s 7ms/step - loss: 0.3742 - accuracy: 0.8414\n",
            "Epoch 365/400\n",
            "4/4 [==============================] - 0s 5ms/step - loss: 0.3658 - accuracy: 0.8493\n",
            "Epoch 366/400\n",
            "4/4 [==============================] - 0s 7ms/step - loss: 0.3716 - accuracy: 0.8459\n",
            "Epoch 367/400\n",
            "4/4 [==============================] - 0s 6ms/step - loss: 0.3711 - accuracy: 0.8526\n",
            "Epoch 368/400\n",
            "4/4 [==============================] - 0s 5ms/step - loss: 0.3713 - accuracy: 0.8549\n",
            "Epoch 369/400\n",
            "4/4 [==============================] - 0s 7ms/step - loss: 0.3637 - accuracy: 0.8583\n",
            "Epoch 370/400\n",
            "4/4 [==============================] - 0s 5ms/step - loss: 0.3833 - accuracy: 0.8549\n",
            "Epoch 371/400\n",
            "4/4 [==============================] - 0s 5ms/step - loss: 0.3668 - accuracy: 0.8605\n",
            "Epoch 372/400\n",
            "4/4 [==============================] - 0s 4ms/step - loss: 0.3740 - accuracy: 0.8493\n",
            "Epoch 373/400\n",
            "4/4 [==============================] - 0s 4ms/step - loss: 0.3760 - accuracy: 0.8493\n",
            "Epoch 374/400\n",
            "4/4 [==============================] - 0s 4ms/step - loss: 0.3780 - accuracy: 0.8493\n",
            "Epoch 375/400\n",
            "4/4 [==============================] - 0s 6ms/step - loss: 0.3666 - accuracy: 0.8583\n",
            "Epoch 376/400\n",
            "4/4 [==============================] - 0s 7ms/step - loss: 0.3706 - accuracy: 0.8549\n",
            "Epoch 377/400\n",
            "4/4 [==============================] - 0s 4ms/step - loss: 0.3781 - accuracy: 0.8526\n",
            "Epoch 378/400\n",
            "4/4 [==============================] - 0s 6ms/step - loss: 0.3713 - accuracy: 0.8504\n",
            "Epoch 379/400\n",
            "4/4 [==============================] - 0s 6ms/step - loss: 0.3728 - accuracy: 0.8515\n",
            "Epoch 380/400\n",
            "4/4 [==============================] - 0s 7ms/step - loss: 0.3713 - accuracy: 0.8515\n",
            "Epoch 381/400\n",
            "4/4 [==============================] - 0s 5ms/step - loss: 0.3777 - accuracy: 0.8571\n",
            "Epoch 382/400\n",
            "4/4 [==============================] - 0s 5ms/step - loss: 0.3714 - accuracy: 0.8448\n",
            "Epoch 383/400\n",
            "4/4 [==============================] - 0s 5ms/step - loss: 0.3682 - accuracy: 0.8504\n",
            "Epoch 384/400\n",
            "4/4 [==============================] - 0s 5ms/step - loss: 0.3707 - accuracy: 0.8526\n",
            "Epoch 385/400\n",
            "4/4 [==============================] - 0s 5ms/step - loss: 0.3856 - accuracy: 0.8448\n",
            "Epoch 386/400\n",
            "4/4 [==============================] - 0s 6ms/step - loss: 0.3809 - accuracy: 0.8538\n",
            "Epoch 387/400\n",
            "4/4 [==============================] - 0s 6ms/step - loss: 0.3769 - accuracy: 0.8391\n",
            "Epoch 388/400\n",
            "4/4 [==============================] - 0s 5ms/step - loss: 0.3706 - accuracy: 0.8481\n",
            "Epoch 389/400\n",
            "4/4 [==============================] - 0s 6ms/step - loss: 0.3724 - accuracy: 0.8538\n",
            "Epoch 390/400\n",
            "4/4 [==============================] - 0s 5ms/step - loss: 0.3749 - accuracy: 0.8470\n",
            "Epoch 391/400\n",
            "4/4 [==============================] - 0s 8ms/step - loss: 0.3777 - accuracy: 0.8470\n",
            "Epoch 392/400\n",
            "4/4 [==============================] - 0s 5ms/step - loss: 0.3798 - accuracy: 0.8459\n",
            "Epoch 393/400\n",
            "4/4 [==============================] - 0s 5ms/step - loss: 0.3755 - accuracy: 0.8391\n",
            "Epoch 394/400\n",
            "4/4 [==============================] - 0s 5ms/step - loss: 0.3745 - accuracy: 0.8571\n",
            "Epoch 395/400\n",
            "4/4 [==============================] - 0s 5ms/step - loss: 0.3802 - accuracy: 0.8515\n",
            "Epoch 396/400\n",
            "4/4 [==============================] - 0s 8ms/step - loss: 0.3712 - accuracy: 0.8526\n",
            "Epoch 397/400\n",
            "4/4 [==============================] - 0s 5ms/step - loss: 0.3704 - accuracy: 0.8504\n",
            "Epoch 398/400\n",
            "4/4 [==============================] - 0s 6ms/step - loss: 0.3679 - accuracy: 0.8538\n",
            "Epoch 399/400\n",
            "4/4 [==============================] - 0s 6ms/step - loss: 0.3654 - accuracy: 0.8504\n",
            "Epoch 400/400\n",
            "4/4 [==============================] - 0s 6ms/step - loss: 0.3657 - accuracy: 0.8526\n"
          ],
          "name": "stdout"
        },
        {
          "output_type": "execute_result",
          "data": {
            "text/plain": [
              "<tensorflow.python.keras.callbacks.History at 0x7f84834899d0>"
            ]
          },
          "metadata": {
            "tags": []
          },
          "execution_count": 2195
        }
      ]
    },
    {
      "cell_type": "code",
      "metadata": {
        "id": "OC5uhDQ-vs75"
      },
      "source": [
        "metrics = pd.DataFrame(model.history.history)"
      ],
      "execution_count": 2196,
      "outputs": []
    },
    {
      "cell_type": "code",
      "metadata": {
        "colab": {
          "base_uri": "https://localhost:8080/",
          "height": 265
        },
        "id": "1nAXDQkgxdTG",
        "outputId": "1fc895bd-dc9f-4769-e986-8c6d392ff7de"
      },
      "source": [
        "metrics[\"loss\"].plot();"
      ],
      "execution_count": 2197,
      "outputs": [
        {
          "output_type": "display_data",
          "data": {
            "image/png": "[encoded data removed]",
            "text/plain": [
              "<Figure size 432x288 with 1 Axes>"
            ]
          },
          "metadata": {
            "tags": [],
            "needs_background": "light"
          }
        }
      ]
    },
    {
      "cell_type": "markdown",
      "metadata": {
        "id": "6Qs9tUv9-gz0"
      },
      "source": [
        "# Evaluating Model Performance\n",
        "\n",
        "So, we've implemented several different models, and it's evident that logistic regression performed the best (neural network most likely overfit).\n",
        "\n",
        "Let's further evaluate the model's performance using a classification report and a confusion matrix. This will be done on the train dataset, since the test dataset y values are not given."
      ]
    },
    {
      "cell_type": "code",
      "metadata": {
        "id": "09-dBp-t_Uup"
      },
      "source": [
        "logreg.fit(X_train, y_train)\n",
        "predictions = logreg.predict(X_train)"
      ],
      "execution_count": 2198,
      "outputs": []
    },
    {
      "cell_type": "code",
      "metadata": {
        "id": "50O1yro2_c9S"
      },
      "source": [
        "from sklearn.metrics import classification_report,confusion_matrix"
      ],
      "execution_count": 2199,
      "outputs": []
    },
    {
      "cell_type": "markdown",
      "metadata": {
        "id": "QuS0GbUeCm7C"
      },
      "source": [
        "We will first create a classification report to understand the model's precision and recall. The f1-score is a nice metric which gives an overall score of the precision and recall."
      ]
    },
    {
      "cell_type": "code",
      "metadata": {
        "colab": {
          "base_uri": "https://localhost:8080/"
        },
        "id": "m4hBMGCV_y3j",
        "outputId": "85bdf526-4d8b-44ae-f54c-b9de68767db7"
      },
      "source": [
        "print(classification_report(y_train, predictions))"
      ],
      "execution_count": 2200,
      "outputs": [
        {
          "output_type": "stream",
          "text": [
            "              precision    recall  f1-score   support\n",
            "\n",
            "         0.0       0.86      0.88      0.87       549\n",
            "         1.0       0.80      0.77      0.78       340\n",
            "\n",
            "    accuracy                           0.84       889\n",
            "   macro avg       0.83      0.82      0.82       889\n",
            "weighted avg       0.83      0.84      0.84       889\n",
            "\n"
          ],
          "name": "stdout"
        }
      ]
    },
    {
      "cell_type": "markdown",
      "metadata": {
        "id": "h14GWjwVC1hk"
      },
      "source": [
        "We will also create a confusion matrix to understand how the model makes predictions (true positives, false positives, true negatives, false negatives)."
      ]
    },
    {
      "cell_type": "code",
      "metadata": {
        "colab": {
          "base_uri": "https://localhost:8080/"
        },
        "id": "UyreGqwX_5YF",
        "outputId": "e5b1ffe7-4a84-4b69-f006-b9e256d31b68"
      },
      "source": [
        "confusion_matrix(y_train, predictions)"
      ],
      "execution_count": 2201,
      "outputs": [
        {
          "output_type": "execute_result",
          "data": {
            "text/plain": [
              "array([[482,  67],\n",
              "       [ 79, 261]])"
            ]
          },
          "metadata": {
            "tags": []
          },
          "execution_count": 2201
        }
      ]
    },
    {
      "cell_type": "markdown",
      "metadata": {
        "id": "Us6SE1icPyJS"
      },
      "source": [
        "# Final Submission\n",
        "\n",
        "Now, it's time to format the output for submitting!\n",
        "\n",
        "First, let's predict on the test set."
      ]
    },
    {
      "cell_type": "code",
      "metadata": {
        "id": "19WVn8LTP0g3"
      },
      "source": [
        "logreg_predictions = logreg.predict(X_test).astype(int)\n",
        "dectree_predictions = dectree.predict(X_test).astype(int)\n",
        "knn_predictions = knn.predict(X_test).astype(int)\n",
        "rf_predictions = rf.predict(X_test).astype(int)\n",
        "svc_predictions = svc.predict(X_test).astype(int)\n",
        "nn_predictions = (model.predict(X_test) > 0.5).astype(\"int32\").reshape(-1)"
      ],
      "execution_count": 2202,
      "outputs": []
    },
    {
      "cell_type": "code",
      "metadata": {
        "colab": {
          "base_uri": "https://localhost:8080/"
        },
        "id": "G6Wy6YxnUIkX",
        "outputId": "4e4bb873-c7ef-432a-ee0e-6b7ef51025ac"
      },
      "source": [
        "logreg_predictions"
      ],
      "execution_count": 2203,
      "outputs": [
        {
          "output_type": "execute_result",
          "data": {
            "text/plain": [
              "array([0, 1, 0, 0, 1, 0, 1, 0, 1, 0, 0, 0, 1, 0, 1, 1, 0, 0, 1, 1, 0, 0,\n",
              "       1, 0, 1, 0, 1, 0, 0, 0, 0, 0, 1, 1, 0, 0, 1, 1, 0, 0, 0, 1, 0, 1,\n",
              "       1, 0, 0, 0, 1, 1, 0, 0, 1, 1, 0, 0, 0, 0, 0, 1, 0, 0, 0, 1, 1, 1,\n",
              "       1, 0, 0, 1, 1, 0, 1, 1, 1, 1, 0, 1, 0, 1, 1, 0, 0, 0, 0, 0, 1, 1,\n",
              "       0, 1, 1, 0, 1, 0, 0, 0, 1, 0, 1, 0, 1, 0, 0, 0, 1, 0, 0, 0, 0, 0,\n",
              "       0, 1, 1, 1, 1, 0, 0, 1, 0, 1, 1, 0, 1, 0, 0, 1, 0, 1, 0, 0, 0, 1,\n",
              "       1, 0, 0, 0, 0, 0, 1, 0, 0, 1, 0, 0, 0, 0, 1, 0, 0, 0, 1, 0, 0, 1,\n",
              "       0, 0, 1, 1, 0, 1, 1, 1, 1, 0, 0, 1, 0, 0, 1, 1, 0, 0, 0, 0, 0, 1,\n",
              "       1, 0, 1, 1, 0, 1, 1, 0, 1, 0, 1, 0, 0, 0, 0, 0, 0, 0, 1, 0, 1, 1,\n",
              "       0, 1, 1, 0, 1, 1, 0, 0, 1, 0, 1, 0, 0, 0, 0, 1, 0, 0, 1, 0, 1, 0,\n",
              "       1, 0, 1, 0, 1, 1, 0, 1, 0, 0, 0, 1, 0, 0, 0, 0, 0, 0, 1, 1, 1, 1,\n",
              "       1, 0, 0, 0, 1, 0, 1, 1, 1, 0, 0, 0, 0, 0, 0, 0, 1, 0, 0, 0, 1, 1,\n",
              "       0, 0, 0, 0, 1, 0, 0, 0, 1, 1, 0, 1, 0, 0, 0, 0, 1, 0, 1, 1, 1, 0,\n",
              "       0, 0, 0, 0, 0, 1, 0, 0, 0, 0, 1, 0, 0, 0, 0, 0, 0, 0, 1, 1, 0, 1,\n",
              "       0, 1, 0, 0, 0, 1, 1, 1, 0, 0, 0, 0, 0, 0, 0, 0, 1, 0, 1, 0, 0, 0,\n",
              "       1, 0, 0, 1, 0, 0, 0, 0, 0, 1, 0, 0, 0, 1, 0, 1, 0, 1, 0, 1, 1, 0,\n",
              "       0, 0, 1, 1, 1, 0, 0, 1, 0, 1, 1, 0, 1, 0, 0, 1, 1, 0, 0, 1, 0, 0,\n",
              "       1, 1, 0, 0, 0, 0, 0, 0, 1, 1, 0, 1, 0, 0, 0, 0, 1, 1, 0, 0, 0, 1,\n",
              "       0, 1, 0, 0, 1, 0, 1, 0, 1, 1, 0, 0, 1, 1, 1, 1, 1, 0, 1, 0, 0, 0])"
            ]
          },
          "metadata": {
            "tags": []
          },
          "execution_count": 2203
        }
      ]
    },
    {
      "cell_type": "markdown",
      "metadata": {
        "id": "Bl_r7_aXRrpP"
      },
      "source": [
        "Now, let's format the output, so that the passenger id is included in the submission (required)."
      ]
    },
    {
      "cell_type": "code",
      "metadata": {
        "id": "OON0EOMnQjRD"
      },
      "source": [
        "# formatting output\n",
        "final_data_1 = {'PassengerId': test_data.PassengerId, 'Survived': logreg_predictions}\n",
        "submission_1 = pd.DataFrame(data=final_data_1)\n",
        "\n",
        "final_data_2 = {'PassengerId': test_data.PassengerId, 'Survived': dectree_predictions}\n",
        "submission_2 = pd.DataFrame(data=final_data_2)\n",
        "\n",
        "final_data_3 = {'PassengerId': test_data.PassengerId, 'Survived': knn_predictions}\n",
        "submission_3 = pd.DataFrame(data=final_data_3)\n",
        "\n",
        "final_data_4 = {'PassengerId': test_data.PassengerId, 'Survived': rf_predictions}\n",
        "submission_4 = pd.DataFrame(data=final_data_4)\n",
        "\n",
        "final_data_5 = {'PassengerId': test_data.PassengerId, 'Survived': svc_predictions}\n",
        "submission_5 = pd.DataFrame(data=final_data_5)\n",
        "\n",
        "final_data_6 = {'PassengerId': test_data.PassengerId, 'Survived': nn_predictions}\n",
        "submission_6 = pd.DataFrame(data=final_data_6)\n"
      ],
      "execution_count": 2204,
      "outputs": []
    },
    {
      "cell_type": "markdown",
      "metadata": {
        "id": "v7d6UdlqRzPx"
      },
      "source": [
        "Finally, let's convert the dataframes to csv files."
      ]
    },
    {
      "cell_type": "code",
      "metadata": {
        "id": "Xf_npWmYQ5Lf"
      },
      "source": [
        "# creating submission files \n",
        "submission_1.to_csv('output/submission_logreg.csv', index =False)\n",
        "submission_2.to_csv('output/submission_dectree.csv',index=False)\n",
        "submission_3.to_csv('output/submission_knn.csv', index=False)\n",
        "submission_4.to_csv('output/submission_rf.csv', index=False)\n",
        "submission_5.to_csv('output/submission_svc.csv', index=False)\n",
        "submission_6.to_csv('output/submission_nn.csv', index=False)"
      ],
      "execution_count": 2205,
      "outputs": []
    },
    {
      "cell_type": "markdown",
      "metadata": {
        "id": "DOmt7bejAWrL"
      },
      "source": [
        "For further improving the model, gridsearchcv from scikit-learn can be used to find the ideal parameters. Also, further feature engineering could be done to extract better features. \n",
        "\n",
        "You've reached the end of this notebook! Thanks for reading!"
      ]
    }
  ]
}