{
  "cells": [
    {
      "cell_type": "markdown",
      "metadata": {
        "id": "TLD4m8MtG_Ux"
      },
      "source": [
        "# Titanic Kaggle Competition\n",
        "\n",
        "Hi! In this notebook we'll work on the titanic kaggle competition. The data and more details regarding the competition can be [found here](https://www.kaggle.com/c/titanic/overview). \n",
        "\n",
        "Let's start off by importing some packages we will use for data analysis."
      ]
    },
    {
      "cell_type": "code",
      "execution_count": 1947,
      "metadata": {
        "id": "pJHL4WwdiEC_"
      },
      "outputs": [],
      "source": [
        "import numpy as np\n",
        "import pandas as pd\n",
        "import matplotlib.pyplot as plt\n",
        "import seaborn as sns"
      ]
    },
    {
      "cell_type": "markdown",
      "metadata": {
        "id": "KOUDprdSx7lN"
      },
      "source": [
        "# Loading the data\n",
        "\n",
        "Here we import the train and test data. For exploratory data analysis, we'll use the training data. I also create an all_data dataframe, so that when we feature engineer both the train and test datasets will change."
      ]
    },
    {
      "cell_type": "code",
      "execution_count": 1948,
      "metadata": {
        "colab": {
          "base_uri": "https://localhost:8080/",
          "height": 255
        },
        "id": "kdEjw9oiiPYh",
        "outputId": "0d1186e2-caac-4b74-d3de-99fb325d410c"
      },
      "outputs": [
        {
          "data": {
            "text/html": [
              "<div>\n",
              "<style scoped>\n",
              "    .dataframe tbody tr th:only-of-type {\n",
              "        vertical-align: middle;\n",
              "    }\n",
              "\n",
              "    .dataframe tbody tr th {\n",
              "        vertical-align: top;\n",
              "    }\n",
              "\n",
              "    .dataframe thead th {\n",
              "        text-align: right;\n",
              "    }\n",
              "</style>\n",
              "<table border=\"1\" class=\"dataframe\">\n",
              "  <thead>\n",
              "    <tr style=\"text-align: right;\">\n",
              "      <th></th>\n",
              "      <th>PassengerId</th>\n",
              "      <th>Survived</th>\n",
              "      <th>Pclass</th>\n",
              "      <th>Name</th>\n",
              "      <th>Sex</th>\n",
              "      <th>Age</th>\n",
              "      <th>SibSp</th>\n",
              "      <th>Parch</th>\n",
              "      <th>Ticket</th>\n",
              "      <th>Fare</th>\n",
              "      <th>Cabin</th>\n",
              "      <th>Embarked</th>\n",
              "    </tr>\n",
              "  </thead>\n",
              "  <tbody>\n",
              "    <tr>\n",
              "      <th>0</th>\n",
              "      <td>1</td>\n",
              "      <td>0</td>\n",
              "      <td>3</td>\n",
              "      <td>Braund, Mr. Owen Harris</td>\n",
              "      <td>male</td>\n",
              "      <td>22.0</td>\n",
              "      <td>1</td>\n",
              "      <td>0</td>\n",
              "      <td>A/5 21171</td>\n",
              "      <td>7.2500</td>\n",
              "      <td>NaN</td>\n",
              "      <td>S</td>\n",
              "    </tr>\n",
              "    <tr>\n",
              "      <th>1</th>\n",
              "      <td>2</td>\n",
              "      <td>1</td>\n",
              "      <td>1</td>\n",
              "      <td>Cumings, Mrs. John Bradley (Florence Briggs Th...</td>\n",
              "      <td>female</td>\n",
              "      <td>38.0</td>\n",
              "      <td>1</td>\n",
              "      <td>0</td>\n",
              "      <td>PC 17599</td>\n",
              "      <td>71.2833</td>\n",
              "      <td>C85</td>\n",
              "      <td>C</td>\n",
              "    </tr>\n",
              "    <tr>\n",
              "      <th>2</th>\n",
              "      <td>3</td>\n",
              "      <td>1</td>\n",
              "      <td>3</td>\n",
              "      <td>Heikkinen, Miss. Laina</td>\n",
              "      <td>female</td>\n",
              "      <td>26.0</td>\n",
              "      <td>0</td>\n",
              "      <td>0</td>\n",
              "      <td>STON/O2. 3101282</td>\n",
              "      <td>7.9250</td>\n",
              "      <td>NaN</td>\n",
              "      <td>S</td>\n",
              "    </tr>\n",
              "    <tr>\n",
              "      <th>3</th>\n",
              "      <td>4</td>\n",
              "      <td>1</td>\n",
              "      <td>1</td>\n",
              "      <td>Futrelle, Mrs. Jacques Heath (Lily May Peel)</td>\n",
              "      <td>female</td>\n",
              "      <td>35.0</td>\n",
              "      <td>1</td>\n",
              "      <td>0</td>\n",
              "      <td>113803</td>\n",
              "      <td>53.1000</td>\n",
              "      <td>C123</td>\n",
              "      <td>S</td>\n",
              "    </tr>\n",
              "    <tr>\n",
              "      <th>4</th>\n",
              "      <td>5</td>\n",
              "      <td>0</td>\n",
              "      <td>3</td>\n",
              "      <td>Allen, Mr. William Henry</td>\n",
              "      <td>male</td>\n",
              "      <td>35.0</td>\n",
              "      <td>0</td>\n",
              "      <td>0</td>\n",
              "      <td>373450</td>\n",
              "      <td>8.0500</td>\n",
              "      <td>NaN</td>\n",
              "      <td>S</td>\n",
              "    </tr>\n",
              "  </tbody>\n",
              "</table>\n",
              "</div>"
            ],
            "text/plain": [
              "   PassengerId  Survived  Pclass  ...     Fare Cabin  Embarked\n",
              "0            1         0       3  ...   7.2500   NaN         S\n",
              "1            2         1       1  ...  71.2833   C85         C\n",
              "2            3         1       3  ...   7.9250   NaN         S\n",
              "3            4         1       1  ...  53.1000  C123         S\n",
              "4            5         0       3  ...   8.0500   NaN         S\n",
              "\n",
              "[5 rows x 12 columns]"
            ]
          },
          "execution_count": 1948,
          "metadata": {
            "tags": []
          },
          "output_type": "execute_result"
        }
      ],
      "source": [
        "# reading in training data\n",
        "train_data = pd.read_csv(\"data/train.csv\")\n",
        "train_data.head()"
      ]
    },
    {
      "cell_type": "code",
      "execution_count": 1949,
      "metadata": {
        "colab": {
          "base_uri": "https://localhost:8080/",
          "height": 204
        },
        "id": "TmC8bCG7iSqV",
        "outputId": "3c846a17-2c95-4ce4-c5bc-e9cce5449857"
      },
      "outputs": [
        {
          "data": {
            "text/html": [
              "<div>\n",
              "<style scoped>\n",
              "    .dataframe tbody tr th:only-of-type {\n",
              "        vertical-align: middle;\n",
              "    }\n",
              "\n",
              "    .dataframe tbody tr th {\n",
              "        vertical-align: top;\n",
              "    }\n",
              "\n",
              "    .dataframe thead th {\n",
              "        text-align: right;\n",
              "    }\n",
              "</style>\n",
              "<table border=\"1\" class=\"dataframe\">\n",
              "  <thead>\n",
              "    <tr style=\"text-align: right;\">\n",
              "      <th></th>\n",
              "      <th>PassengerId</th>\n",
              "      <th>Pclass</th>\n",
              "      <th>Name</th>\n",
              "      <th>Sex</th>\n",
              "      <th>Age</th>\n",
              "      <th>SibSp</th>\n",
              "      <th>Parch</th>\n",
              "      <th>Ticket</th>\n",
              "      <th>Fare</th>\n",
              "      <th>Cabin</th>\n",
              "      <th>Embarked</th>\n",
              "    </tr>\n",
              "  </thead>\n",
              "  <tbody>\n",
              "    <tr>\n",
              "      <th>0</th>\n",
              "      <td>892</td>\n",
              "      <td>3</td>\n",
              "      <td>Kelly, Mr. James</td>\n",
              "      <td>male</td>\n",
              "      <td>34.5</td>\n",
              "      <td>0</td>\n",
              "      <td>0</td>\n",
              "      <td>330911</td>\n",
              "      <td>7.8292</td>\n",
              "      <td>NaN</td>\n",
              "      <td>Q</td>\n",
              "    </tr>\n",
              "    <tr>\n",
              "      <th>1</th>\n",
              "      <td>893</td>\n",
              "      <td>3</td>\n",
              "      <td>Wilkes, Mrs. James (Ellen Needs)</td>\n",
              "      <td>female</td>\n",
              "      <td>47.0</td>\n",
              "      <td>1</td>\n",
              "      <td>0</td>\n",
              "      <td>363272</td>\n",
              "      <td>7.0000</td>\n",
              "      <td>NaN</td>\n",
              "      <td>S</td>\n",
              "    </tr>\n",
              "    <tr>\n",
              "      <th>2</th>\n",
              "      <td>894</td>\n",
              "      <td>2</td>\n",
              "      <td>Myles, Mr. Thomas Francis</td>\n",
              "      <td>male</td>\n",
              "      <td>62.0</td>\n",
              "      <td>0</td>\n",
              "      <td>0</td>\n",
              "      <td>240276</td>\n",
              "      <td>9.6875</td>\n",
              "      <td>NaN</td>\n",
              "      <td>Q</td>\n",
              "    </tr>\n",
              "    <tr>\n",
              "      <th>3</th>\n",
              "      <td>895</td>\n",
              "      <td>3</td>\n",
              "      <td>Wirz, Mr. Albert</td>\n",
              "      <td>male</td>\n",
              "      <td>27.0</td>\n",
              "      <td>0</td>\n",
              "      <td>0</td>\n",
              "      <td>315154</td>\n",
              "      <td>8.6625</td>\n",
              "      <td>NaN</td>\n",
              "      <td>S</td>\n",
              "    </tr>\n",
              "    <tr>\n",
              "      <th>4</th>\n",
              "      <td>896</td>\n",
              "      <td>3</td>\n",
              "      <td>Hirvonen, Mrs. Alexander (Helga E Lindqvist)</td>\n",
              "      <td>female</td>\n",
              "      <td>22.0</td>\n",
              "      <td>1</td>\n",
              "      <td>1</td>\n",
              "      <td>3101298</td>\n",
              "      <td>12.2875</td>\n",
              "      <td>NaN</td>\n",
              "      <td>S</td>\n",
              "    </tr>\n",
              "  </tbody>\n",
              "</table>\n",
              "</div>"
            ],
            "text/plain": [
              "   PassengerId  Pclass  ... Cabin Embarked\n",
              "0          892       3  ...   NaN        Q\n",
              "1          893       3  ...   NaN        S\n",
              "2          894       2  ...   NaN        Q\n",
              "3          895       3  ...   NaN        S\n",
              "4          896       3  ...   NaN        S\n",
              "\n",
              "[5 rows x 11 columns]"
            ]
          },
          "execution_count": 1949,
          "metadata": {
            "tags": []
          },
          "output_type": "execute_result"
        }
      ],
      "source": [
        "# reading in test data\n",
        "test_data = pd.read_csv(\"data/test.csv\")\n",
        "test_data.head()"
      ]
    },
    {
      "cell_type": "code",
      "execution_count": 1950,
      "metadata": {
        "colab": {
          "base_uri": "https://localhost:8080/",
          "height": 323
        },
        "id": "ZAmtmHYQiWjk",
        "outputId": "6006aa3e-d4e0-47a3-dbcb-03f90de79681"
      },
      "outputs": [
        {
          "data": {
            "text/html": [
              "<div>\n",
              "<style scoped>\n",
              "    .dataframe tbody tr th:only-of-type {\n",
              "        vertical-align: middle;\n",
              "    }\n",
              "\n",
              "    .dataframe tbody tr th {\n",
              "        vertical-align: top;\n",
              "    }\n",
              "\n",
              "    .dataframe thead th {\n",
              "        text-align: right;\n",
              "    }\n",
              "</style>\n",
              "<table border=\"1\" class=\"dataframe\">\n",
              "  <thead>\n",
              "    <tr style=\"text-align: right;\">\n",
              "      <th></th>\n",
              "      <th>PassengerId</th>\n",
              "      <th>Survived</th>\n",
              "      <th>Pclass</th>\n",
              "      <th>Name</th>\n",
              "      <th>Sex</th>\n",
              "      <th>Age</th>\n",
              "      <th>SibSp</th>\n",
              "      <th>Parch</th>\n",
              "      <th>Ticket</th>\n",
              "      <th>Fare</th>\n",
              "      <th>Cabin</th>\n",
              "      <th>Embarked</th>\n",
              "      <th>train_test</th>\n",
              "    </tr>\n",
              "  </thead>\n",
              "  <tbody>\n",
              "    <tr>\n",
              "      <th>0</th>\n",
              "      <td>1</td>\n",
              "      <td>0.0</td>\n",
              "      <td>3</td>\n",
              "      <td>Braund, Mr. Owen Harris</td>\n",
              "      <td>male</td>\n",
              "      <td>22.0</td>\n",
              "      <td>1</td>\n",
              "      <td>0</td>\n",
              "      <td>A/5 21171</td>\n",
              "      <td>7.2500</td>\n",
              "      <td>NaN</td>\n",
              "      <td>S</td>\n",
              "      <td>1</td>\n",
              "    </tr>\n",
              "    <tr>\n",
              "      <th>1</th>\n",
              "      <td>2</td>\n",
              "      <td>1.0</td>\n",
              "      <td>1</td>\n",
              "      <td>Cumings, Mrs. John Bradley (Florence Briggs Th...</td>\n",
              "      <td>female</td>\n",
              "      <td>38.0</td>\n",
              "      <td>1</td>\n",
              "      <td>0</td>\n",
              "      <td>PC 17599</td>\n",
              "      <td>71.2833</td>\n",
              "      <td>C85</td>\n",
              "      <td>C</td>\n",
              "      <td>1</td>\n",
              "    </tr>\n",
              "    <tr>\n",
              "      <th>2</th>\n",
              "      <td>3</td>\n",
              "      <td>1.0</td>\n",
              "      <td>3</td>\n",
              "      <td>Heikkinen, Miss. Laina</td>\n",
              "      <td>female</td>\n",
              "      <td>26.0</td>\n",
              "      <td>0</td>\n",
              "      <td>0</td>\n",
              "      <td>STON/O2. 3101282</td>\n",
              "      <td>7.9250</td>\n",
              "      <td>NaN</td>\n",
              "      <td>S</td>\n",
              "      <td>1</td>\n",
              "    </tr>\n",
              "    <tr>\n",
              "      <th>3</th>\n",
              "      <td>4</td>\n",
              "      <td>1.0</td>\n",
              "      <td>1</td>\n",
              "      <td>Futrelle, Mrs. Jacques Heath (Lily May Peel)</td>\n",
              "      <td>female</td>\n",
              "      <td>35.0</td>\n",
              "      <td>1</td>\n",
              "      <td>0</td>\n",
              "      <td>113803</td>\n",
              "      <td>53.1000</td>\n",
              "      <td>C123</td>\n",
              "      <td>S</td>\n",
              "      <td>1</td>\n",
              "    </tr>\n",
              "    <tr>\n",
              "      <th>4</th>\n",
              "      <td>5</td>\n",
              "      <td>0.0</td>\n",
              "      <td>3</td>\n",
              "      <td>Allen, Mr. William Henry</td>\n",
              "      <td>male</td>\n",
              "      <td>35.0</td>\n",
              "      <td>0</td>\n",
              "      <td>0</td>\n",
              "      <td>373450</td>\n",
              "      <td>8.0500</td>\n",
              "      <td>NaN</td>\n",
              "      <td>S</td>\n",
              "      <td>1</td>\n",
              "    </tr>\n",
              "  </tbody>\n",
              "</table>\n",
              "</div>"
            ],
            "text/plain": [
              "   PassengerId  Survived  Pclass  ... Cabin Embarked  train_test\n",
              "0            1       0.0       3  ...   NaN        S           1\n",
              "1            2       1.0       1  ...   C85        C           1\n",
              "2            3       1.0       3  ...   NaN        S           1\n",
              "3            4       1.0       1  ...  C123        S           1\n",
              "4            5       0.0       3  ...   NaN        S           1\n",
              "\n",
              "[5 rows x 13 columns]"
            ]
          },
          "execution_count": 1950,
          "metadata": {
            "tags": []
          },
          "output_type": "execute_result"
        }
      ],
      "source": [
        "train_data[\"train_test\"] = 1\n",
        "test_data[\"train_test\"] = 0\n",
        "\n",
        "test_data[\"Survived\"] = np.NaN\n",
        "all_data = pd.concat([train_data, test_data])\n",
        "\n",
        "all_data.head()"
      ]
    },
    {
      "cell_type": "markdown",
      "metadata": {
        "id": "ub8SRb9Zyh7z"
      },
      "source": [
        "# Exploratory Data Analysis\n",
        "\n",
        "We'll start off by exploring the data and understanding the relationships between different features.\n"
      ]
    },
    {
      "cell_type": "code",
      "execution_count": 1951,
      "metadata": {
        "colab": {
          "base_uri": "https://localhost:8080/",
          "height": 350
        },
        "id": "E7Y-o1Xoiu6s",
        "outputId": "4648b902-94f6-4d2b-aedb-a0b76baf7dca"
      },
      "outputs": [
        {
          "name": "stderr",
          "output_type": "stream",
          "text": [
            "/usr/local/lib/python3.7/dist-packages/seaborn/_decorators.py:43: FutureWarning: Pass the following variable as a keyword arg: x. From version 0.12, the only valid positional argument will be `data`, and passing other arguments without an explicit keyword will result in an error or misinterpretation.\n",
            "  FutureWarning\n"
          ]
        },
        {
          "data": {
            "text/plain": [
              "<matplotlib.axes._subplots.AxesSubplot at 0x7f8486ada890>"
            ]
          },
          "execution_count": 1951,
          "metadata": {
            "tags": []
          },
          "output_type": "execute_result"
        },
        {
          "data": {
            "image/png": "[encoded data removed]",
            "text/plain": [
              "<Figure size 432x288 with 1 Axes>"
            ]
          },
          "metadata": {
            "needs_background": "light",
            "tags": []
          },
          "output_type": "display_data"
        }
      ],
      "source": [
        "# checking if data is balanced \n",
        "sns.countplot(\"Survived\", data=train_data)"
      ]
    },
    {
      "cell_type": "code",
      "execution_count": 1952,
      "metadata": {
        "colab": {
          "base_uri": "https://localhost:8080/"
        },
        "id": "GcvSw2JDjC9m",
        "outputId": "a88054b0-76aa-4c3d-c570-9a4d56b46f6a"
      },
      "outputs": [
        {
          "name": "stdout",
          "output_type": "stream",
          "text": [
            "<class 'pandas.core.frame.DataFrame'>\n",
            "RangeIndex: 891 entries, 0 to 890\n",
            "Data columns (total 13 columns):\n",
            " #   Column       Non-Null Count  Dtype  \n",
            "---  ------       --------------  -----  \n",
            " 0   PassengerId  891 non-null    int64  \n",
            " 1   Survived     891 non-null    int64  \n",
            " 2   Pclass       891 non-null    int64  \n",
            " 3   Name         891 non-null    object \n",
            " 4   Sex          891 non-null    object \n",
            " 5   Age          714 non-null    float64\n",
            " 6   SibSp        891 non-null    int64  \n",
            " 7   Parch        891 non-null    int64  \n",
            " 8   Ticket       891 non-null    object \n",
            " 9   Fare         891 non-null    float64\n",
            " 10  Cabin        204 non-null    object \n",
            " 11  Embarked     889 non-null    object \n",
            " 12  train_test   891 non-null    int64  \n",
            "dtypes: float64(2), int64(6), object(5)\n",
            "memory usage: 90.6+ KB\n"
          ]
        }
      ],
      "source": [
        "# understanding null, categorical and continuous values\n",
        "train_data.info()"
      ]
    },
    {
      "cell_type": "code",
      "execution_count": 1953,
      "metadata": {
        "colab": {
          "base_uri": "https://localhost:8080/",
          "height": 350
        },
        "id": "6W3OEV1GjXbn",
        "outputId": "dcd60226-9a46-418a-b361-85c2b185a4e4"
      },
      "outputs": [
        {
          "name": "stderr",
          "output_type": "stream",
          "text": [
            "/usr/local/lib/python3.7/dist-packages/seaborn/_decorators.py:43: FutureWarning: Pass the following variable as a keyword arg: x. From version 0.12, the only valid positional argument will be `data`, and passing other arguments without an explicit keyword will result in an error or misinterpretation.\n",
            "  FutureWarning\n"
          ]
        },
        {
          "data": {
            "text/plain": [
              "<matplotlib.axes._subplots.AxesSubplot at 0x7f8486a98590>"
            ]
          },
          "execution_count": 1953,
          "metadata": {
            "tags": []
          },
          "output_type": "execute_result"
        },
        {
          "data": {
            "image/png": "[encoded data removed]",
            "text/plain": [
              "<Figure size 432x288 with 1 Axes>"
            ]
          },
          "metadata": {
            "needs_background": "light",
            "tags": []
          },
          "output_type": "display_data"
        }
      ],
      "source": [
        "# exploring relationship between sex and survived\n",
        "sns.countplot(\"Sex\", data=train_data, hue=\"Survived\")"
      ]
    },
    {
      "cell_type": "code",
      "execution_count": 1954,
      "metadata": {
        "colab": {
          "base_uri": "https://localhost:8080/",
          "height": 505
        },
        "id": "iz2rtAx-jzG7",
        "outputId": "81fbaa8e-8b2f-4150-9fed-12a3e719c505"
      },
      "outputs": [
        {
          "data": {
            "text/plain": [
              "<matplotlib.axes._subplots.AxesSubplot at 0x7f8486a76e10>"
            ]
          },
          "execution_count": 1954,
          "metadata": {
            "tags": []
          },
          "output_type": "execute_result"
        },
        {
          "data": {
            "image/png": "[encoded data removed]",
            "text/plain": [
              "<Figure size 864x576 with 2 Axes>"
            ]
          },
          "metadata": {
            "needs_background": "light",
            "tags": []
          },
          "output_type": "display_data"
        }
      ],
      "source": [
        "# drawing heatmap to explore correlations\n",
        "plt.figure(figsize=(12,8))\n",
        "sns.heatmap(train_data.corr(), annot=True, cmap=\"viridis\")"
      ]
    },
    {
      "cell_type": "markdown",
      "metadata": {
        "id": "XNwCzxuyzWcW"
      },
      "source": [
        "From the heatmap above, I noticed there was some correlation between pclass and fare. So, we'll explore this further."
      ]
    },
    {
      "cell_type": "code",
      "execution_count": 1955,
      "metadata": {
        "colab": {
          "base_uri": "https://localhost:8080/",
          "height": 568
        },
        "id": "YsTDDMCJj_0w",
        "outputId": "32720135-8547-4260-b517-c9653ff03ca8"
      },
      "outputs": [
        {
          "name": "stderr",
          "output_type": "stream",
          "text": [
            "/usr/local/lib/python3.7/dist-packages/seaborn/_decorators.py:43: FutureWarning: Pass the following variables as keyword args: x, y. From version 0.12, the only valid positional argument will be `data`, and passing other arguments without an explicit keyword will result in an error or misinterpretation.\n",
            "  FutureWarning\n"
          ]
        },
        {
          "data": {
            "text/plain": [
              "<matplotlib.axes._subplots.AxesSubplot at 0x7f84869fb0d0>"
            ]
          },
          "execution_count": 1955,
          "metadata": {
            "tags": []
          },
          "output_type": "execute_result"
        },
        {
          "data": {
            "image/png": "[encoded data removed]",
            "text/plain": [
              "<Figure size 864x576 with 1 Axes>"
            ]
          },
          "metadata": {
            "needs_background": "light",
            "tags": []
          },
          "output_type": "display_data"
        }
      ],
      "source": [
        "plt.figure(figsize=(12,8))\n",
        "sns.boxplot(\"Pclass\", \"Fare\", data=train_data)"
      ]
    },
    {
      "cell_type": "code",
      "execution_count": 1956,
      "metadata": {
        "colab": {
          "base_uri": "https://localhost:8080/",
          "height": 173
        },
        "id": "5JV2Kfxuk5eB",
        "outputId": "d3ef16d1-9a51-4b86-fddd-bcd7cfed6a24"
      },
      "outputs": [
        {
          "data": {
            "text/html": [
              "<div>\n",
              "<style scoped>\n",
              "    .dataframe tbody tr th:only-of-type {\n",
              "        vertical-align: middle;\n",
              "    }\n",
              "\n",
              "    .dataframe tbody tr th {\n",
              "        vertical-align: top;\n",
              "    }\n",
              "\n",
              "    .dataframe thead th {\n",
              "        text-align: right;\n",
              "    }\n",
              "</style>\n",
              "<table border=\"1\" class=\"dataframe\">\n",
              "  <thead>\n",
              "    <tr style=\"text-align: right;\">\n",
              "      <th></th>\n",
              "      <th>count</th>\n",
              "      <th>mean</th>\n",
              "      <th>std</th>\n",
              "      <th>min</th>\n",
              "      <th>25%</th>\n",
              "      <th>50%</th>\n",
              "      <th>75%</th>\n",
              "      <th>max</th>\n",
              "    </tr>\n",
              "    <tr>\n",
              "      <th>Pclass</th>\n",
              "      <th></th>\n",
              "      <th></th>\n",
              "      <th></th>\n",
              "      <th></th>\n",
              "      <th></th>\n",
              "      <th></th>\n",
              "      <th></th>\n",
              "      <th></th>\n",
              "    </tr>\n",
              "  </thead>\n",
              "  <tbody>\n",
              "    <tr>\n",
              "      <th>1</th>\n",
              "      <td>216.0</td>\n",
              "      <td>84.154687</td>\n",
              "      <td>78.380373</td>\n",
              "      <td>0.0</td>\n",
              "      <td>30.92395</td>\n",
              "      <td>60.2875</td>\n",
              "      <td>93.5</td>\n",
              "      <td>512.3292</td>\n",
              "    </tr>\n",
              "    <tr>\n",
              "      <th>2</th>\n",
              "      <td>184.0</td>\n",
              "      <td>20.662183</td>\n",
              "      <td>13.417399</td>\n",
              "      <td>0.0</td>\n",
              "      <td>13.00000</td>\n",
              "      <td>14.2500</td>\n",
              "      <td>26.0</td>\n",
              "      <td>73.5000</td>\n",
              "    </tr>\n",
              "    <tr>\n",
              "      <th>3</th>\n",
              "      <td>491.0</td>\n",
              "      <td>13.675550</td>\n",
              "      <td>11.778142</td>\n",
              "      <td>0.0</td>\n",
              "      <td>7.75000</td>\n",
              "      <td>8.0500</td>\n",
              "      <td>15.5</td>\n",
              "      <td>69.5500</td>\n",
              "    </tr>\n",
              "  </tbody>\n",
              "</table>\n",
              "</div>"
            ],
            "text/plain": [
              "        count       mean        std  min       25%      50%   75%       max\n",
              "Pclass                                                                     \n",
              "1       216.0  84.154687  78.380373  0.0  30.92395  60.2875  93.5  512.3292\n",
              "2       184.0  20.662183  13.417399  0.0  13.00000  14.2500  26.0   73.5000\n",
              "3       491.0  13.675550  11.778142  0.0   7.75000   8.0500  15.5   69.5500"
            ]
          },
          "execution_count": 1956,
          "metadata": {
            "tags": []
          },
          "output_type": "execute_result"
        }
      ],
      "source": [
        "train_data.groupby(\"Pclass\").describe()[\"Fare\"]"
      ]
    },
    {
      "cell_type": "code",
      "execution_count": 1957,
      "metadata": {
        "colab": {
          "base_uri": "https://localhost:8080/"
        },
        "id": "o6m59YRZlX6e",
        "outputId": "44c715fb-f5aa-4313-9c69-e4ef3f5d3b24"
      },
      "outputs": [
        {
          "data": {
            "text/plain": [
              "Index(['PassengerId', 'Survived', 'Pclass', 'Name', 'Sex', 'Age', 'SibSp',\n",
              "       'Parch', 'Ticket', 'Fare', 'Cabin', 'Embarked', 'train_test'],\n",
              "      dtype='object')"
            ]
          },
          "execution_count": 1957,
          "metadata": {
            "tags": []
          },
          "output_type": "execute_result"
        }
      ],
      "source": [
        "train_data.columns"
      ]
    },
    {
      "cell_type": "markdown",
      "metadata": {
        "id": "yqcnSgWizq35"
      },
      "source": [
        "Now, we'll explore some of the categorical variables and their relationship with survived."
      ]
    },
    {
      "cell_type": "code",
      "execution_count": 1958,
      "metadata": {
        "colab": {
          "base_uri": "https://localhost:8080/",
          "height": 350
        },
        "id": "JxaVJs1ZnCdb",
        "outputId": "855112d1-b365-4192-d31b-6af730ec71c1"
      },
      "outputs": [
        {
          "name": "stderr",
          "output_type": "stream",
          "text": [
            "/usr/local/lib/python3.7/dist-packages/seaborn/_decorators.py:43: FutureWarning: Pass the following variable as a keyword arg: x. From version 0.12, the only valid positional argument will be `data`, and passing other arguments without an explicit keyword will result in an error or misinterpretation.\n",
            "  FutureWarning\n"
          ]
        },
        {
          "data": {
            "text/plain": [
              "<matplotlib.axes._subplots.AxesSubplot at 0x7f848689c050>"
            ]
          },
          "execution_count": 1958,
          "metadata": {
            "tags": []
          },
          "output_type": "execute_result"
        },
        {
          "data": {
            "image/png": "[encoded data removed]",
            "text/plain": [
              "<Figure size 432x288 with 1 Axes>"
            ]
          },
          "metadata": {
            "needs_background": "light",
            "tags": []
          },
          "output_type": "display_data"
        }
      ],
      "source": [
        "sns.countplot(\"Pclass\", data=train_data, hue=\"Survived\")"
      ]
    },
    {
      "cell_type": "code",
      "execution_count": 1959,
      "metadata": {
        "colab": {
          "base_uri": "https://localhost:8080/",
          "height": 350
        },
        "id": "t_u62yktnINZ",
        "outputId": "5de4d002-d9a9-4e41-da3b-27392765460f"
      },
      "outputs": [
        {
          "name": "stderr",
          "output_type": "stream",
          "text": [
            "/usr/local/lib/python3.7/dist-packages/seaborn/_decorators.py:43: FutureWarning: Pass the following variable as a keyword arg: x. From version 0.12, the only valid positional argument will be `data`, and passing other arguments without an explicit keyword will result in an error or misinterpretation.\n",
            "  FutureWarning\n"
          ]
        },
        {
          "data": {
            "text/plain": [
              "<matplotlib.axes._subplots.AxesSubplot at 0x7f848685af10>"
            ]
          },
          "execution_count": 1959,
          "metadata": {
            "tags": []
          },
          "output_type": "execute_result"
        },
        {
          "data": {
            "image/png": "[encoded data removed]",
            "text/plain": [
              "<Figure size 432x288 with 1 Axes>"
            ]
          },
          "metadata": {
            "needs_background": "light",
            "tags": []
          },
          "output_type": "display_data"
        }
      ],
      "source": [
        "sns.countplot(\"Embarked\", data=train_data, hue=\"Survived\")"
      ]
    },
    {
      "cell_type": "markdown",
      "metadata": {
        "id": "KO_lFX9D0Niz"
      },
      "source": [
        "Based on the graph, it's not clear whether or not a certain location means there is a higher chance of survival.\n",
        "\n",
        "To address this, let's find the percentage of people survived for each embarked class."
      ]
    },
    {
      "cell_type": "code",
      "execution_count": 1960,
      "metadata": {
        "id": "AxypalgpnnuH"
      },
      "outputs": [],
      "source": [
        "total_emb = train_data.groupby(\"Embarked\")[\"Survived\"].count()\n",
        "sur_emb = train_data[train_data[\"Survived\"] == 1].groupby(\"Embarked\")[\"Survived\"].count()"
      ]
    },
    {
      "cell_type": "code",
      "execution_count": 1961,
      "metadata": {
        "colab": {
          "base_uri": "https://localhost:8080/"
        },
        "id": "Zo_u6lRzoPpb",
        "outputId": "5b2a43e4-e7c9-4279-c132-d7ab9243e2cc"
      },
      "outputs": [
        {
          "data": {
            "text/plain": [
              "Embarked\n",
              "C    55.357143\n",
              "Q    38.961039\n",
              "S    33.695652\n",
              "Name: Survived, dtype: float64"
            ]
          },
          "execution_count": 1961,
          "metadata": {
            "tags": []
          },
          "output_type": "execute_result"
        }
      ],
      "source": [
        "per_emb = sur_emb / total_emb * 100\n",
        "per_emb"
      ]
    },
    {
      "cell_type": "markdown",
      "metadata": {
        "id": "OYcSi6ss0k8r"
      },
      "source": [
        "Now, that's a lot more clear, and we can see that half the people who left from Cherbourg survived!\n",
        "\n",
        "Now let's explore the continuous variables."
      ]
    },
    {
      "cell_type": "code",
      "execution_count": 1962,
      "metadata": {
        "colab": {
          "base_uri": "https://localhost:8080/",
          "height": 1000
        },
        "id": "r_K54a5isGue",
        "outputId": "7270ecb1-a455-4f2e-f71f-11e97bc10ed2"
      },
      "outputs": [
        {
          "name": "stderr",
          "output_type": "stream",
          "text": [
            "/usr/local/lib/python3.7/dist-packages/seaborn/distributions.py:2557: FutureWarning: `distplot` is a deprecated function and will be removed in a future version. Please adapt your code to use either `displot` (a figure-level function with similar flexibility) or `histplot` (an axes-level function for histograms).\n",
            "  warnings.warn(msg, FutureWarning)\n"
          ]
        },
        {
          "data": {
            "image/png": "[encoded data removed]",
            "text/plain": [
              "<Figure size 432x288 with 1 Axes>"
            ]
          },
          "metadata": {
            "needs_background": "light",
            "tags": []
          },
          "output_type": "display_data"
        },
        {
          "data": {
            "image/png": "[encoded data removed]",
            "text/plain": [
              "<Figure size 432x288 with 1 Axes>"
            ]
          },
          "metadata": {
            "needs_background": "light",
            "tags": []
          },
          "output_type": "display_data"
        },
        {
          "data": {
            "image/png": "[encoded data removed]",
            "text/plain": [
              "<Figure size 432x288 with 1 Axes>"
            ]
          },
          "metadata": {
            "needs_background": "light",
            "tags": []
          },
          "output_type": "display_data"
        },
        {
          "data": {
            "image/png": "[encoded data removed]",
            "text/plain": [
              "<Figure size 432x288 with 1 Axes>"
            ]
          },
          "metadata": {
            "needs_background": "light",
            "tags": []
          },
          "output_type": "display_data"
        }
      ],
      "source": [
        "for feature in num_var:\n",
        "  sns.distplot(train_data[feature], kde=False)\n",
        "  plt.show()"
      ]
    },
    {
      "cell_type": "markdown",
      "metadata": {
        "id": "mA1Z9qM51Eee"
      },
      "source": [
        "I also want to draw a countplot for parch and sibsp to see if there is a relationship with survived."
      ]
    },
    {
      "cell_type": "code",
      "execution_count": 1963,
      "metadata": {
        "colab": {
          "base_uri": "https://localhost:8080/",
          "height": 350
        },
        "id": "tcGRiIkwsQ-7",
        "outputId": "b71685a9-888b-49ca-edce-7f251dd2658a"
      },
      "outputs": [
        {
          "name": "stderr",
          "output_type": "stream",
          "text": [
            "/usr/local/lib/python3.7/dist-packages/seaborn/_decorators.py:43: FutureWarning: Pass the following variable as a keyword arg: x. From version 0.12, the only valid positional argument will be `data`, and passing other arguments without an explicit keyword will result in an error or misinterpretation.\n",
            "  FutureWarning\n"
          ]
        },
        {
          "data": {
            "text/plain": [
              "<matplotlib.axes._subplots.AxesSubplot at 0x7f84865c9a10>"
            ]
          },
          "execution_count": 1963,
          "metadata": {
            "tags": []
          },
          "output_type": "execute_result"
        },
        {
          "data": {
            "image/png": "[encoded data removed]",
            "text/plain": [
              "<Figure size 432x288 with 1 Axes>"
            ]
          },
          "metadata": {
            "needs_background": "light",
            "tags": []
          },
          "output_type": "display_data"
        }
      ],
      "source": [
        "sns.countplot(\"Parch\", data=train_data, hue=\"Survived\")"
      ]
    },
    {
      "cell_type": "code",
      "execution_count": 1964,
      "metadata": {
        "colab": {
          "base_uri": "https://localhost:8080/",
          "height": 350
        },
        "id": "FKbI_olas5Um",
        "outputId": "4782c91c-ccd9-44a2-b7ff-b8225e333e98"
      },
      "outputs": [
        {
          "name": "stderr",
          "output_type": "stream",
          "text": [
            "/usr/local/lib/python3.7/dist-packages/seaborn/_decorators.py:43: FutureWarning: Pass the following variable as a keyword arg: x. From version 0.12, the only valid positional argument will be `data`, and passing other arguments without an explicit keyword will result in an error or misinterpretation.\n",
            "  FutureWarning\n"
          ]
        },
        {
          "data": {
            "text/plain": [
              "<matplotlib.axes._subplots.AxesSubplot at 0x7f84863c7d10>"
            ]
          },
          "execution_count": 1964,
          "metadata": {
            "tags": []
          },
          "output_type": "execute_result"
        },
        {
          "data": {
            "image/png": "[encoded data removed]",
            "text/plain": [
              "<Figure size 432x288 with 1 Axes>"
            ]
          },
          "metadata": {
            "needs_background": "light",
            "tags": []
          },
          "output_type": "display_data"
        }
      ],
      "source": [
        "sns.countplot(\"SibSp\", data=train_data, hue=\"Survived\")"
      ]
    },
    {
      "cell_type": "markdown",
      "metadata": {
        "id": "VpxSBEAo1WvC"
      },
      "source": [
        "Before finishing of data analysis, I quickly want to check if any of the variables are correlated with survived. "
      ]
    },
    {
      "cell_type": "code",
      "execution_count": 1965,
      "metadata": {
        "colab": {
          "base_uri": "https://localhost:8080/",
          "height": 333
        },
        "id": "JAzYrTz-tEqn",
        "outputId": "6b890743-468b-49fd-835d-b81be1ac10c4"
      },
      "outputs": [
        {
          "data": {
            "text/plain": [
              "<matplotlib.axes._subplots.AxesSubplot at 0x7f8486372a50>"
            ]
          },
          "execution_count": 1965,
          "metadata": {
            "tags": []
          },
          "output_type": "execute_result"
        },
        {
          "data": {
            "image/png": "[encoded data removed]",
            "text/plain": [
              "<Figure size 432x288 with 1 Axes>"
            ]
          },
          "metadata": {
            "needs_background": "light",
            "tags": []
          },
          "output_type": "display_data"
        }
      ],
      "source": [
        "train_data.corr()[\"Survived\"].sort_values().drop([\"train_test\", \"Survived\"]).plot(kind=\"bar\")"
      ]
    },
    {
      "cell_type": "markdown",
      "metadata": {
        "id": "Na4qmUDp1vzA"
      },
      "source": [
        "There is some correlation between fare and survived, so let's explore this!"
      ]
    },
    {
      "cell_type": "code",
      "execution_count": 1966,
      "metadata": {
        "colab": {
          "base_uri": "https://localhost:8080/",
          "height": 350
        },
        "id": "1TzY-b87wqvl",
        "outputId": "46e53671-7e01-4318-ce16-cf6427c8347e"
      },
      "outputs": [
        {
          "name": "stderr",
          "output_type": "stream",
          "text": [
            "/usr/local/lib/python3.7/dist-packages/seaborn/_decorators.py:43: FutureWarning: Pass the following variables as keyword args: x, y. From version 0.12, the only valid positional argument will be `data`, and passing other arguments without an explicit keyword will result in an error or misinterpretation.\n",
            "  FutureWarning\n"
          ]
        },
        {
          "data": {
            "text/plain": [
              "<matplotlib.axes._subplots.AxesSubplot at 0x7f84862e3b10>"
            ]
          },
          "execution_count": 1966,
          "metadata": {
            "tags": []
          },
          "output_type": "execute_result"
        },
        {
          "data": {
            "image/png": "[encoded data removed]",
            "text/plain": [
              "<Figure size 432x288 with 1 Axes>"
            ]
          },
          "metadata": {
            "needs_background": "light",
            "tags": []
          },
          "output_type": "display_data"
        }
      ],
      "source": [
        "sns.boxplot(\"Survived\", \"Fare\", data=train_data )"
      ]
    },
    {
      "cell_type": "code",
      "execution_count": 1967,
      "metadata": {
        "colab": {
          "base_uri": "https://localhost:8080/",
          "height": 142
        },
        "id": "vgRvq5ElxNU_",
        "outputId": "788b7b5d-52f4-4e7e-8b4a-e072c1f5db81"
      },
      "outputs": [
        {
          "data": {
            "text/html": [
              "<div>\n",
              "<style scoped>\n",
              "    .dataframe tbody tr th:only-of-type {\n",
              "        vertical-align: middle;\n",
              "    }\n",
              "\n",
              "    .dataframe tbody tr th {\n",
              "        vertical-align: top;\n",
              "    }\n",
              "\n",
              "    .dataframe thead th {\n",
              "        text-align: right;\n",
              "    }\n",
              "</style>\n",
              "<table border=\"1\" class=\"dataframe\">\n",
              "  <thead>\n",
              "    <tr style=\"text-align: right;\">\n",
              "      <th></th>\n",
              "      <th>count</th>\n",
              "      <th>mean</th>\n",
              "      <th>std</th>\n",
              "      <th>min</th>\n",
              "      <th>25%</th>\n",
              "      <th>50%</th>\n",
              "      <th>75%</th>\n",
              "      <th>max</th>\n",
              "    </tr>\n",
              "    <tr>\n",
              "      <th>Survived</th>\n",
              "      <th></th>\n",
              "      <th></th>\n",
              "      <th></th>\n",
              "      <th></th>\n",
              "      <th></th>\n",
              "      <th></th>\n",
              "      <th></th>\n",
              "      <th></th>\n",
              "    </tr>\n",
              "  </thead>\n",
              "  <tbody>\n",
              "    <tr>\n",
              "      <th>0</th>\n",
              "      <td>549.0</td>\n",
              "      <td>22.117887</td>\n",
              "      <td>31.388207</td>\n",
              "      <td>0.0</td>\n",
              "      <td>7.8542</td>\n",
              "      <td>10.5</td>\n",
              "      <td>26.0</td>\n",
              "      <td>263.0000</td>\n",
              "    </tr>\n",
              "    <tr>\n",
              "      <th>1</th>\n",
              "      <td>342.0</td>\n",
              "      <td>48.395408</td>\n",
              "      <td>66.596998</td>\n",
              "      <td>0.0</td>\n",
              "      <td>12.4750</td>\n",
              "      <td>26.0</td>\n",
              "      <td>57.0</td>\n",
              "      <td>512.3292</td>\n",
              "    </tr>\n",
              "  </tbody>\n",
              "</table>\n",
              "</div>"
            ],
            "text/plain": [
              "          count       mean        std  min      25%   50%   75%       max\n",
              "Survived                                                                 \n",
              "0         549.0  22.117887  31.388207  0.0   7.8542  10.5  26.0  263.0000\n",
              "1         342.0  48.395408  66.596998  0.0  12.4750  26.0  57.0  512.3292"
            ]
          },
          "execution_count": 1967,
          "metadata": {
            "tags": []
          },
          "output_type": "execute_result"
        }
      ],
      "source": [
        "train_data.groupby(\"Survived\")[\"Fare\"].describe()"
      ]
    },
    {
      "cell_type": "code",
      "execution_count": 1968,
      "metadata": {
        "colab": {
          "base_uri": "https://localhost:8080/",
          "height": 350
        },
        "id": "QypFDW8I1-RA",
        "outputId": "f860101b-a491-45d6-e933-326b5222f31c"
      },
      "outputs": [
        {
          "name": "stderr",
          "output_type": "stream",
          "text": [
            "/usr/local/lib/python3.7/dist-packages/seaborn/_decorators.py:43: FutureWarning: Pass the following variables as keyword args: x, y. From version 0.12, the only valid positional argument will be `data`, and passing other arguments without an explicit keyword will result in an error or misinterpretation.\n",
            "  FutureWarning\n"
          ]
        },
        {
          "data": {
            "text/plain": [
              "<matplotlib.axes._subplots.AxesSubplot at 0x7f8486255850>"
            ]
          },
          "execution_count": 1968,
          "metadata": {
            "tags": []
          },
          "output_type": "execute_result"
        },
        {
          "data": {
            "image/png": "[encoded data removed]",
            "text/plain": [
              "<Figure size 432x288 with 1 Axes>"
            ]
          },
          "metadata": {
            "needs_background": "light",
            "tags": []
          },
          "output_type": "display_data"
        }
      ],
      "source": [
        "sns.boxplot(\"Survived\", \"Fare\", data=train_data )"
      ]
    },
    {
      "cell_type": "markdown",
      "metadata": {
        "id": "z0EAOIRoyKjI"
      },
      "source": [
        "# Data Preprocessing - Dealing with Missing Data\n",
        "\n",
        "Now, we'll clean up the data and deal with the missing data. "
      ]
    },
    {
      "cell_type": "code",
      "execution_count": 1969,
      "metadata": {
        "colab": {
          "base_uri": "https://localhost:8080/"
        },
        "id": "IRlOuei5xaS1",
        "outputId": "b88c1eba-5763-4a63-9474-45a7392d0257"
      },
      "outputs": [
        {
          "data": {
            "text/plain": [
              "PassengerId       0\n",
              "Survived        418\n",
              "Pclass            0\n",
              "Name              0\n",
              "Sex               0\n",
              "Age             263\n",
              "SibSp             0\n",
              "Parch             0\n",
              "Ticket            0\n",
              "Fare              1\n",
              "Cabin          1014\n",
              "Embarked          2\n",
              "train_test        0\n",
              "dtype: int64"
            ]
          },
          "execution_count": 1969,
          "metadata": {
            "tags": []
          },
          "output_type": "execute_result"
        }
      ],
      "source": [
        "all_data.isnull().sum()"
      ]
    },
    {
      "cell_type": "markdown",
      "metadata": {
        "id": "LDhC4KhO2hL8"
      },
      "source": [
        "For a better representation of the null values, let's see what percentage of these values are missing for each feature."
      ]
    },
    {
      "cell_type": "code",
      "execution_count": 1970,
      "metadata": {
        "colab": {
          "base_uri": "https://localhost:8080/"
        },
        "id": "7Abb3OjrzXbs",
        "outputId": "f40a5091-5152-4ad4-f384-c637e2cd7800"
      },
      "outputs": [
        {
          "data": {
            "text/plain": [
              "PassengerId     0.000000\n",
              "Survived       31.932773\n",
              "Pclass          0.000000\n",
              "Name            0.000000\n",
              "Sex             0.000000\n",
              "Age            20.091673\n",
              "SibSp           0.000000\n",
              "Parch           0.000000\n",
              "Ticket          0.000000\n",
              "Fare            0.076394\n",
              "Cabin          77.463713\n",
              "Embarked        0.152788\n",
              "train_test      0.000000\n",
              "dtype: float64"
            ]
          },
          "execution_count": 1970,
          "metadata": {
            "tags": []
          },
          "output_type": "execute_result"
        }
      ],
      "source": [
        "all_data.isnull().sum() / len(all_data) * 100"
      ]
    },
    {
      "cell_type": "markdown",
      "metadata": {
        "id": "EtoPNKst2rYd"
      },
      "source": [
        "First, we'll deal with cabin as a huge chunk of the data is missing.\n",
        "\n",
        "Rather than dropping the entire feature, we'll extract two features from it - cabin number and letter.\n"
      ]
    },
    {
      "cell_type": "code",
      "execution_count": 1971,
      "metadata": {
        "id": "v6xf0wDK1AKb"
      },
      "outputs": [],
      "source": [
        "all_data[\"Cabin_num\"] = all_data[\"Cabin\"].apply(lambda x: 0 if pd.isna(x) else len(x.split(\" \")))\n"
      ]
    },
    {
      "cell_type": "code",
      "execution_count": 1972,
      "metadata": {
        "colab": {
          "base_uri": "https://localhost:8080/"
        },
        "id": "C8l26OjHeCQU",
        "outputId": "adeff596-0744-4cdd-b717-9db5c3e6d50d"
      },
      "outputs": [
        {
          "data": {
            "text/plain": [
              "Cabin_num\n",
              "0     29.985444\n",
              "1     67.777778\n",
              "2     56.250000\n",
              "3     50.000000\n",
              "4    100.000000\n",
              "Name: Survived, dtype: float64"
            ]
          },
          "execution_count": 1972,
          "metadata": {
            "tags": []
          },
          "output_type": "execute_result"
        }
      ],
      "source": [
        "cabin_num_sur = all_data.groupby(\"Cabin_num\")[\"Survived\"].sum()\n",
        "cabin_num_total = all_data.groupby(\"Cabin_num\")[\"Survived\"].count()\n",
        "cabin_num_per = cabin_num_sur / cabin_num_total * 100\n",
        "cabin_num_per"
      ]
    },
    {
      "cell_type": "code",
      "execution_count": 1973,
      "metadata": {
        "id": "_YjGLFspeab_"
      },
      "outputs": [],
      "source": [
        "all_data[\"Cabin_letter\"] = all_data[\"Cabin\"].apply(lambda x: \"n\" if pd.isna(x) else str(x[0]))"
      ]
    },
    {
      "cell_type": "code",
      "execution_count": 1974,
      "metadata": {
        "colab": {
          "base_uri": "https://localhost:8080/",
          "height": 295
        },
        "id": "Uo0Su0qtfM0m",
        "outputId": "1fd35c45-b1fd-42af-9597-361180aec594"
      },
      "outputs": [
        {
          "data": {
            "text/plain": [
              "<matplotlib.axes._subplots.AxesSubplot at 0x7f84861ede50>"
            ]
          },
          "execution_count": 1974,
          "metadata": {
            "tags": []
          },
          "output_type": "execute_result"
        },
        {
          "data": {
            "image/png": "[encoded data removed]",
            "text/plain": [
              "<Figure size 432x288 with 1 Axes>"
            ]
          },
          "metadata": {
            "needs_background": "light",
            "tags": []
          },
          "output_type": "display_data"
        }
      ],
      "source": [
        "cabin_letter_sur = all_data.groupby(\"Cabin_letter\")[\"Survived\"].sum()\n",
        "cabin_letter_total = all_data.groupby(\"Cabin_letter\")[\"Survived\"].count()\n",
        "cabin_letter_per = cabin_letter_sur / cabin_letter_total * 100\n",
        "cabin_letter_per.plot(kind=\"bar\")"
      ]
    },
    {
      "cell_type": "code",
      "execution_count": 1975,
      "metadata": {
        "id": "zdaSrVKygTIl"
      },
      "outputs": [],
      "source": [
        "all_data = all_data.drop(\"Cabin\", axis=1)"
      ]
    },
    {
      "cell_type": "code",
      "execution_count": 1976,
      "metadata": {
        "colab": {
          "base_uri": "https://localhost:8080/"
        },
        "id": "dOEoZ8rw3jcr",
        "outputId": "fa4cceb8-aaf6-4d6f-bfeb-2824a8a521c4"
      },
      "outputs": [
        {
          "data": {
            "text/plain": [
              "PassengerId      0.000000\n",
              "Survived        31.932773\n",
              "Pclass           0.000000\n",
              "Name             0.000000\n",
              "Sex              0.000000\n",
              "Age             20.091673\n",
              "SibSp            0.000000\n",
              "Parch            0.000000\n",
              "Ticket           0.000000\n",
              "Fare             0.076394\n",
              "Embarked         0.152788\n",
              "train_test       0.000000\n",
              "Cabin_num        0.000000\n",
              "Cabin_letter     0.000000\n",
              "dtype: float64"
            ]
          },
          "execution_count": 1976,
          "metadata": {
            "tags": []
          },
          "output_type": "execute_result"
        }
      ],
      "source": [
        "all_data.isnull().sum() / len(all_data) * 100"
      ]
    },
    {
      "cell_type": "markdown",
      "metadata": {
        "id": "vroxw1KU3CFn"
      },
      "source": [
        "Now, we've created two more features and dropped cabin. Next, we'll focus on filling in the age values. \n",
        "\n",
        "To do so, we'll fill in the values based on the pclass of the data. For each pclass, we will take the average age and fill it in with the missing values in the age column.\n",
        "\n",
        "The reason we are using pclass to determine what values to fill in age with is because there is some correlation between the two features (from heatmap above)."
      ]
    },
    {
      "cell_type": "code",
      "execution_count": 1977,
      "metadata": {
        "colab": {
          "base_uri": "https://localhost:8080/"
        },
        "id": "ekObN31fgbcf",
        "outputId": "6a23d0fa-55fa-4a62-c7b1-01cff5e2d366"
      },
      "outputs": [
        {
          "data": {
            "text/plain": [
              "Pclass\n",
              "1    39.159930\n",
              "2    29.506705\n",
              "3    24.816367\n",
              "Name: Age, dtype: float64"
            ]
          },
          "execution_count": 1977,
          "metadata": {
            "tags": []
          },
          "output_type": "execute_result"
        }
      ],
      "source": [
        "pclass_age = all_data.groupby(\"Pclass\")[\"Age\"].mean()\n",
        "pclass_age"
      ]
    },
    {
      "cell_type": "code",
      "execution_count": 1978,
      "metadata": {
        "id": "1k_bzfUChr4g"
      },
      "outputs": [],
      "source": [
        "def pclass_age_fun(pclass, age):\n",
        "  if pd.isna(age):\n",
        "    return pclass_age[pclass]\n",
        "  else:\n",
        "    return age"
      ]
    },
    {
      "cell_type": "code",
      "execution_count": 1979,
      "metadata": {
        "id": "m-uRvq_xhPgu"
      },
      "outputs": [],
      "source": [
        "all_data[\"Age\"] = all_data.apply(lambda x: pclass_age_fun(x[\"Pclass\"], x[\"Age\"]), axis=1)"
      ]
    },
    {
      "cell_type": "code",
      "execution_count": 1980,
      "metadata": {
        "colab": {
          "base_uri": "https://localhost:8080/"
        },
        "id": "BzQLPSCTjEne",
        "outputId": "bb40c55f-c238-4fe7-e589-78a9452b2e02"
      },
      "outputs": [
        {
          "data": {
            "text/plain": [
              "PassengerId      0.000000\n",
              "Survived        31.932773\n",
              "Pclass           0.000000\n",
              "Name             0.000000\n",
              "Sex              0.000000\n",
              "Age              0.000000\n",
              "SibSp            0.000000\n",
              "Parch            0.000000\n",
              "Ticket           0.000000\n",
              "Fare             0.076394\n",
              "Embarked         0.152788\n",
              "train_test       0.000000\n",
              "Cabin_num        0.000000\n",
              "Cabin_letter     0.000000\n",
              "dtype: float64"
            ]
          },
          "execution_count": 1980,
          "metadata": {
            "tags": []
          },
          "output_type": "execute_result"
        }
      ],
      "source": [
        "all_data.isnull().sum() / len(all_data) * 100"
      ]
    },
    {
      "cell_type": "markdown",
      "metadata": {
        "id": "huAdlcH53ywC"
      },
      "source": [
        "Now, there are two features left to deal with - fare and embarked. For embarked, all the missing values are in the training set, therefore, we'll drop the rows that have a missing value.\n",
        "\n",
        "The reason we are not dealing with the survived feature is because we set those values to be null when we concatenated the train and test data above!"
      ]
    },
    {
      "cell_type": "code",
      "execution_count": 1981,
      "metadata": {
        "id": "N9BnLgbrjH78"
      },
      "outputs": [],
      "source": [
        "all_data = all_data.dropna(subset=[\"Embarked\"])"
      ]
    },
    {
      "cell_type": "code",
      "execution_count": 1982,
      "metadata": {
        "colab": {
          "base_uri": "https://localhost:8080/"
        },
        "id": "gHxsRkKJrHIN",
        "outputId": "6e9135b5-3636-4369-e4d7-55086d49bfe5"
      },
      "outputs": [
        {
          "data": {
            "text/plain": [
              "PassengerId      0\n",
              "Pclass           0\n",
              "Name             0\n",
              "Sex              0\n",
              "Age             86\n",
              "SibSp            0\n",
              "Parch            0\n",
              "Ticket           0\n",
              "Fare             1\n",
              "Cabin          327\n",
              "Embarked         0\n",
              "train_test       0\n",
              "Survived       418\n",
              "dtype: int64"
            ]
          },
          "execution_count": 1982,
          "metadata": {
            "tags": []
          },
          "output_type": "execute_result"
        }
      ],
      "source": [
        "test_data.isnull().sum()"
      ]
    },
    {
      "cell_type": "markdown",
      "metadata": {
        "id": "3ASinfbb4I83"
      },
      "source": [
        "Now, we have to deal with the single missing value from Fare. We did not drop this value since it is in the test set, and the competition states to not drop any of the test values. \n",
        "\n",
        "Instead, we will fill in this value with the average Fare."
      ]
    },
    {
      "cell_type": "code",
      "execution_count": 1983,
      "metadata": {
        "id": "YqQP1VutrK4R"
      },
      "outputs": [],
      "source": [
        "all_data[\"Fare\"] = all_data[\"Fare\"].fillna(all_data[\"Fare\"].mean())"
      ]
    },
    {
      "cell_type": "code",
      "execution_count": 1984,
      "metadata": {
        "colab": {
          "base_uri": "https://localhost:8080/"
        },
        "id": "0QPN_3vxty7S",
        "outputId": "eed4b931-5020-4ae7-a0cd-d974628f5c7c"
      },
      "outputs": [
        {
          "data": {
            "text/plain": [
              "PassengerId       0\n",
              "Survived        418\n",
              "Pclass            0\n",
              "Name              0\n",
              "Sex               0\n",
              "Age               0\n",
              "SibSp             0\n",
              "Parch             0\n",
              "Ticket            0\n",
              "Fare              0\n",
              "Embarked          0\n",
              "train_test        0\n",
              "Cabin_num         0\n",
              "Cabin_letter      0\n",
              "dtype: int64"
            ]
          },
          "execution_count": 1984,
          "metadata": {
            "tags": []
          },
          "output_type": "execute_result"
        }
      ],
      "source": [
        "all_data.isnull().sum()"
      ]
    },
    {
      "cell_type": "markdown",
      "metadata": {
        "id": "mLUFFhFz4dh6"
      },
      "source": [
        "The data is now all filled!"
      ]
    },
    {
      "cell_type": "code",
      "execution_count": 1985,
      "metadata": {
        "colab": {
          "base_uri": "https://localhost:8080/",
          "height": 496
        },
        "id": "m6DABEOYjZ6B",
        "outputId": "4d9b4cfd-a43c-4de8-c7ce-b37497473587"
      },
      "outputs": [
        {
          "data": {
            "text/html": [
              "<div>\n",
              "<style scoped>\n",
              "    .dataframe tbody tr th:only-of-type {\n",
              "        vertical-align: middle;\n",
              "    }\n",
              "\n",
              "    .dataframe tbody tr th {\n",
              "        vertical-align: top;\n",
              "    }\n",
              "\n",
              "    .dataframe thead th {\n",
              "        text-align: right;\n",
              "    }\n",
              "</style>\n",
              "<table border=\"1\" class=\"dataframe\">\n",
              "  <thead>\n",
              "    <tr style=\"text-align: right;\">\n",
              "      <th></th>\n",
              "      <th>PassengerId</th>\n",
              "      <th>Survived</th>\n",
              "      <th>Pclass</th>\n",
              "      <th>Name</th>\n",
              "      <th>Sex</th>\n",
              "      <th>Age</th>\n",
              "      <th>SibSp</th>\n",
              "      <th>Parch</th>\n",
              "      <th>Ticket</th>\n",
              "      <th>Fare</th>\n",
              "      <th>Embarked</th>\n",
              "      <th>train_test</th>\n",
              "      <th>Cabin_num</th>\n",
              "      <th>Cabin_letter</th>\n",
              "    </tr>\n",
              "  </thead>\n",
              "  <tbody>\n",
              "    <tr>\n",
              "      <th>0</th>\n",
              "      <td>1</td>\n",
              "      <td>0.0</td>\n",
              "      <td>3</td>\n",
              "      <td>Braund, Mr. Owen Harris</td>\n",
              "      <td>male</td>\n",
              "      <td>22.0</td>\n",
              "      <td>1</td>\n",
              "      <td>0</td>\n",
              "      <td>A/5 21171</td>\n",
              "      <td>7.2500</td>\n",
              "      <td>S</td>\n",
              "      <td>1</td>\n",
              "      <td>0</td>\n",
              "      <td>n</td>\n",
              "    </tr>\n",
              "    <tr>\n",
              "      <th>1</th>\n",
              "      <td>2</td>\n",
              "      <td>1.0</td>\n",
              "      <td>1</td>\n",
              "      <td>Cumings, Mrs. John Bradley (Florence Briggs Th...</td>\n",
              "      <td>female</td>\n",
              "      <td>38.0</td>\n",
              "      <td>1</td>\n",
              "      <td>0</td>\n",
              "      <td>PC 17599</td>\n",
              "      <td>71.2833</td>\n",
              "      <td>C</td>\n",
              "      <td>1</td>\n",
              "      <td>1</td>\n",
              "      <td>C</td>\n",
              "    </tr>\n",
              "    <tr>\n",
              "      <th>2</th>\n",
              "      <td>3</td>\n",
              "      <td>1.0</td>\n",
              "      <td>3</td>\n",
              "      <td>Heikkinen, Miss. Laina</td>\n",
              "      <td>female</td>\n",
              "      <td>26.0</td>\n",
              "      <td>0</td>\n",
              "      <td>0</td>\n",
              "      <td>STON/O2. 3101282</td>\n",
              "      <td>7.9250</td>\n",
              "      <td>S</td>\n",
              "      <td>1</td>\n",
              "      <td>0</td>\n",
              "      <td>n</td>\n",
              "    </tr>\n",
              "    <tr>\n",
              "      <th>3</th>\n",
              "      <td>4</td>\n",
              "      <td>1.0</td>\n",
              "      <td>1</td>\n",
              "      <td>Futrelle, Mrs. Jacques Heath (Lily May Peel)</td>\n",
              "      <td>female</td>\n",
              "      <td>35.0</td>\n",
              "      <td>1</td>\n",
              "      <td>0</td>\n",
              "      <td>113803</td>\n",
              "      <td>53.1000</td>\n",
              "      <td>S</td>\n",
              "      <td>1</td>\n",
              "      <td>1</td>\n",
              "      <td>C</td>\n",
              "    </tr>\n",
              "    <tr>\n",
              "      <th>4</th>\n",
              "      <td>5</td>\n",
              "      <td>0.0</td>\n",
              "      <td>3</td>\n",
              "      <td>Allen, Mr. William Henry</td>\n",
              "      <td>male</td>\n",
              "      <td>35.0</td>\n",
              "      <td>0</td>\n",
              "      <td>0</td>\n",
              "      <td>373450</td>\n",
              "      <td>8.0500</td>\n",
              "      <td>S</td>\n",
              "      <td>1</td>\n",
              "      <td>0</td>\n",
              "      <td>n</td>\n",
              "    </tr>\n",
              "  </tbody>\n",
              "</table>\n",
              "</div>"
            ],
            "text/plain": [
              "   PassengerId  Survived  Pclass  ... train_test Cabin_num  Cabin_letter\n",
              "0            1       0.0       3  ...          1         0             n\n",
              "1            2       1.0       1  ...          1         1             C\n",
              "2            3       1.0       3  ...          1         0             n\n",
              "3            4       1.0       1  ...          1         1             C\n",
              "4            5       0.0       3  ...          1         0             n\n",
              "\n",
              "[5 rows x 14 columns]"
            ]
          },
          "execution_count": 1985,
          "metadata": {
            "tags": []
          },
          "output_type": "execute_result"
        }
      ],
      "source": [
        "all_data.head()"
      ]
    },
    {
      "cell_type": "markdown",
      "metadata": {
        "id": "P46khA8HkohF"
      },
      "source": [
        "# Data Preprocessing - Feature Engineering\n",
        "\n",
        "The last thing we need to do before training our model is to feature engineer and deal with the categorical variables."
      ]
    },
    {
      "cell_type": "code",
      "execution_count": 1986,
      "metadata": {
        "colab": {
          "base_uri": "https://localhost:8080/"
        },
        "id": "LFBycFMzj_yB",
        "outputId": "f5c3f5da-88fc-4852-9c34-0ac577e83e6f"
      },
      "outputs": [
        {
          "data": {
            "text/plain": [
              "Index(['Name', 'Sex', 'Ticket', 'Embarked', 'Cabin_letter'], dtype='object')"
            ]
          },
          "execution_count": 1986,
          "metadata": {
            "tags": []
          },
          "output_type": "execute_result"
        }
      ],
      "source": [
        "all_data.select_dtypes([\"object\"]).columns"
      ]
    },
    {
      "cell_type": "markdown",
      "metadata": {
        "id": "CFHqygkK8Fse"
      },
      "source": [
        "Let's first extract the title from the name column."
      ]
    },
    {
      "cell_type": "code",
      "execution_count": 1987,
      "metadata": {
        "colab": {
          "base_uri": "https://localhost:8080/"
        },
        "id": "qCns_TsQmZVi",
        "outputId": "d4c0a446-495e-420f-9b19-0465e475c43b"
      },
      "outputs": [
        {
          "data": {
            "text/plain": [
              "Mr              757\n",
              "Miss            259\n",
              "Mrs             196\n",
              "Master           61\n",
              "Rev               8\n",
              "Dr                8\n",
              "Col               4\n",
              "Major             2\n",
              "Ms                2\n",
              "Mlle              2\n",
              "Mme               1\n",
              "Dona              1\n",
              "Lady              1\n",
              "Jonkheer          1\n",
              "Capt              1\n",
              "Sir               1\n",
              "Don               1\n",
              "the Countess      1\n",
              "Name: Title, dtype: int64"
            ]
          },
          "execution_count": 1987,
          "metadata": {
            "tags": []
          },
          "output_type": "execute_result"
        }
      ],
      "source": [
        "all_data['Title'] = all_data[\"Name\"].apply(lambda x: x.split(',')[1].split('.')[0].strip())\n",
        "all_data[\"Title\"].value_counts()"
      ]
    },
    {
      "cell_type": "markdown",
      "metadata": {
        "id": "3AUvU8lK8LOi"
      },
      "source": [
        "It's evident that there are a bunch of categories, but a majority of them just have a couple people. Let's create an \"other\" column. "
      ]
    },
    {
      "cell_type": "code",
      "execution_count": 1988,
      "metadata": {
        "id": "eE38UefVnrRs"
      },
      "outputs": [],
      "source": [
        "all_data[\"Title\"] = all_data[\"Title\"].replace([\"Rev\", \"Dr\", \"Col\", \"Major\", \"Ms\", \"Mlle\", \"Mme\", \"Dona\", \"Lady\", \"Jonkheer\", \"Capt\", \"Sir\", \"Don\", \"the Countess\"], \"OTHER\")"
      ]
    },
    {
      "cell_type": "code",
      "execution_count": 1989,
      "metadata": {
        "id": "VfQjD42em7fA"
      },
      "outputs": [],
      "source": [
        "all_data = all_data.drop(\"Name\", axis=1)"
      ]
    },
    {
      "cell_type": "markdown",
      "metadata": {
        "id": "AVQxXC4Y8d11"
      },
      "source": [
        "Let's deal with the ticket now. This time we'll create a new column called \"ticket_num\" which will indicate if a ticket is made up of all numbers or not."
      ]
    },
    {
      "cell_type": "code",
      "execution_count": 1990,
      "metadata": {
        "id": "J9bFRnZGlLRo"
      },
      "outputs": [],
      "source": [
        "all_data[\"Ticket_num\"] = all_data[\"Ticket\"].apply(lambda x: 1 if x.isnumeric() else 0)"
      ]
    },
    {
      "cell_type": "code",
      "execution_count": 1991,
      "metadata": {
        "colab": {
          "base_uri": "https://localhost:8080/",
          "height": 297
        },
        "id": "xpnJ6plBoaEt",
        "outputId": "43124ccb-5fb7-4fa9-d160-49847fea0e86"
      },
      "outputs": [
        {
          "data": {
            "text/plain": [
              "<matplotlib.axes._subplots.AxesSubplot at 0x7f8486172f90>"
            ]
          },
          "execution_count": 1991,
          "metadata": {
            "tags": []
          },
          "output_type": "execute_result"
        },
        {
          "data": {
            "image/png": "[encoded data removed]",
            "text/plain": [
              "<Figure size 432x288 with 1 Axes>"
            ]
          },
          "metadata": {
            "needs_background": "light",
            "tags": []
          },
          "output_type": "display_data"
        }
      ],
      "source": [
        "ticket_num_sur = all_data.groupby(\"Ticket_num\")[\"Survived\"].sum()\n",
        "ticket_num_total = all_data.groupby(\"Ticket_num\")[\"Survived\"].count()\n",
        "ticket_num_per = ticket_num_sur / ticket_num_total * 100\n",
        "ticket_num_per.plot(kind=\"bar\")"
      ]
    },
    {
      "cell_type": "markdown",
      "metadata": {
        "id": "-HC4pQpH8vxo"
      },
      "source": [
        "It's clear that it does not really matter if a ticket is a numbered ticket or not. So, let's just drop this column."
      ]
    },
    {
      "cell_type": "code",
      "execution_count": 1992,
      "metadata": {
        "colab": {
          "base_uri": "https://localhost:8080/",
          "height": 439
        },
        "id": "DxQM5_hvmBuu",
        "outputId": "d141ee4b-a696-4a41-8d33-006eb2da331c"
      },
      "outputs": [
        {
          "data": {
            "text/html": [
              "<div>\n",
              "<style scoped>\n",
              "    .dataframe tbody tr th:only-of-type {\n",
              "        vertical-align: middle;\n",
              "    }\n",
              "\n",
              "    .dataframe tbody tr th {\n",
              "        vertical-align: top;\n",
              "    }\n",
              "\n",
              "    .dataframe thead th {\n",
              "        text-align: right;\n",
              "    }\n",
              "</style>\n",
              "<table border=\"1\" class=\"dataframe\">\n",
              "  <thead>\n",
              "    <tr style=\"text-align: right;\">\n",
              "      <th></th>\n",
              "      <th>PassengerId</th>\n",
              "      <th>Survived</th>\n",
              "      <th>Pclass</th>\n",
              "      <th>Sex</th>\n",
              "      <th>Age</th>\n",
              "      <th>SibSp</th>\n",
              "      <th>Parch</th>\n",
              "      <th>Fare</th>\n",
              "      <th>Embarked</th>\n",
              "      <th>train_test</th>\n",
              "      <th>Cabin_num</th>\n",
              "      <th>Cabin_letter</th>\n",
              "      <th>Title</th>\n",
              "    </tr>\n",
              "  </thead>\n",
              "  <tbody>\n",
              "    <tr>\n",
              "      <th>0</th>\n",
              "      <td>1</td>\n",
              "      <td>0.0</td>\n",
              "      <td>3</td>\n",
              "      <td>male</td>\n",
              "      <td>22.000000</td>\n",
              "      <td>1</td>\n",
              "      <td>0</td>\n",
              "      <td>7.2500</td>\n",
              "      <td>S</td>\n",
              "      <td>1</td>\n",
              "      <td>0</td>\n",
              "      <td>n</td>\n",
              "      <td>Mr</td>\n",
              "    </tr>\n",
              "    <tr>\n",
              "      <th>1</th>\n",
              "      <td>2</td>\n",
              "      <td>1.0</td>\n",
              "      <td>1</td>\n",
              "      <td>female</td>\n",
              "      <td>38.000000</td>\n",
              "      <td>1</td>\n",
              "      <td>0</td>\n",
              "      <td>71.2833</td>\n",
              "      <td>C</td>\n",
              "      <td>1</td>\n",
              "      <td>1</td>\n",
              "      <td>C</td>\n",
              "      <td>Mrs</td>\n",
              "    </tr>\n",
              "    <tr>\n",
              "      <th>2</th>\n",
              "      <td>3</td>\n",
              "      <td>1.0</td>\n",
              "      <td>3</td>\n",
              "      <td>female</td>\n",
              "      <td>26.000000</td>\n",
              "      <td>0</td>\n",
              "      <td>0</td>\n",
              "      <td>7.9250</td>\n",
              "      <td>S</td>\n",
              "      <td>1</td>\n",
              "      <td>0</td>\n",
              "      <td>n</td>\n",
              "      <td>Miss</td>\n",
              "    </tr>\n",
              "    <tr>\n",
              "      <th>3</th>\n",
              "      <td>4</td>\n",
              "      <td>1.0</td>\n",
              "      <td>1</td>\n",
              "      <td>female</td>\n",
              "      <td>35.000000</td>\n",
              "      <td>1</td>\n",
              "      <td>0</td>\n",
              "      <td>53.1000</td>\n",
              "      <td>S</td>\n",
              "      <td>1</td>\n",
              "      <td>1</td>\n",
              "      <td>C</td>\n",
              "      <td>Mrs</td>\n",
              "    </tr>\n",
              "    <tr>\n",
              "      <th>4</th>\n",
              "      <td>5</td>\n",
              "      <td>0.0</td>\n",
              "      <td>3</td>\n",
              "      <td>male</td>\n",
              "      <td>35.000000</td>\n",
              "      <td>0</td>\n",
              "      <td>0</td>\n",
              "      <td>8.0500</td>\n",
              "      <td>S</td>\n",
              "      <td>1</td>\n",
              "      <td>0</td>\n",
              "      <td>n</td>\n",
              "      <td>Mr</td>\n",
              "    </tr>\n",
              "    <tr>\n",
              "      <th>...</th>\n",
              "      <td>...</td>\n",
              "      <td>...</td>\n",
              "      <td>...</td>\n",
              "      <td>...</td>\n",
              "      <td>...</td>\n",
              "      <td>...</td>\n",
              "      <td>...</td>\n",
              "      <td>...</td>\n",
              "      <td>...</td>\n",
              "      <td>...</td>\n",
              "      <td>...</td>\n",
              "      <td>...</td>\n",
              "      <td>...</td>\n",
              "    </tr>\n",
              "    <tr>\n",
              "      <th>413</th>\n",
              "      <td>1305</td>\n",
              "      <td>NaN</td>\n",
              "      <td>3</td>\n",
              "      <td>male</td>\n",
              "      <td>24.816367</td>\n",
              "      <td>0</td>\n",
              "      <td>0</td>\n",
              "      <td>8.0500</td>\n",
              "      <td>S</td>\n",
              "      <td>0</td>\n",
              "      <td>0</td>\n",
              "      <td>n</td>\n",
              "      <td>Mr</td>\n",
              "    </tr>\n",
              "    <tr>\n",
              "      <th>414</th>\n",
              "      <td>1306</td>\n",
              "      <td>NaN</td>\n",
              "      <td>1</td>\n",
              "      <td>female</td>\n",
              "      <td>39.000000</td>\n",
              "      <td>0</td>\n",
              "      <td>0</td>\n",
              "      <td>108.9000</td>\n",
              "      <td>C</td>\n",
              "      <td>0</td>\n",
              "      <td>1</td>\n",
              "      <td>C</td>\n",
              "      <td>OTHER</td>\n",
              "    </tr>\n",
              "    <tr>\n",
              "      <th>415</th>\n",
              "      <td>1307</td>\n",
              "      <td>NaN</td>\n",
              "      <td>3</td>\n",
              "      <td>male</td>\n",
              "      <td>38.500000</td>\n",
              "      <td>0</td>\n",
              "      <td>0</td>\n",
              "      <td>7.2500</td>\n",
              "      <td>S</td>\n",
              "      <td>0</td>\n",
              "      <td>0</td>\n",
              "      <td>n</td>\n",
              "      <td>Mr</td>\n",
              "    </tr>\n",
              "    <tr>\n",
              "      <th>416</th>\n",
              "      <td>1308</td>\n",
              "      <td>NaN</td>\n",
              "      <td>3</td>\n",
              "      <td>male</td>\n",
              "      <td>24.816367</td>\n",
              "      <td>0</td>\n",
              "      <td>0</td>\n",
              "      <td>8.0500</td>\n",
              "      <td>S</td>\n",
              "      <td>0</td>\n",
              "      <td>0</td>\n",
              "      <td>n</td>\n",
              "      <td>Mr</td>\n",
              "    </tr>\n",
              "    <tr>\n",
              "      <th>417</th>\n",
              "      <td>1309</td>\n",
              "      <td>NaN</td>\n",
              "      <td>3</td>\n",
              "      <td>male</td>\n",
              "      <td>24.816367</td>\n",
              "      <td>1</td>\n",
              "      <td>1</td>\n",
              "      <td>22.3583</td>\n",
              "      <td>C</td>\n",
              "      <td>0</td>\n",
              "      <td>0</td>\n",
              "      <td>n</td>\n",
              "      <td>Master</td>\n",
              "    </tr>\n",
              "  </tbody>\n",
              "</table>\n",
              "<p>1307 rows × 13 columns</p>\n",
              "</div>"
            ],
            "text/plain": [
              "     PassengerId  Survived  Pclass  ... Cabin_num  Cabin_letter   Title\n",
              "0              1       0.0       3  ...         0             n      Mr\n",
              "1              2       1.0       1  ...         1             C     Mrs\n",
              "2              3       1.0       3  ...         0             n    Miss\n",
              "3              4       1.0       1  ...         1             C     Mrs\n",
              "4              5       0.0       3  ...         0             n      Mr\n",
              "..           ...       ...     ...  ...       ...           ...     ...\n",
              "413         1305       NaN       3  ...         0             n      Mr\n",
              "414         1306       NaN       1  ...         1             C   OTHER\n",
              "415         1307       NaN       3  ...         0             n      Mr\n",
              "416         1308       NaN       3  ...         0             n      Mr\n",
              "417         1309       NaN       3  ...         0             n  Master\n",
              "\n",
              "[1307 rows x 13 columns]"
            ]
          },
          "execution_count": 1992,
          "metadata": {
            "tags": []
          },
          "output_type": "execute_result"
        }
      ],
      "source": [
        "# Just drop ticket and ticket_num\n",
        "all_data = all_data.drop([\"Ticket\", \"Ticket_num\"], axis=1)\n",
        "all_data"
      ]
    },
    {
      "cell_type": "markdown",
      "metadata": {
        "id": "9NXEF5fg89Gv"
      },
      "source": [
        "Now, let's deal with the remaining categorical columns. We will one hot encode the columns."
      ]
    },
    {
      "cell_type": "code",
      "execution_count": 1993,
      "metadata": {
        "id": "YKTJng-emS7j"
      },
      "outputs": [],
      "source": [
        "dummies = pd.get_dummies(all_data[[\"Sex\", \"Embarked\", \"Cabin_letter\", \"Title\"]], drop_first=True)\n",
        "all_data = pd.concat([all_data.drop([\"Sex\", \"Embarked\", \"Cabin_letter\", \"Title\"], axis=1), dummies], axis=1)"
      ]
    },
    {
      "cell_type": "code",
      "execution_count": 1994,
      "metadata": {
        "colab": {
          "base_uri": "https://localhost:8080/",
          "height": 439
        },
        "id": "3mHoSduimoNX",
        "outputId": "4ef7953c-4bb8-4953-ad32-eda60b2fdb8b"
      },
      "outputs": [
        {
          "data": {
            "text/html": [
              "<div>\n",
              "<style scoped>\n",
              "    .dataframe tbody tr th:only-of-type {\n",
              "        vertical-align: middle;\n",
              "    }\n",
              "\n",
              "    .dataframe tbody tr th {\n",
              "        vertical-align: top;\n",
              "    }\n",
              "\n",
              "    .dataframe thead th {\n",
              "        text-align: right;\n",
              "    }\n",
              "</style>\n",
              "<table border=\"1\" class=\"dataframe\">\n",
              "  <thead>\n",
              "    <tr style=\"text-align: right;\">\n",
              "      <th></th>\n",
              "      <th>PassengerId</th>\n",
              "      <th>Survived</th>\n",
              "      <th>Pclass</th>\n",
              "      <th>Age</th>\n",
              "      <th>SibSp</th>\n",
              "      <th>Parch</th>\n",
              "      <th>Fare</th>\n",
              "      <th>train_test</th>\n",
              "      <th>Cabin_num</th>\n",
              "      <th>Sex_male</th>\n",
              "      <th>Embarked_Q</th>\n",
              "      <th>Embarked_S</th>\n",
              "      <th>Cabin_letter_B</th>\n",
              "      <th>Cabin_letter_C</th>\n",
              "      <th>Cabin_letter_D</th>\n",
              "      <th>Cabin_letter_E</th>\n",
              "      <th>Cabin_letter_F</th>\n",
              "      <th>Cabin_letter_G</th>\n",
              "      <th>Cabin_letter_T</th>\n",
              "      <th>Cabin_letter_n</th>\n",
              "      <th>Title_Miss</th>\n",
              "      <th>Title_Mr</th>\n",
              "      <th>Title_Mrs</th>\n",
              "      <th>Title_OTHER</th>\n",
              "    </tr>\n",
              "  </thead>\n",
              "  <tbody>\n",
              "    <tr>\n",
              "      <th>0</th>\n",
              "      <td>1</td>\n",
              "      <td>0.0</td>\n",
              "      <td>3</td>\n",
              "      <td>22.000000</td>\n",
              "      <td>1</td>\n",
              "      <td>0</td>\n",
              "      <td>7.2500</td>\n",
              "      <td>1</td>\n",
              "      <td>0</td>\n",
              "      <td>1</td>\n",
              "      <td>0</td>\n",
              "      <td>1</td>\n",
              "      <td>0</td>\n",
              "      <td>0</td>\n",
              "      <td>0</td>\n",
              "      <td>0</td>\n",
              "      <td>0</td>\n",
              "      <td>0</td>\n",
              "      <td>0</td>\n",
              "      <td>1</td>\n",
              "      <td>0</td>\n",
              "      <td>1</td>\n",
              "      <td>0</td>\n",
              "      <td>0</td>\n",
              "    </tr>\n",
              "    <tr>\n",
              "      <th>1</th>\n",
              "      <td>2</td>\n",
              "      <td>1.0</td>\n",
              "      <td>1</td>\n",
              "      <td>38.000000</td>\n",
              "      <td>1</td>\n",
              "      <td>0</td>\n",
              "      <td>71.2833</td>\n",
              "      <td>1</td>\n",
              "      <td>1</td>\n",
              "      <td>0</td>\n",
              "      <td>0</td>\n",
              "      <td>0</td>\n",
              "      <td>0</td>\n",
              "      <td>1</td>\n",
              "      <td>0</td>\n",
              "      <td>0</td>\n",
              "      <td>0</td>\n",
              "      <td>0</td>\n",
              "      <td>0</td>\n",
              "      <td>0</td>\n",
              "      <td>0</td>\n",
              "      <td>0</td>\n",
              "      <td>1</td>\n",
              "      <td>0</td>\n",
              "    </tr>\n",
              "    <tr>\n",
              "      <th>2</th>\n",
              "      <td>3</td>\n",
              "      <td>1.0</td>\n",
              "      <td>3</td>\n",
              "      <td>26.000000</td>\n",
              "      <td>0</td>\n",
              "      <td>0</td>\n",
              "      <td>7.9250</td>\n",
              "      <td>1</td>\n",
              "      <td>0</td>\n",
              "      <td>0</td>\n",
              "      <td>0</td>\n",
              "      <td>1</td>\n",
              "      <td>0</td>\n",
              "      <td>0</td>\n",
              "      <td>0</td>\n",
              "      <td>0</td>\n",
              "      <td>0</td>\n",
              "      <td>0</td>\n",
              "      <td>0</td>\n",
              "      <td>1</td>\n",
              "      <td>1</td>\n",
              "      <td>0</td>\n",
              "      <td>0</td>\n",
              "      <td>0</td>\n",
              "    </tr>\n",
              "    <tr>\n",
              "      <th>3</th>\n",
              "      <td>4</td>\n",
              "      <td>1.0</td>\n",
              "      <td>1</td>\n",
              "      <td>35.000000</td>\n",
              "      <td>1</td>\n",
              "      <td>0</td>\n",
              "      <td>53.1000</td>\n",
              "      <td>1</td>\n",
              "      <td>1</td>\n",
              "      <td>0</td>\n",
              "      <td>0</td>\n",
              "      <td>1</td>\n",
              "      <td>0</td>\n",
              "      <td>1</td>\n",
              "      <td>0</td>\n",
              "      <td>0</td>\n",
              "      <td>0</td>\n",
              "      <td>0</td>\n",
              "      <td>0</td>\n",
              "      <td>0</td>\n",
              "      <td>0</td>\n",
              "      <td>0</td>\n",
              "      <td>1</td>\n",
              "      <td>0</td>\n",
              "    </tr>\n",
              "    <tr>\n",
              "      <th>4</th>\n",
              "      <td>5</td>\n",
              "      <td>0.0</td>\n",
              "      <td>3</td>\n",
              "      <td>35.000000</td>\n",
              "      <td>0</td>\n",
              "      <td>0</td>\n",
              "      <td>8.0500</td>\n",
              "      <td>1</td>\n",
              "      <td>0</td>\n",
              "      <td>1</td>\n",
              "      <td>0</td>\n",
              "      <td>1</td>\n",
              "      <td>0</td>\n",
              "      <td>0</td>\n",
              "      <td>0</td>\n",
              "      <td>0</td>\n",
              "      <td>0</td>\n",
              "      <td>0</td>\n",
              "      <td>0</td>\n",
              "      <td>1</td>\n",
              "      <td>0</td>\n",
              "      <td>1</td>\n",
              "      <td>0</td>\n",
              "      <td>0</td>\n",
              "    </tr>\n",
              "    <tr>\n",
              "      <th>...</th>\n",
              "      <td>...</td>\n",
              "      <td>...</td>\n",
              "      <td>...</td>\n",
              "      <td>...</td>\n",
              "      <td>...</td>\n",
              "      <td>...</td>\n",
              "      <td>...</td>\n",
              "      <td>...</td>\n",
              "      <td>...</td>\n",
              "      <td>...</td>\n",
              "      <td>...</td>\n",
              "      <td>...</td>\n",
              "      <td>...</td>\n",
              "      <td>...</td>\n",
              "      <td>...</td>\n",
              "      <td>...</td>\n",
              "      <td>...</td>\n",
              "      <td>...</td>\n",
              "      <td>...</td>\n",
              "      <td>...</td>\n",
              "      <td>...</td>\n",
              "      <td>...</td>\n",
              "      <td>...</td>\n",
              "      <td>...</td>\n",
              "    </tr>\n",
              "    <tr>\n",
              "      <th>413</th>\n",
              "      <td>1305</td>\n",
              "      <td>NaN</td>\n",
              "      <td>3</td>\n",
              "      <td>24.816367</td>\n",
              "      <td>0</td>\n",
              "      <td>0</td>\n",
              "      <td>8.0500</td>\n",
              "      <td>0</td>\n",
              "      <td>0</td>\n",
              "      <td>1</td>\n",
              "      <td>0</td>\n",
              "      <td>1</td>\n",
              "      <td>0</td>\n",
              "      <td>0</td>\n",
              "      <td>0</td>\n",
              "      <td>0</td>\n",
              "      <td>0</td>\n",
              "      <td>0</td>\n",
              "      <td>0</td>\n",
              "      <td>1</td>\n",
              "      <td>0</td>\n",
              "      <td>1</td>\n",
              "      <td>0</td>\n",
              "      <td>0</td>\n",
              "    </tr>\n",
              "    <tr>\n",
              "      <th>414</th>\n",
              "      <td>1306</td>\n",
              "      <td>NaN</td>\n",
              "      <td>1</td>\n",
              "      <td>39.000000</td>\n",
              "      <td>0</td>\n",
              "      <td>0</td>\n",
              "      <td>108.9000</td>\n",
              "      <td>0</td>\n",
              "      <td>1</td>\n",
              "      <td>0</td>\n",
              "      <td>0</td>\n",
              "      <td>0</td>\n",
              "      <td>0</td>\n",
              "      <td>1</td>\n",
              "      <td>0</td>\n",
              "      <td>0</td>\n",
              "      <td>0</td>\n",
              "      <td>0</td>\n",
              "      <td>0</td>\n",
              "      <td>0</td>\n",
              "      <td>0</td>\n",
              "      <td>0</td>\n",
              "      <td>0</td>\n",
              "      <td>1</td>\n",
              "    </tr>\n",
              "    <tr>\n",
              "      <th>415</th>\n",
              "      <td>1307</td>\n",
              "      <td>NaN</td>\n",
              "      <td>3</td>\n",
              "      <td>38.500000</td>\n",
              "      <td>0</td>\n",
              "      <td>0</td>\n",
              "      <td>7.2500</td>\n",
              "      <td>0</td>\n",
              "      <td>0</td>\n",
              "      <td>1</td>\n",
              "      <td>0</td>\n",
              "      <td>1</td>\n",
              "      <td>0</td>\n",
              "      <td>0</td>\n",
              "      <td>0</td>\n",
              "      <td>0</td>\n",
              "      <td>0</td>\n",
              "      <td>0</td>\n",
              "      <td>0</td>\n",
              "      <td>1</td>\n",
              "      <td>0</td>\n",
              "      <td>1</td>\n",
              "      <td>0</td>\n",
              "      <td>0</td>\n",
              "    </tr>\n",
              "    <tr>\n",
              "      <th>416</th>\n",
              "      <td>1308</td>\n",
              "      <td>NaN</td>\n",
              "      <td>3</td>\n",
              "      <td>24.816367</td>\n",
              "      <td>0</td>\n",
              "      <td>0</td>\n",
              "      <td>8.0500</td>\n",
              "      <td>0</td>\n",
              "      <td>0</td>\n",
              "      <td>1</td>\n",
              "      <td>0</td>\n",
              "      <td>1</td>\n",
              "      <td>0</td>\n",
              "      <td>0</td>\n",
              "      <td>0</td>\n",
              "      <td>0</td>\n",
              "      <td>0</td>\n",
              "      <td>0</td>\n",
              "      <td>0</td>\n",
              "      <td>1</td>\n",
              "      <td>0</td>\n",
              "      <td>1</td>\n",
              "      <td>0</td>\n",
              "      <td>0</td>\n",
              "    </tr>\n",
              "    <tr>\n",
              "      <th>417</th>\n",
              "      <td>1309</td>\n",
              "      <td>NaN</td>\n",
              "      <td>3</td>\n",
              "      <td>24.816367</td>\n",
              "      <td>1</td>\n",
              "      <td>1</td>\n",
              "      <td>22.3583</td>\n",
              "      <td>0</td>\n",
              "      <td>0</td>\n",
              "      <td>1</td>\n",
              "      <td>0</td>\n",
              "      <td>0</td>\n",
              "      <td>0</td>\n",
              "      <td>0</td>\n",
              "      <td>0</td>\n",
              "      <td>0</td>\n",
              "      <td>0</td>\n",
              "      <td>0</td>\n",
              "      <td>0</td>\n",
              "      <td>1</td>\n",
              "      <td>0</td>\n",
              "      <td>0</td>\n",
              "      <td>0</td>\n",
              "      <td>0</td>\n",
              "    </tr>\n",
              "  </tbody>\n",
              "</table>\n",
              "<p>1307 rows × 24 columns</p>\n",
              "</div>"
            ],
            "text/plain": [
              "     PassengerId  Survived  Pclass  ...  Title_Mr  Title_Mrs  Title_OTHER\n",
              "0              1       0.0       3  ...         1          0            0\n",
              "1              2       1.0       1  ...         0          1            0\n",
              "2              3       1.0       3  ...         0          0            0\n",
              "3              4       1.0       1  ...         0          1            0\n",
              "4              5       0.0       3  ...         1          0            0\n",
              "..           ...       ...     ...  ...       ...        ...          ...\n",
              "413         1305       NaN       3  ...         1          0            0\n",
              "414         1306       NaN       1  ...         0          0            1\n",
              "415         1307       NaN       3  ...         1          0            0\n",
              "416         1308       NaN       3  ...         1          0            0\n",
              "417         1309       NaN       3  ...         0          0            0\n",
              "\n",
              "[1307 rows x 24 columns]"
            ]
          },
          "execution_count": 1994,
          "metadata": {
            "tags": []
          },
          "output_type": "execute_result"
        }
      ],
      "source": [
        "all_data"
      ]
    },
    {
      "cell_type": "code",
      "execution_count": 1995,
      "metadata": {
        "colab": {
          "base_uri": "https://localhost:8080/"
        },
        "id": "e3Pv6vQZmo9W",
        "outputId": "eb7fa258-17ae-46ae-d95f-e961ad2b2e03"
      },
      "outputs": [
        {
          "data": {
            "text/plain": [
              "Index([], dtype='object')"
            ]
          },
          "execution_count": 1995,
          "metadata": {
            "tags": []
          },
          "output_type": "execute_result"
        }
      ],
      "source": [
        "all_data.select_dtypes([\"object\"]).columns"
      ]
    },
    {
      "cell_type": "markdown",
      "metadata": {
        "id": "ayCPzpHx9M3S"
      },
      "source": [
        "All data preprocessing is done!\n",
        "\n",
        "Now, let's split the data back into train and test datasets so that we can input them into the model."
      ]
    },
    {
      "cell_type": "code",
      "execution_count": 1996,
      "metadata": {
        "id": "8XRFVMYepaps"
      },
      "outputs": [],
      "source": [
        "X_train = all_data[all_data[\"train_test\"] == 1].drop([\"Survived\", \"PassengerId\"], axis=1)\n",
        "X_test = all_data[all_data[\"train_test\"] == 0].drop([\"Survived\", \"PassengerId\"], axis=1)"
      ]
    },
    {
      "cell_type": "code",
      "execution_count": 1997,
      "metadata": {
        "colab": {
          "base_uri": "https://localhost:8080/"
        },
        "id": "UWYoQVnRp84-",
        "outputId": "a85781c6-7f69-4628-8750-c79c4edd37bc"
      },
      "outputs": [
        {
          "data": {
            "text/plain": [
              "(889, 22)"
            ]
          },
          "execution_count": 1997,
          "metadata": {
            "tags": []
          },
          "output_type": "execute_result"
        }
      ],
      "source": [
        "X_train.shape"
      ]
    },
    {
      "cell_type": "code",
      "execution_count": 1998,
      "metadata": {
        "colab": {
          "base_uri": "https://localhost:8080/"
        },
        "id": "MRMUhpLOp9j5",
        "outputId": "fb6f73ac-2597-4fdd-e9ab-24b4d2023dff"
      },
      "outputs": [
        {
          "data": {
            "text/plain": [
              "(418, 22)"
            ]
          },
          "execution_count": 1998,
          "metadata": {
            "tags": []
          },
          "output_type": "execute_result"
        }
      ],
      "source": [
        "X_test.shape"
      ]
    },
    {
      "cell_type": "code",
      "execution_count": 1999,
      "metadata": {
        "colab": {
          "base_uri": "https://localhost:8080/"
        },
        "id": "inGkqW2PqAMh",
        "outputId": "17ed1f01-d67f-4ce0-b37f-9ec7b09124be"
      },
      "outputs": [
        {
          "data": {
            "text/plain": [
              "(889,)"
            ]
          },
          "execution_count": 1999,
          "metadata": {
            "tags": []
          },
          "output_type": "execute_result"
        }
      ],
      "source": [
        "y_train = all_data[all_data[\"train_test\"] == 1][\"Survived\"]\n",
        "y_train.shape"
      ]
    },
    {
      "cell_type": "markdown",
      "metadata": {
        "id": "_PUTgI4hybNk"
      },
      "source": [
        "# Scaling data\n",
        "\n",
        "Before trying out some models, let's scale the data so that training will be easier. We'll use MinMaxScaler from scikit-learn.\n"
      ]
    },
    {
      "cell_type": "code",
      "execution_count": 2000,
      "metadata": {
        "id": "i_3zRC-xvqM2"
      },
      "outputs": [],
      "source": [
        "from sklearn.preprocessing import MinMaxScaler"
      ]
    },
    {
      "cell_type": "code",
      "execution_count": 2001,
      "metadata": {
        "id": "pbhqwV_tyfGq"
      },
      "outputs": [],
      "source": [
        "scaler = MinMaxScaler()"
      ]
    },
    {
      "cell_type": "code",
      "execution_count": 2002,
      "metadata": {
        "colab": {
          "base_uri": "https://localhost:8080/"
        },
        "id": "BVZWVBAfNOht",
        "outputId": "a0c8cab9-7870-473b-c406-f970a272910b"
      },
      "outputs": [
        {
          "data": {
            "text/plain": [
              "pandas.core.frame.DataFrame"
            ]
          },
          "execution_count": 2002,
          "metadata": {
            "tags": []
          },
          "output_type": "execute_result"
        }
      ],
      "source": [
        "type(X_test)"
      ]
    },
    {
      "cell_type": "code",
      "execution_count": 2003,
      "metadata": {
        "id": "f86VjNddyhpX"
      },
      "outputs": [],
      "source": [
        "X_train = scaler.fit_transform(X_train)\n",
        "X_test = scaler.transform(X_test)"
      ]
    },
    {
      "cell_type": "code",
      "execution_count": 2004,
      "metadata": {
        "colab": {
          "base_uri": "https://localhost:8080/"
        },
        "id": "0iZx8fcWyrxv",
        "outputId": "b2d36d09-6aab-4a22-bc74-1fd60a88ca59"
      },
      "outputs": [
        {
          "data": {
            "text/plain": [
              "(889, 22)"
            ]
          },
          "execution_count": 2004,
          "metadata": {
            "tags": []
          },
          "output_type": "execute_result"
        }
      ],
      "source": [
        "X_train.shape"
      ]
    },
    {
      "cell_type": "code",
      "execution_count": 2005,
      "metadata": {
        "colab": {
          "base_uri": "https://localhost:8080/"
        },
        "id": "uBisaCvSys_I",
        "outputId": "094f89b3-722e-40ab-c1a3-c46aa4177d84"
      },
      "outputs": [
        {
          "data": {
            "text/plain": [
              "(418, 22)"
            ]
          },
          "execution_count": 2005,
          "metadata": {
            "tags": []
          },
          "output_type": "execute_result"
        }
      ],
      "source": [
        "X_test.shape"
      ]
    },
    {
      "cell_type": "markdown",
      "metadata": {
        "id": "rL9JrkHk1-UZ"
      },
      "source": [
        "# Model Building\n",
        "\n",
        "Now, we'll try out different models from the scikit-learn library and see which one works the best for this problem. \n"
      ]
    },
    {
      "cell_type": "code",
      "execution_count": 2006,
      "metadata": {
        "id": "uL81_I7h2CbF"
      },
      "outputs": [],
      "source": [
        "from sklearn.model_selection import cross_val_score\n",
        "from sklearn.linear_model import LogisticRegression\n",
        "from sklearn.tree import DecisionTreeClassifier\n",
        "from sklearn.neighbors import KNeighborsClassifier\n",
        "from sklearn.ensemble import RandomForestClassifier\n",
        "from sklearn.svm import SVC"
      ]
    },
    {
      "cell_type": "code",
      "execution_count": 2007,
      "metadata": {
        "colab": {
          "base_uri": "https://localhost:8080/"
        },
        "id": "N8mi-WYH2Tvs",
        "outputId": "7ffeac5c-1809-4cc9-b18d-5713569c0b45"
      },
      "outputs": [
        {
          "name": "stdout",
          "output_type": "stream",
          "text": [
            "82.34\n"
          ]
        }
      ],
      "source": [
        "# Implemented cross validation for better accuracy predictions\n",
        "\n",
        "logreg = LogisticRegression()\n",
        "logreg.fit(X_train, y_train)\n",
        "\n",
        "logreg_cv = cross_val_score(logreg,X_train,y_train,cv=5)\n",
        "logreg_cv_mean = round(logreg_cv.mean() * 100, 2)\n",
        "\n",
        "print(logreg_cv_mean)"
      ]
    },
    {
      "cell_type": "code",
      "execution_count": 2008,
      "metadata": {
        "colab": {
          "base_uri": "https://localhost:8080/"
        },
        "id": "v5H1YBEs3THd",
        "outputId": "7ca964fe-2929-45b1-c04f-60357c87d97b"
      },
      "outputs": [
        {
          "name": "stdout",
          "output_type": "stream",
          "text": [
            "78.4\n"
          ]
        }
      ],
      "source": [
        "dectree = DecisionTreeClassifier()\n",
        "dectree.fit(X_train, y_train)\n",
        "\n",
        "\n",
        "dectree_cv = cross_val_score(dectree,X_train,y_train,cv=5)\n",
        "dectree_cv_mean = round(dectree_cv.mean() * 100, 2)\n",
        "\n",
        "print(dectree_cv_mean)"
      ]
    },
    {
      "cell_type": "code",
      "execution_count": 2009,
      "metadata": {
        "colab": {
          "base_uri": "https://localhost:8080/"
        },
        "id": "BIcCGABc9y8F",
        "outputId": "f623c72e-a383-4613-e1e4-f464e9519289"
      },
      "outputs": [
        {
          "name": "stdout",
          "output_type": "stream",
          "text": [
            "80.66\n"
          ]
        }
      ],
      "source": [
        "knn = KNeighborsClassifier()\n",
        "knn.fit(X_train, y_train)\n",
        "\n",
        "\n",
        "knn_cv = cross_val_score(knn, X_train, y_train, cv=5)\n",
        "knn_cv_mean = round(knn_cv.mean() * 100, 2)\n",
        "\n",
        "print(knn_cv_mean)"
      ]
    },
    {
      "cell_type": "code",
      "execution_count": 2010,
      "metadata": {
        "colab": {
          "base_uri": "https://localhost:8080/"
        },
        "id": "4LXY4ec5-LCQ",
        "outputId": "3085bb4c-c5ce-4f65-cfe1-0c42d95c4305"
      },
      "outputs": [
        {
          "name": "stdout",
          "output_type": "stream",
          "text": [
            "80.77\n"
          ]
        }
      ],
      "source": [
        "rf = RandomForestClassifier()\n",
        "rf.fit(X_train, y_train)\n",
        "\n",
        "\n",
        "rf_cv = cross_val_score(rf,X_train,y_train,cv=5)\n",
        "rf_cv_mean = round(rf_cv.mean() * 100, 2)\n",
        "\n",
        "print(rf_cv_mean)"
      ]
    },
    {
      "cell_type": "code",
      "execution_count": 2011,
      "metadata": {
        "colab": {
          "base_uri": "https://localhost:8080/"
        },
        "id": "bMXxeBZf-THH",
        "outputId": "94f275d4-716c-4be6-8abd-63fce579c50f"
      },
      "outputs": [
        {
          "name": "stdout",
          "output_type": "stream",
          "text": [
            "81.67\n"
          ]
        }
      ],
      "source": [
        "svc = SVC(probability = True)\n",
        "svc.fit(X_train, y_train)\n",
        "\n",
        "\n",
        "svc_cv = cross_val_score(svc,X_train,y_train,cv=5)\n",
        "svc_cv_mean = round(svc_cv.mean() * 100, 2)\n",
        "\n",
        "print(svc_cv_mean)"
      ]
    },
    {
      "cell_type": "code",
      "execution_count": 2012,
      "metadata": {
        "colab": {
          "base_uri": "https://localhost:8080/",
          "height": 204
        },
        "id": "Rjhjt4i2-XGC",
        "outputId": "deeb9976-2819-4ad4-94df-fd88e023bb96"
      },
      "outputs": [
        {
          "data": {
            "text/html": [
              "<div>\n",
              "<style scoped>\n",
              "    .dataframe tbody tr th:only-of-type {\n",
              "        vertical-align: middle;\n",
              "    }\n",
              "\n",
              "    .dataframe tbody tr th {\n",
              "        vertical-align: top;\n",
              "    }\n",
              "\n",
              "    .dataframe thead th {\n",
              "        text-align: right;\n",
              "    }\n",
              "</style>\n",
              "<table border=\"1\" class=\"dataframe\">\n",
              "  <thead>\n",
              "    <tr style=\"text-align: right;\">\n",
              "      <th></th>\n",
              "      <th>Model</th>\n",
              "      <th>Score</th>\n",
              "    </tr>\n",
              "  </thead>\n",
              "  <tbody>\n",
              "    <tr>\n",
              "      <th>0</th>\n",
              "      <td>Logistic Regression</td>\n",
              "      <td>82.34</td>\n",
              "    </tr>\n",
              "    <tr>\n",
              "      <th>4</th>\n",
              "      <td>SVC</td>\n",
              "      <td>81.67</td>\n",
              "    </tr>\n",
              "    <tr>\n",
              "      <th>3</th>\n",
              "      <td>Random Forest</td>\n",
              "      <td>80.77</td>\n",
              "    </tr>\n",
              "    <tr>\n",
              "      <th>2</th>\n",
              "      <td>KNN</td>\n",
              "      <td>80.66</td>\n",
              "    </tr>\n",
              "    <tr>\n",
              "      <th>1</th>\n",
              "      <td>Decision Tree</td>\n",
              "      <td>78.40</td>\n",
              "    </tr>\n",
              "  </tbody>\n",
              "</table>\n",
              "</div>"
            ],
            "text/plain": [
              "                 Model  Score\n",
              "0  Logistic Regression  82.34\n",
              "4                  SVC  81.67\n",
              "3        Random Forest  80.77\n",
              "2                  KNN  80.66\n",
              "1        Decision Tree  78.40"
            ]
          },
          "execution_count": 2012,
          "metadata": {
            "tags": []
          },
          "output_type": "execute_result"
        }
      ],
      "source": [
        "models = pd.DataFrame({\n",
        "    \"Model\": [\"Logistic Regression\", \"Decision Tree\", \"KNN\", \"Random Forest\", \"SVC\"],\n",
        "    \"Score\": [logreg_cv_mean, dectree_cv_mean, knn_cv_mean, rf_cv_mean, svc_cv_mean]\n",
        "})\n",
        "models.sort_values(\"Score\", ascending=False)\n"
      ]
    },
    {
      "cell_type": "markdown",
      "metadata": {
        "id": "KamInLTv-CMM"
      },
      "source": [
        "So it's clear that logistic regression worked the best for our problem! \n",
        "\n",
        "Just to satisfy my curiosity, let's try making a neural network using tensorflow (will be subject to overfitting since we don't have the test predictions to use for validation data)!"
      ]
    },
    {
      "cell_type": "code",
      "execution_count": 2013,
      "metadata": {
        "id": "1bA0V3VYulWF"
      },
      "outputs": [],
      "source": [
        "# Trying out a neural network\n",
        "import tensorflow as tf\n",
        "from tensorflow.keras.models import Sequential\n",
        "from tensorflow.keras.layers import Dense, Dropout"
      ]
    },
    {
      "cell_type": "code",
      "execution_count": 2014,
      "metadata": {
        "id": "uiPu3bQUvKd3"
      },
      "outputs": [],
      "source": [
        "model = Sequential()\n",
        "\n",
        "model.add(Dense(22, activation=\"relu\"))\n",
        "model.add(Dropout(0.4))\n",
        "model.add(Dense(11, activation=\"relu\"))\n",
        "model.add(Dense(1, activation=\"sigmoid\"))\n",
        "\n",
        "model.compile(loss=\"binary_crossentropy\", optimizer=\"adam\", metrics=[\"accuracy\"])"
      ]
    },
    {
      "cell_type": "code",
      "execution_count": 2015,
      "metadata": {
        "colab": {
          "base_uri": "https://localhost:8080/"
        },
        "id": "UYzvM4n2viJ3",
        "outputId": "31542e13-3db2-4233-fe26-ba151b3be57c"
      },
      "outputs": [
        {
          "name": "stdout",
          "output_type": "stream",
          "text": [
            "Epoch 1/400\n",
            "4/4 [==============================] - 1s 4ms/step - loss: 0.6995 - accuracy: 0.5231\n",
            "Epoch 2/400\n",
            "4/4 [==============================] - 0s 3ms/step - loss: 0.6826 - accuracy: 0.5647\n",
            "Epoch 3/400\n",
            "4/4 [==============================] - 0s 4ms/step - loss: 0.6626 - accuracy: 0.6153\n",
            "Epoch 4/400\n",
            "4/4 [==============================] - 0s 3ms/step - loss: 0.6556 - accuracy: 0.6277\n",
            "Epoch 5/400\n",
            "4/4 [==============================] - 0s 4ms/step - loss: 0.6480 - accuracy: 0.6558\n",
            "Epoch 6/400\n",
            "4/4 [==============================] - 0s 4ms/step - loss: 0.6314 - accuracy: 0.6805\n",
            "Epoch 7/400\n",
            "4/4 [==============================] - 0s 4ms/step - loss: 0.6271 - accuracy: 0.6760\n",
            "Epoch 8/400\n",
            "4/4 [==============================] - 0s 3ms/step - loss: 0.6121 - accuracy: 0.6682\n",
            "Epoch 9/400\n",
            "4/4 [==============================] - 0s 4ms/step - loss: 0.6141 - accuracy: 0.6772\n",
            "Epoch 10/400\n",
            "4/4 [==============================] - 0s 4ms/step - loss: 0.6053 - accuracy: 0.6839\n",
            "Epoch 11/400\n",
            "4/4 [==============================] - 0s 4ms/step - loss: 0.5908 - accuracy: 0.6895\n",
            "Epoch 12/400\n",
            "4/4 [==============================] - 0s 4ms/step - loss: 0.5904 - accuracy: 0.6907\n",
            "Epoch 13/400\n",
            "4/4 [==============================] - 0s 4ms/step - loss: 0.5889 - accuracy: 0.6929\n",
            "Epoch 14/400\n",
            "4/4 [==============================] - 0s 4ms/step - loss: 0.5818 - accuracy: 0.7053\n",
            "Epoch 15/400\n",
            "4/4 [==============================] - 0s 4ms/step - loss: 0.5736 - accuracy: 0.7132\n",
            "Epoch 16/400\n",
            "4/4 [==============================] - 0s 4ms/step - loss: 0.5673 - accuracy: 0.7098\n",
            "Epoch 17/400\n",
            "4/4 [==============================] - 0s 9ms/step - loss: 0.5513 - accuracy: 0.7165\n",
            "Epoch 18/400\n",
            "4/4 [==============================] - 0s 4ms/step - loss: 0.5496 - accuracy: 0.7255\n",
            "Epoch 19/400\n",
            "4/4 [==============================] - 0s 4ms/step - loss: 0.5394 - accuracy: 0.7424\n",
            "Epoch 20/400\n",
            "4/4 [==============================] - 0s 4ms/step - loss: 0.5369 - accuracy: 0.7537\n",
            "Epoch 21/400\n",
            "4/4 [==============================] - 0s 5ms/step - loss: 0.5296 - accuracy: 0.7548\n",
            "Epoch 22/400\n",
            "4/4 [==============================] - 0s 4ms/step - loss: 0.5292 - accuracy: 0.7537\n",
            "Epoch 23/400\n",
            "4/4 [==============================] - 0s 4ms/step - loss: 0.5312 - accuracy: 0.7480\n",
            "Epoch 24/400\n",
            "4/4 [==============================] - 0s 5ms/step - loss: 0.5238 - accuracy: 0.7649\n",
            "Epoch 25/400\n",
            "4/4 [==============================] - 0s 4ms/step - loss: 0.5205 - accuracy: 0.7503\n",
            "Epoch 26/400\n",
            "4/4 [==============================] - 0s 4ms/step - loss: 0.5127 - accuracy: 0.7615\n",
            "Epoch 27/400\n",
            "4/4 [==============================] - 0s 5ms/step - loss: 0.5076 - accuracy: 0.7649\n",
            "Epoch 28/400\n",
            "4/4 [==============================] - 0s 7ms/step - loss: 0.5080 - accuracy: 0.7773\n",
            "Epoch 29/400\n",
            "4/4 [==============================] - 0s 4ms/step - loss: 0.5107 - accuracy: 0.7604\n",
            "Epoch 30/400\n",
            "4/4 [==============================] - 0s 4ms/step - loss: 0.4998 - accuracy: 0.7660\n",
            "Epoch 31/400\n",
            "4/4 [==============================] - 0s 5ms/step - loss: 0.4891 - accuracy: 0.7627\n",
            "Epoch 32/400\n",
            "4/4 [==============================] - 0s 7ms/step - loss: 0.4954 - accuracy: 0.7852\n",
            "Epoch 33/400\n",
            "4/4 [==============================] - 0s 5ms/step - loss: 0.4948 - accuracy: 0.7739\n",
            "Epoch 34/400\n",
            "4/4 [==============================] - 0s 4ms/step - loss: 0.4923 - accuracy: 0.7840\n",
            "Epoch 35/400\n",
            "4/4 [==============================] - 0s 5ms/step - loss: 0.4923 - accuracy: 0.7852\n",
            "Epoch 36/400\n",
            "4/4 [==============================] - 0s 4ms/step - loss: 0.5095 - accuracy: 0.7593\n",
            "Epoch 37/400\n",
            "4/4 [==============================] - 0s 4ms/step - loss: 0.4872 - accuracy: 0.7852\n",
            "Epoch 38/400\n",
            "4/4 [==============================] - 0s 5ms/step - loss: 0.4904 - accuracy: 0.7829\n",
            "Epoch 39/400\n",
            "4/4 [==============================] - 0s 4ms/step - loss: 0.4908 - accuracy: 0.7829\n",
            "Epoch 40/400\n",
            "4/4 [==============================] - 0s 4ms/step - loss: 0.4739 - accuracy: 0.7874\n",
            "Epoch 41/400\n",
            "4/4 [==============================] - 0s 3ms/step - loss: 0.4675 - accuracy: 0.7919\n",
            "Epoch 42/400\n",
            "4/4 [==============================] - 0s 5ms/step - loss: 0.4855 - accuracy: 0.7852\n",
            "Epoch 43/400\n",
            "4/4 [==============================] - 0s 4ms/step - loss: 0.4806 - accuracy: 0.7885\n",
            "Epoch 44/400\n",
            "4/4 [==============================] - 0s 5ms/step - loss: 0.4779 - accuracy: 0.7897\n",
            "Epoch 45/400\n",
            "4/4 [==============================] - 0s 7ms/step - loss: 0.4700 - accuracy: 0.7930\n",
            "Epoch 46/400\n",
            "4/4 [==============================] - 0s 4ms/step - loss: 0.4964 - accuracy: 0.7795\n",
            "Epoch 47/400\n",
            "4/4 [==============================] - 0s 3ms/step - loss: 0.4754 - accuracy: 0.7998\n",
            "Epoch 48/400\n",
            "4/4 [==============================] - 0s 5ms/step - loss: 0.4631 - accuracy: 0.7975\n",
            "Epoch 49/400\n",
            "4/4 [==============================] - 0s 7ms/step - loss: 0.4813 - accuracy: 0.7750\n",
            "Epoch 50/400\n",
            "4/4 [==============================] - 0s 5ms/step - loss: 0.4742 - accuracy: 0.7863\n",
            "Epoch 51/400\n",
            "4/4 [==============================] - 0s 5ms/step - loss: 0.4738 - accuracy: 0.7930\n",
            "Epoch 52/400\n",
            "4/4 [==============================] - 0s 4ms/step - loss: 0.4886 - accuracy: 0.7784\n",
            "Epoch 53/400\n",
            "4/4 [==============================] - 0s 5ms/step - loss: 0.4654 - accuracy: 0.7930\n",
            "Epoch 54/400\n",
            "4/4 [==============================] - 0s 4ms/step - loss: 0.4687 - accuracy: 0.7897\n",
            "Epoch 55/400\n",
            "4/4 [==============================] - 0s 6ms/step - loss: 0.4612 - accuracy: 0.7987\n",
            "Epoch 56/400\n",
            "4/4 [==============================] - 0s 4ms/step - loss: 0.4840 - accuracy: 0.7863\n",
            "Epoch 57/400\n",
            "4/4 [==============================] - 0s 4ms/step - loss: 0.4624 - accuracy: 0.7919\n",
            "Epoch 58/400\n",
            "4/4 [==============================] - 0s 4ms/step - loss: 0.4745 - accuracy: 0.7897\n",
            "Epoch 59/400\n",
            "4/4 [==============================] - 0s 12ms/step - loss: 0.4714 - accuracy: 0.7975\n",
            "Epoch 60/400\n",
            "4/4 [==============================] - 0s 5ms/step - loss: 0.4559 - accuracy: 0.7964\n",
            "Epoch 61/400\n",
            "4/4 [==============================] - 0s 4ms/step - loss: 0.4643 - accuracy: 0.7942\n",
            "Epoch 62/400\n",
            "4/4 [==============================] - 0s 5ms/step - loss: 0.4543 - accuracy: 0.7908\n",
            "Epoch 63/400\n",
            "4/4 [==============================] - 0s 4ms/step - loss: 0.4629 - accuracy: 0.7987\n",
            "Epoch 64/400\n",
            "4/4 [==============================] - 0s 4ms/step - loss: 0.4656 - accuracy: 0.7919\n",
            "Epoch 65/400\n",
            "4/4 [==============================] - 0s 7ms/step - loss: 0.4551 - accuracy: 0.7998\n",
            "Epoch 66/400\n",
            "4/4 [==============================] - 0s 5ms/step - loss: 0.4625 - accuracy: 0.8020\n",
            "Epoch 67/400\n",
            "4/4 [==============================] - 0s 4ms/step - loss: 0.4644 - accuracy: 0.7919\n",
            "Epoch 68/400\n",
            "4/4 [==============================] - 0s 4ms/step - loss: 0.4633 - accuracy: 0.8020\n",
            "Epoch 69/400\n",
            "4/4 [==============================] - 0s 5ms/step - loss: 0.4555 - accuracy: 0.8065\n",
            "Epoch 70/400\n",
            "4/4 [==============================] - 0s 5ms/step - loss: 0.4586 - accuracy: 0.8020\n",
            "Epoch 71/400\n",
            "4/4 [==============================] - 0s 4ms/step - loss: 0.4759 - accuracy: 0.7863\n",
            "Epoch 72/400\n",
            "4/4 [==============================] - 0s 4ms/step - loss: 0.4655 - accuracy: 0.7852\n",
            "Epoch 73/400\n",
            "4/4 [==============================] - 0s 4ms/step - loss: 0.4633 - accuracy: 0.7964\n",
            "Epoch 74/400\n",
            "4/4 [==============================] - 0s 5ms/step - loss: 0.4597 - accuracy: 0.8009\n",
            "Epoch 75/400\n",
            "4/4 [==============================] - 0s 4ms/step - loss: 0.4593 - accuracy: 0.8043\n",
            "Epoch 76/400\n",
            "4/4 [==============================] - 0s 5ms/step - loss: 0.4537 - accuracy: 0.7930\n",
            "Epoch 77/400\n",
            "4/4 [==============================] - 0s 4ms/step - loss: 0.4674 - accuracy: 0.7964\n",
            "Epoch 78/400\n",
            "4/4 [==============================] - 0s 4ms/step - loss: 0.4463 - accuracy: 0.7942\n",
            "Epoch 79/400\n",
            "4/4 [==============================] - 0s 4ms/step - loss: 0.4571 - accuracy: 0.7998\n",
            "Epoch 80/400\n",
            "4/4 [==============================] - 0s 4ms/step - loss: 0.4584 - accuracy: 0.7987\n",
            "Epoch 81/400\n",
            "4/4 [==============================] - 0s 4ms/step - loss: 0.4523 - accuracy: 0.8009\n",
            "Epoch 82/400\n",
            "4/4 [==============================] - 0s 4ms/step - loss: 0.4571 - accuracy: 0.8009\n",
            "Epoch 83/400\n",
            "4/4 [==============================] - 0s 4ms/step - loss: 0.4530 - accuracy: 0.7784\n",
            "Epoch 84/400\n",
            "4/4 [==============================] - 0s 5ms/step - loss: 0.4555 - accuracy: 0.8110\n",
            "Epoch 85/400\n",
            "4/4 [==============================] - 0s 5ms/step - loss: 0.4565 - accuracy: 0.8031\n",
            "Epoch 86/400\n",
            "4/4 [==============================] - 0s 6ms/step - loss: 0.4599 - accuracy: 0.8065\n",
            "Epoch 87/400\n",
            "4/4 [==============================] - 0s 4ms/step - loss: 0.4550 - accuracy: 0.8054\n",
            "Epoch 88/400\n",
            "4/4 [==============================] - 0s 5ms/step - loss: 0.4529 - accuracy: 0.8054\n",
            "Epoch 89/400\n",
            "4/4 [==============================] - 0s 4ms/step - loss: 0.4429 - accuracy: 0.8065\n",
            "Epoch 90/400\n",
            "4/4 [==============================] - 0s 6ms/step - loss: 0.4501 - accuracy: 0.7964\n",
            "Epoch 91/400\n",
            "4/4 [==============================] - 0s 4ms/step - loss: 0.4481 - accuracy: 0.7964\n",
            "Epoch 92/400\n",
            "4/4 [==============================] - 0s 4ms/step - loss: 0.4394 - accuracy: 0.8088\n",
            "Epoch 93/400\n",
            "4/4 [==============================] - 0s 5ms/step - loss: 0.4556 - accuracy: 0.8099\n",
            "Epoch 94/400\n",
            "4/4 [==============================] - 0s 4ms/step - loss: 0.4534 - accuracy: 0.8144\n",
            "Epoch 95/400\n",
            "4/4 [==============================] - 0s 4ms/step - loss: 0.4449 - accuracy: 0.7987\n",
            "Epoch 96/400\n",
            "4/4 [==============================] - 0s 5ms/step - loss: 0.4408 - accuracy: 0.8088\n",
            "Epoch 97/400\n",
            "4/4 [==============================] - 0s 5ms/step - loss: 0.4392 - accuracy: 0.8166\n",
            "Epoch 98/400\n",
            "4/4 [==============================] - 0s 4ms/step - loss: 0.4437 - accuracy: 0.8133\n",
            "Epoch 99/400\n",
            "4/4 [==============================] - 0s 7ms/step - loss: 0.4430 - accuracy: 0.8054\n",
            "Epoch 100/400\n",
            "4/4 [==============================] - 0s 5ms/step - loss: 0.4492 - accuracy: 0.8043\n",
            "Epoch 101/400\n",
            "4/4 [==============================] - 0s 5ms/step - loss: 0.4430 - accuracy: 0.8189\n",
            "Epoch 102/400\n",
            "4/4 [==============================] - 0s 7ms/step - loss: 0.4383 - accuracy: 0.8099\n",
            "Epoch 103/400\n",
            "4/4 [==============================] - 0s 4ms/step - loss: 0.4380 - accuracy: 0.8144\n",
            "Epoch 104/400\n",
            "4/4 [==============================] - 0s 5ms/step - loss: 0.4390 - accuracy: 0.8166\n",
            "Epoch 105/400\n",
            "4/4 [==============================] - 0s 6ms/step - loss: 0.4360 - accuracy: 0.8144\n",
            "Epoch 106/400\n",
            "4/4 [==============================] - 0s 5ms/step - loss: 0.4398 - accuracy: 0.8110\n",
            "Epoch 107/400\n",
            "4/4 [==============================] - 0s 5ms/step - loss: 0.4388 - accuracy: 0.8031\n",
            "Epoch 108/400\n",
            "4/4 [==============================] - 0s 4ms/step - loss: 0.4278 - accuracy: 0.8234\n",
            "Epoch 109/400\n",
            "4/4 [==============================] - 0s 7ms/step - loss: 0.4416 - accuracy: 0.8099\n",
            "Epoch 110/400\n",
            "4/4 [==============================] - 0s 5ms/step - loss: 0.4352 - accuracy: 0.8200\n",
            "Epoch 111/400\n",
            "4/4 [==============================] - 0s 4ms/step - loss: 0.4431 - accuracy: 0.8121\n",
            "Epoch 112/400\n",
            "4/4 [==============================] - 0s 6ms/step - loss: 0.4499 - accuracy: 0.8031\n",
            "Epoch 113/400\n",
            "4/4 [==============================] - 0s 4ms/step - loss: 0.4429 - accuracy: 0.8133\n",
            "Epoch 114/400\n",
            "4/4 [==============================] - 0s 5ms/step - loss: 0.4365 - accuracy: 0.8133\n",
            "Epoch 115/400\n",
            "4/4 [==============================] - 0s 4ms/step - loss: 0.4384 - accuracy: 0.8099\n",
            "Epoch 116/400\n",
            "4/4 [==============================] - 0s 5ms/step - loss: 0.4375 - accuracy: 0.8223\n",
            "Epoch 117/400\n",
            "4/4 [==============================] - 0s 4ms/step - loss: 0.4325 - accuracy: 0.8211\n",
            "Epoch 118/400\n",
            "4/4 [==============================] - 0s 6ms/step - loss: 0.4369 - accuracy: 0.8200\n",
            "Epoch 119/400\n",
            "4/4 [==============================] - 0s 6ms/step - loss: 0.4322 - accuracy: 0.8099\n",
            "Epoch 120/400\n",
            "4/4 [==============================] - 0s 5ms/step - loss: 0.4370 - accuracy: 0.8144\n",
            "Epoch 121/400\n",
            "4/4 [==============================] - 0s 6ms/step - loss: 0.4376 - accuracy: 0.8076\n",
            "Epoch 122/400\n",
            "4/4 [==============================] - 0s 7ms/step - loss: 0.4384 - accuracy: 0.8088\n",
            "Epoch 123/400\n",
            "4/4 [==============================] - 0s 4ms/step - loss: 0.4376 - accuracy: 0.8133\n",
            "Epoch 124/400\n",
            "4/4 [==============================] - 0s 5ms/step - loss: 0.4325 - accuracy: 0.8166\n",
            "Epoch 125/400\n",
            "4/4 [==============================] - 0s 4ms/step - loss: 0.4405 - accuracy: 0.8110\n",
            "Epoch 126/400\n",
            "4/4 [==============================] - 0s 5ms/step - loss: 0.4313 - accuracy: 0.8133\n",
            "Epoch 127/400\n",
            "4/4 [==============================] - 0s 5ms/step - loss: 0.4370 - accuracy: 0.8110\n",
            "Epoch 128/400\n",
            "4/4 [==============================] - 0s 4ms/step - loss: 0.4259 - accuracy: 0.8200\n",
            "Epoch 129/400\n",
            "4/4 [==============================] - 0s 4ms/step - loss: 0.4298 - accuracy: 0.8245\n",
            "Epoch 130/400\n",
            "4/4 [==============================] - 0s 5ms/step - loss: 0.4295 - accuracy: 0.8043\n",
            "Epoch 131/400\n",
            "4/4 [==============================] - 0s 5ms/step - loss: 0.4300 - accuracy: 0.8155\n",
            "Epoch 132/400\n",
            "4/4 [==============================] - 0s 4ms/step - loss: 0.4375 - accuracy: 0.8020\n",
            "Epoch 133/400\n",
            "4/4 [==============================] - 0s 5ms/step - loss: 0.4342 - accuracy: 0.8031\n",
            "Epoch 134/400\n",
            "4/4 [==============================] - 0s 5ms/step - loss: 0.4384 - accuracy: 0.8155\n",
            "Epoch 135/400\n",
            "4/4 [==============================] - 0s 6ms/step - loss: 0.4446 - accuracy: 0.8054\n",
            "Epoch 136/400\n",
            "4/4 [==============================] - 0s 4ms/step - loss: 0.4311 - accuracy: 0.8245\n",
            "Epoch 137/400\n",
            "4/4 [==============================] - 0s 5ms/step - loss: 0.4347 - accuracy: 0.8211\n",
            "Epoch 138/400\n",
            "4/4 [==============================] - 0s 6ms/step - loss: 0.4297 - accuracy: 0.8178\n",
            "Epoch 139/400\n",
            "4/4 [==============================] - 0s 5ms/step - loss: 0.4306 - accuracy: 0.8110\n",
            "Epoch 140/400\n",
            "4/4 [==============================] - 0s 5ms/step - loss: 0.4231 - accuracy: 0.8245\n",
            "Epoch 141/400\n",
            "4/4 [==============================] - 0s 7ms/step - loss: 0.4442 - accuracy: 0.8166\n",
            "Epoch 142/400\n",
            "4/4 [==============================] - 0s 5ms/step - loss: 0.4275 - accuracy: 0.8324\n",
            "Epoch 143/400\n",
            "4/4 [==============================] - 0s 5ms/step - loss: 0.4243 - accuracy: 0.8189\n",
            "Epoch 144/400\n",
            "4/4 [==============================] - 0s 5ms/step - loss: 0.4203 - accuracy: 0.8324\n",
            "Epoch 145/400\n",
            "4/4 [==============================] - 0s 6ms/step - loss: 0.4306 - accuracy: 0.8133\n",
            "Epoch 146/400\n",
            "4/4 [==============================] - 0s 6ms/step - loss: 0.4292 - accuracy: 0.8211\n",
            "Epoch 147/400\n",
            "4/4 [==============================] - 0s 6ms/step - loss: 0.4323 - accuracy: 0.8178\n",
            "Epoch 148/400\n",
            "4/4 [==============================] - 0s 5ms/step - loss: 0.4140 - accuracy: 0.8313\n",
            "Epoch 149/400\n",
            "4/4 [==============================] - 0s 6ms/step - loss: 0.4178 - accuracy: 0.8234\n",
            "Epoch 150/400\n",
            "4/4 [==============================] - 0s 5ms/step - loss: 0.4258 - accuracy: 0.8256\n",
            "Epoch 151/400\n",
            "4/4 [==============================] - 0s 5ms/step - loss: 0.4273 - accuracy: 0.8211\n",
            "Epoch 152/400\n",
            "4/4 [==============================] - 0s 5ms/step - loss: 0.4204 - accuracy: 0.8121\n",
            "Epoch 153/400\n",
            "4/4 [==============================] - 0s 6ms/step - loss: 0.4346 - accuracy: 0.8268\n",
            "Epoch 154/400\n",
            "4/4 [==============================] - 0s 4ms/step - loss: 0.4249 - accuracy: 0.8245\n",
            "Epoch 155/400\n",
            "4/4 [==============================] - 0s 5ms/step - loss: 0.4247 - accuracy: 0.8234\n",
            "Epoch 156/400\n",
            "4/4 [==============================] - 0s 5ms/step - loss: 0.4328 - accuracy: 0.8133\n",
            "Epoch 157/400\n",
            "4/4 [==============================] - 0s 4ms/step - loss: 0.4171 - accuracy: 0.8155\n",
            "Epoch 158/400\n",
            "4/4 [==============================] - 0s 5ms/step - loss: 0.4190 - accuracy: 0.8178\n",
            "Epoch 159/400\n",
            "4/4 [==============================] - 0s 4ms/step - loss: 0.4234 - accuracy: 0.8223\n",
            "Epoch 160/400\n",
            "4/4 [==============================] - 0s 6ms/step - loss: 0.4085 - accuracy: 0.8200\n",
            "Epoch 161/400\n",
            "4/4 [==============================] - 0s 4ms/step - loss: 0.4230 - accuracy: 0.8110\n",
            "Epoch 162/400\n",
            "4/4 [==============================] - 0s 6ms/step - loss: 0.4173 - accuracy: 0.8290\n",
            "Epoch 163/400\n",
            "4/4 [==============================] - 0s 5ms/step - loss: 0.4254 - accuracy: 0.8211\n",
            "Epoch 164/400\n",
            "4/4 [==============================] - 0s 5ms/step - loss: 0.4117 - accuracy: 0.8211\n",
            "Epoch 165/400\n",
            "4/4 [==============================] - 0s 4ms/step - loss: 0.4197 - accuracy: 0.8155\n",
            "Epoch 166/400\n",
            "4/4 [==============================] - 0s 6ms/step - loss: 0.4251 - accuracy: 0.8268\n",
            "Epoch 167/400\n",
            "4/4 [==============================] - 0s 8ms/step - loss: 0.4132 - accuracy: 0.8313\n",
            "Epoch 168/400\n",
            "4/4 [==============================] - 0s 5ms/step - loss: 0.4255 - accuracy: 0.8178\n",
            "Epoch 169/400\n",
            "4/4 [==============================] - 0s 4ms/step - loss: 0.4211 - accuracy: 0.8301\n",
            "Epoch 170/400\n",
            "4/4 [==============================] - 0s 9ms/step - loss: 0.4189 - accuracy: 0.8189\n",
            "Epoch 171/400\n",
            "4/4 [==============================] - 0s 4ms/step - loss: 0.4254 - accuracy: 0.8290\n",
            "Epoch 172/400\n",
            "4/4 [==============================] - 0s 5ms/step - loss: 0.4163 - accuracy: 0.8245\n",
            "Epoch 173/400\n",
            "4/4 [==============================] - 0s 5ms/step - loss: 0.4187 - accuracy: 0.8189\n",
            "Epoch 174/400\n",
            "4/4 [==============================] - 0s 5ms/step - loss: 0.4097 - accuracy: 0.8223\n",
            "Epoch 175/400\n",
            "4/4 [==============================] - 0s 5ms/step - loss: 0.4194 - accuracy: 0.8178\n",
            "Epoch 176/400\n",
            "4/4 [==============================] - 0s 5ms/step - loss: 0.4222 - accuracy: 0.8155\n",
            "Epoch 177/400\n",
            "4/4 [==============================] - 0s 6ms/step - loss: 0.4130 - accuracy: 0.8335\n",
            "Epoch 178/400\n",
            "4/4 [==============================] - 0s 6ms/step - loss: 0.4192 - accuracy: 0.8155\n",
            "Epoch 179/400\n",
            "4/4 [==============================] - 0s 4ms/step - loss: 0.4137 - accuracy: 0.8301\n",
            "Epoch 180/400\n",
            "4/4 [==============================] - 0s 5ms/step - loss: 0.4185 - accuracy: 0.8234\n",
            "Epoch 181/400\n",
            "4/4 [==============================] - 0s 4ms/step - loss: 0.4138 - accuracy: 0.8211\n",
            "Epoch 182/400\n",
            "4/4 [==============================] - 0s 6ms/step - loss: 0.4294 - accuracy: 0.8256\n",
            "Epoch 183/400\n",
            "4/4 [==============================] - 0s 5ms/step - loss: 0.4237 - accuracy: 0.8200\n",
            "Epoch 184/400\n",
            "4/4 [==============================] - 0s 6ms/step - loss: 0.4099 - accuracy: 0.8279\n",
            "Epoch 185/400\n",
            "4/4 [==============================] - 0s 4ms/step - loss: 0.4200 - accuracy: 0.8189\n",
            "Epoch 186/400\n",
            "4/4 [==============================] - 0s 6ms/step - loss: 0.4166 - accuracy: 0.8166\n",
            "Epoch 187/400\n",
            "4/4 [==============================] - 0s 4ms/step - loss: 0.4205 - accuracy: 0.8178\n",
            "Epoch 188/400\n",
            "4/4 [==============================] - 0s 7ms/step - loss: 0.4188 - accuracy: 0.8178\n",
            "Epoch 189/400\n",
            "4/4 [==============================] - 0s 5ms/step - loss: 0.4219 - accuracy: 0.8189\n",
            "Epoch 190/400\n",
            "4/4 [==============================] - 0s 4ms/step - loss: 0.4183 - accuracy: 0.8256\n",
            "Epoch 191/400\n",
            "4/4 [==============================] - 0s 5ms/step - loss: 0.4207 - accuracy: 0.8200\n",
            "Epoch 192/400\n",
            "4/4 [==============================] - 0s 5ms/step - loss: 0.4191 - accuracy: 0.8189\n",
            "Epoch 193/400\n",
            "4/4 [==============================] - 0s 5ms/step - loss: 0.4040 - accuracy: 0.8358\n",
            "Epoch 194/400\n",
            "4/4 [==============================] - 0s 5ms/step - loss: 0.4142 - accuracy: 0.8200\n",
            "Epoch 195/400\n",
            "4/4 [==============================] - 0s 4ms/step - loss: 0.4176 - accuracy: 0.8335\n",
            "Epoch 196/400\n",
            "4/4 [==============================] - 0s 5ms/step - loss: 0.4083 - accuracy: 0.8234\n",
            "Epoch 197/400\n",
            "4/4 [==============================] - 0s 6ms/step - loss: 0.4119 - accuracy: 0.8256\n",
            "Epoch 198/400\n",
            "4/4 [==============================] - 0s 4ms/step - loss: 0.4179 - accuracy: 0.8245\n",
            "Epoch 199/400\n",
            "4/4 [==============================] - 0s 4ms/step - loss: 0.4140 - accuracy: 0.8223\n",
            "Epoch 200/400\n",
            "4/4 [==============================] - 0s 5ms/step - loss: 0.4016 - accuracy: 0.8279\n",
            "Epoch 201/400\n",
            "4/4 [==============================] - 0s 4ms/step - loss: 0.4097 - accuracy: 0.8268\n",
            "Epoch 202/400\n",
            "4/4 [==============================] - 0s 6ms/step - loss: 0.4051 - accuracy: 0.8358\n",
            "Epoch 203/400\n",
            "4/4 [==============================] - 0s 4ms/step - loss: 0.4133 - accuracy: 0.8301\n",
            "Epoch 204/400\n",
            "4/4 [==============================] - 0s 5ms/step - loss: 0.4124 - accuracy: 0.8301\n",
            "Epoch 205/400\n",
            "4/4 [==============================] - 0s 4ms/step - loss: 0.4157 - accuracy: 0.8268\n",
            "Epoch 206/400\n",
            "4/4 [==============================] - 0s 5ms/step - loss: 0.4106 - accuracy: 0.8346\n",
            "Epoch 207/400\n",
            "4/4 [==============================] - 0s 5ms/step - loss: 0.4021 - accuracy: 0.8324\n",
            "Epoch 208/400\n",
            "4/4 [==============================] - 0s 5ms/step - loss: 0.4037 - accuracy: 0.8279\n",
            "Epoch 209/400\n",
            "4/4 [==============================] - 0s 4ms/step - loss: 0.4037 - accuracy: 0.8301\n",
            "Epoch 210/400\n",
            "4/4 [==============================] - 0s 7ms/step - loss: 0.4166 - accuracy: 0.8211\n",
            "Epoch 211/400\n",
            "4/4 [==============================] - 0s 5ms/step - loss: 0.4147 - accuracy: 0.8301\n",
            "Epoch 212/400\n",
            "4/4 [==============================] - 0s 6ms/step - loss: 0.4106 - accuracy: 0.8268\n",
            "Epoch 213/400\n",
            "4/4 [==============================] - 0s 4ms/step - loss: 0.3955 - accuracy: 0.8369\n",
            "Epoch 214/400\n",
            "4/4 [==============================] - 0s 5ms/step - loss: 0.4157 - accuracy: 0.8189\n",
            "Epoch 215/400\n",
            "4/4 [==============================] - 0s 5ms/step - loss: 0.4149 - accuracy: 0.8313\n",
            "Epoch 216/400\n",
            "4/4 [==============================] - 0s 7ms/step - loss: 0.4011 - accuracy: 0.8380\n",
            "Epoch 217/400\n",
            "4/4 [==============================] - 0s 7ms/step - loss: 0.4105 - accuracy: 0.8403\n",
            "Epoch 218/400\n",
            "4/4 [==============================] - 0s 4ms/step - loss: 0.4133 - accuracy: 0.8313\n",
            "Epoch 219/400\n",
            "4/4 [==============================] - 0s 5ms/step - loss: 0.4068 - accuracy: 0.8279\n",
            "Epoch 220/400\n",
            "4/4 [==============================] - 0s 5ms/step - loss: 0.4069 - accuracy: 0.8268\n",
            "Epoch 221/400\n",
            "4/4 [==============================] - 0s 4ms/step - loss: 0.4040 - accuracy: 0.8234\n",
            "Epoch 222/400\n",
            "4/4 [==============================] - 0s 4ms/step - loss: 0.4104 - accuracy: 0.8211\n",
            "Epoch 223/400\n",
            "4/4 [==============================] - 0s 5ms/step - loss: 0.3980 - accuracy: 0.8391\n",
            "Epoch 224/400\n",
            "4/4 [==============================] - 0s 4ms/step - loss: 0.4109 - accuracy: 0.8414\n",
            "Epoch 225/400\n",
            "4/4 [==============================] - 0s 4ms/step - loss: 0.4089 - accuracy: 0.8256\n",
            "Epoch 226/400\n",
            "4/4 [==============================] - 0s 4ms/step - loss: 0.4030 - accuracy: 0.8391\n",
            "Epoch 227/400\n",
            "4/4 [==============================] - 0s 7ms/step - loss: 0.4056 - accuracy: 0.8403\n",
            "Epoch 228/400\n",
            "4/4 [==============================] - 0s 5ms/step - loss: 0.4021 - accuracy: 0.8358\n",
            "Epoch 229/400\n",
            "4/4 [==============================] - 0s 5ms/step - loss: 0.4071 - accuracy: 0.8436\n",
            "Epoch 230/400\n",
            "4/4 [==============================] - 0s 4ms/step - loss: 0.4093 - accuracy: 0.8335\n",
            "Epoch 231/400\n",
            "4/4 [==============================] - 0s 6ms/step - loss: 0.3968 - accuracy: 0.8391\n",
            "Epoch 232/400\n",
            "4/4 [==============================] - 0s 6ms/step - loss: 0.4127 - accuracy: 0.8290\n",
            "Epoch 233/400\n",
            "4/4 [==============================] - 0s 4ms/step - loss: 0.4089 - accuracy: 0.8358\n",
            "Epoch 234/400\n",
            "4/4 [==============================] - 0s 4ms/step - loss: 0.4144 - accuracy: 0.8279\n",
            "Epoch 235/400\n",
            "4/4 [==============================] - 0s 6ms/step - loss: 0.4026 - accuracy: 0.8391\n",
            "Epoch 236/400\n",
            "4/4 [==============================] - 0s 5ms/step - loss: 0.4121 - accuracy: 0.8324\n",
            "Epoch 237/400\n",
            "4/4 [==============================] - 0s 5ms/step - loss: 0.4078 - accuracy: 0.8301\n",
            "Epoch 238/400\n",
            "4/4 [==============================] - 0s 8ms/step - loss: 0.4079 - accuracy: 0.8234\n",
            "Epoch 239/400\n",
            "4/4 [==============================] - 0s 5ms/step - loss: 0.4056 - accuracy: 0.8346\n",
            "Epoch 240/400\n",
            "4/4 [==============================] - 0s 7ms/step - loss: 0.4162 - accuracy: 0.8313\n",
            "Epoch 241/400\n",
            "4/4 [==============================] - 0s 6ms/step - loss: 0.4058 - accuracy: 0.8324\n",
            "Epoch 242/400\n",
            "4/4 [==============================] - 0s 5ms/step - loss: 0.4050 - accuracy: 0.8436\n",
            "Epoch 243/400\n",
            "4/4 [==============================] - 0s 5ms/step - loss: 0.4013 - accuracy: 0.8335\n",
            "Epoch 244/400\n",
            "4/4 [==============================] - 0s 5ms/step - loss: 0.3879 - accuracy: 0.8481\n",
            "Epoch 245/400\n",
            "4/4 [==============================] - 0s 6ms/step - loss: 0.3873 - accuracy: 0.8504\n",
            "Epoch 246/400\n",
            "4/4 [==============================] - 0s 6ms/step - loss: 0.4126 - accuracy: 0.8279\n",
            "Epoch 247/400\n",
            "4/4 [==============================] - 0s 8ms/step - loss: 0.4062 - accuracy: 0.8391\n",
            "Epoch 248/400\n",
            "4/4 [==============================] - 0s 8ms/step - loss: 0.3978 - accuracy: 0.8414\n",
            "Epoch 249/400\n",
            "4/4 [==============================] - 0s 6ms/step - loss: 0.4050 - accuracy: 0.8313\n",
            "Epoch 250/400\n",
            "4/4 [==============================] - 0s 10ms/step - loss: 0.3950 - accuracy: 0.8436\n",
            "Epoch 251/400\n",
            "4/4 [==============================] - 0s 5ms/step - loss: 0.3950 - accuracy: 0.8425\n",
            "Epoch 252/400\n",
            "4/4 [==============================] - 0s 8ms/step - loss: 0.4022 - accuracy: 0.8358\n",
            "Epoch 253/400\n",
            "4/4 [==============================] - 0s 6ms/step - loss: 0.4020 - accuracy: 0.8380\n",
            "Epoch 254/400\n",
            "4/4 [==============================] - 0s 7ms/step - loss: 0.4045 - accuracy: 0.8290\n",
            "Epoch 255/400\n",
            "4/4 [==============================] - 0s 8ms/step - loss: 0.3978 - accuracy: 0.8369\n",
            "Epoch 256/400\n",
            "4/4 [==============================] - 0s 4ms/step - loss: 0.3995 - accuracy: 0.8414\n",
            "Epoch 257/400\n",
            "4/4 [==============================] - 0s 5ms/step - loss: 0.3951 - accuracy: 0.8436\n",
            "Epoch 258/400\n",
            "4/4 [==============================] - 0s 7ms/step - loss: 0.4022 - accuracy: 0.8493\n",
            "Epoch 259/400\n",
            "4/4 [==============================] - 0s 7ms/step - loss: 0.3989 - accuracy: 0.8470\n",
            "Epoch 260/400\n",
            "4/4 [==============================] - 0s 8ms/step - loss: 0.3909 - accuracy: 0.8448\n",
            "Epoch 261/400\n",
            "4/4 [==============================] - 0s 8ms/step - loss: 0.4010 - accuracy: 0.8369\n",
            "Epoch 262/400\n",
            "4/4 [==============================] - 0s 4ms/step - loss: 0.3994 - accuracy: 0.8313\n",
            "Epoch 263/400\n",
            "4/4 [==============================] - 0s 6ms/step - loss: 0.4002 - accuracy: 0.8403\n",
            "Epoch 264/400\n",
            "4/4 [==============================] - 0s 6ms/step - loss: 0.3980 - accuracy: 0.8380\n",
            "Epoch 265/400\n",
            "4/4 [==============================] - 0s 6ms/step - loss: 0.3975 - accuracy: 0.8380\n",
            "Epoch 266/400\n",
            "4/4 [==============================] - 0s 5ms/step - loss: 0.3916 - accuracy: 0.8481\n",
            "Epoch 267/400\n",
            "4/4 [==============================] - 0s 5ms/step - loss: 0.3961 - accuracy: 0.8358\n",
            "Epoch 268/400\n",
            "4/4 [==============================] - 0s 6ms/step - loss: 0.3961 - accuracy: 0.8335\n",
            "Epoch 269/400\n",
            "4/4 [==============================] - 0s 5ms/step - loss: 0.3903 - accuracy: 0.8504\n",
            "Epoch 270/400\n",
            "4/4 [==============================] - 0s 5ms/step - loss: 0.3954 - accuracy: 0.8459\n",
            "Epoch 271/400\n",
            "4/4 [==============================] - 0s 7ms/step - loss: 0.3973 - accuracy: 0.8403\n",
            "Epoch 272/400\n",
            "4/4 [==============================] - 0s 5ms/step - loss: 0.4059 - accuracy: 0.8324\n",
            "Epoch 273/400\n",
            "4/4 [==============================] - 0s 7ms/step - loss: 0.4005 - accuracy: 0.8414\n",
            "Epoch 274/400\n",
            "4/4 [==============================] - 0s 5ms/step - loss: 0.3956 - accuracy: 0.8414\n",
            "Epoch 275/400\n",
            "4/4 [==============================] - 0s 5ms/step - loss: 0.4121 - accuracy: 0.8290\n",
            "Epoch 276/400\n",
            "4/4 [==============================] - 0s 6ms/step - loss: 0.3901 - accuracy: 0.8436\n",
            "Epoch 277/400\n",
            "4/4 [==============================] - 0s 5ms/step - loss: 0.3960 - accuracy: 0.8335\n",
            "Epoch 278/400\n",
            "4/4 [==============================] - 0s 4ms/step - loss: 0.3952 - accuracy: 0.8481\n",
            "Epoch 279/400\n",
            "4/4 [==============================] - 0s 5ms/step - loss: 0.3983 - accuracy: 0.8335\n",
            "Epoch 280/400\n",
            "4/4 [==============================] - 0s 6ms/step - loss: 0.3971 - accuracy: 0.8403\n",
            "Epoch 281/400\n",
            "4/4 [==============================] - 0s 8ms/step - loss: 0.3879 - accuracy: 0.8493\n",
            "Epoch 282/400\n",
            "4/4 [==============================] - 0s 6ms/step - loss: 0.3961 - accuracy: 0.8493\n",
            "Epoch 283/400\n",
            "4/4 [==============================] - 0s 5ms/step - loss: 0.3994 - accuracy: 0.8414\n",
            "Epoch 284/400\n",
            "4/4 [==============================] - 0s 5ms/step - loss: 0.3942 - accuracy: 0.8403\n",
            "Epoch 285/400\n",
            "4/4 [==============================] - 0s 4ms/step - loss: 0.4045 - accuracy: 0.8313\n",
            "Epoch 286/400\n",
            "4/4 [==============================] - 0s 5ms/step - loss: 0.3986 - accuracy: 0.8403\n",
            "Epoch 287/400\n",
            "4/4 [==============================] - 0s 6ms/step - loss: 0.3837 - accuracy: 0.8459\n",
            "Epoch 288/400\n",
            "4/4 [==============================] - 0s 6ms/step - loss: 0.3820 - accuracy: 0.8414\n",
            "Epoch 289/400\n",
            "4/4 [==============================] - 0s 5ms/step - loss: 0.3907 - accuracy: 0.8414\n",
            "Epoch 290/400\n",
            "4/4 [==============================] - 0s 6ms/step - loss: 0.3855 - accuracy: 0.8470\n",
            "Epoch 291/400\n",
            "4/4 [==============================] - 0s 5ms/step - loss: 0.3863 - accuracy: 0.8448\n",
            "Epoch 292/400\n",
            "4/4 [==============================] - 0s 7ms/step - loss: 0.3882 - accuracy: 0.8448\n",
            "Epoch 293/400\n",
            "4/4 [==============================] - 0s 6ms/step - loss: 0.3912 - accuracy: 0.8324\n",
            "Epoch 294/400\n",
            "4/4 [==============================] - 0s 5ms/step - loss: 0.3858 - accuracy: 0.8313\n",
            "Epoch 295/400\n",
            "4/4 [==============================] - 0s 5ms/step - loss: 0.3855 - accuracy: 0.8459\n",
            "Epoch 296/400\n",
            "4/4 [==============================] - 0s 8ms/step - loss: 0.3893 - accuracy: 0.8425\n",
            "Epoch 297/400\n",
            "4/4 [==============================] - 0s 5ms/step - loss: 0.3969 - accuracy: 0.8403\n",
            "Epoch 298/400\n",
            "4/4 [==============================] - 0s 5ms/step - loss: 0.3865 - accuracy: 0.8414\n",
            "Epoch 299/400\n",
            "4/4 [==============================] - 0s 6ms/step - loss: 0.3962 - accuracy: 0.8448\n",
            "Epoch 300/400\n",
            "4/4 [==============================] - 0s 5ms/step - loss: 0.3879 - accuracy: 0.8515\n",
            "Epoch 301/400\n",
            "4/4 [==============================] - 0s 7ms/step - loss: 0.3870 - accuracy: 0.8549\n",
            "Epoch 302/400\n",
            "4/4 [==============================] - 0s 5ms/step - loss: 0.3822 - accuracy: 0.8504\n",
            "Epoch 303/400\n",
            "4/4 [==============================] - 0s 5ms/step - loss: 0.3808 - accuracy: 0.8493\n",
            "Epoch 304/400\n",
            "4/4 [==============================] - 0s 5ms/step - loss: 0.4020 - accuracy: 0.8324\n",
            "Epoch 305/400\n",
            "4/4 [==============================] - 0s 5ms/step - loss: 0.3893 - accuracy: 0.8470\n",
            "Epoch 306/400\n",
            "4/4 [==============================] - 0s 5ms/step - loss: 0.3971 - accuracy: 0.8425\n",
            "Epoch 307/400\n",
            "4/4 [==============================] - 0s 4ms/step - loss: 0.3754 - accuracy: 0.8403\n",
            "Epoch 308/400\n",
            "4/4 [==============================] - 0s 6ms/step - loss: 0.3932 - accuracy: 0.8414\n",
            "Epoch 309/400\n",
            "4/4 [==============================] - 0s 5ms/step - loss: 0.3768 - accuracy: 0.8425\n",
            "Epoch 310/400\n",
            "4/4 [==============================] - 0s 5ms/step - loss: 0.3913 - accuracy: 0.8391\n",
            "Epoch 311/400\n",
            "4/4 [==============================] - 0s 7ms/step - loss: 0.3856 - accuracy: 0.8448\n",
            "Epoch 312/400\n",
            "4/4 [==============================] - 0s 4ms/step - loss: 0.3900 - accuracy: 0.8425\n",
            "Epoch 313/400\n",
            "4/4 [==============================] - 0s 5ms/step - loss: 0.3920 - accuracy: 0.8414\n",
            "Epoch 314/400\n",
            "4/4 [==============================] - 0s 5ms/step - loss: 0.3818 - accuracy: 0.8425\n",
            "Epoch 315/400\n",
            "4/4 [==============================] - 0s 5ms/step - loss: 0.3848 - accuracy: 0.8526\n",
            "Epoch 316/400\n",
            "4/4 [==============================] - 0s 9ms/step - loss: 0.3788 - accuracy: 0.8470\n",
            "Epoch 317/400\n",
            "4/4 [==============================] - 0s 5ms/step - loss: 0.3897 - accuracy: 0.8436\n",
            "Epoch 318/400\n",
            "4/4 [==============================] - 0s 5ms/step - loss: 0.3829 - accuracy: 0.8526\n",
            "Epoch 319/400\n",
            "4/4 [==============================] - 0s 4ms/step - loss: 0.3961 - accuracy: 0.8526\n",
            "Epoch 320/400\n",
            "4/4 [==============================] - 0s 4ms/step - loss: 0.3920 - accuracy: 0.8493\n",
            "Epoch 321/400\n",
            "4/4 [==============================] - 0s 4ms/step - loss: 0.3865 - accuracy: 0.8425\n",
            "Epoch 322/400\n",
            "4/4 [==============================] - 0s 4ms/step - loss: 0.3999 - accuracy: 0.8313\n",
            "Epoch 323/400\n",
            "4/4 [==============================] - 0s 6ms/step - loss: 0.3898 - accuracy: 0.8403\n",
            "Epoch 324/400\n",
            "4/4 [==============================] - 0s 5ms/step - loss: 0.3923 - accuracy: 0.8448\n",
            "Epoch 325/400\n",
            "4/4 [==============================] - 0s 5ms/step - loss: 0.3909 - accuracy: 0.8403\n",
            "Epoch 326/400\n",
            "4/4 [==============================] - 0s 4ms/step - loss: 0.3802 - accuracy: 0.8470\n",
            "Epoch 327/400\n",
            "4/4 [==============================] - 0s 4ms/step - loss: 0.3797 - accuracy: 0.8526\n",
            "Epoch 328/400\n",
            "4/4 [==============================] - 0s 6ms/step - loss: 0.3858 - accuracy: 0.8380\n",
            "Epoch 329/400\n",
            "4/4 [==============================] - 0s 4ms/step - loss: 0.3775 - accuracy: 0.8504\n",
            "Epoch 330/400\n",
            "4/4 [==============================] - 0s 5ms/step - loss: 0.3803 - accuracy: 0.8493\n",
            "Epoch 331/400\n",
            "4/4 [==============================] - 0s 4ms/step - loss: 0.3930 - accuracy: 0.8358\n",
            "Epoch 332/400\n",
            "4/4 [==============================] - 0s 5ms/step - loss: 0.3736 - accuracy: 0.8560\n",
            "Epoch 333/400\n",
            "4/4 [==============================] - 0s 10ms/step - loss: 0.3848 - accuracy: 0.8380\n",
            "Epoch 334/400\n",
            "4/4 [==============================] - 0s 5ms/step - loss: 0.3863 - accuracy: 0.8391\n",
            "Epoch 335/400\n",
            "4/4 [==============================] - 0s 10ms/step - loss: 0.3924 - accuracy: 0.8425\n",
            "Epoch 336/400\n",
            "4/4 [==============================] - 0s 5ms/step - loss: 0.3769 - accuracy: 0.8493\n",
            "Epoch 337/400\n",
            "4/4 [==============================] - 0s 4ms/step - loss: 0.3856 - accuracy: 0.8391\n",
            "Epoch 338/400\n",
            "4/4 [==============================] - 0s 5ms/step - loss: 0.3766 - accuracy: 0.8481\n",
            "Epoch 339/400\n",
            "4/4 [==============================] - 0s 5ms/step - loss: 0.3962 - accuracy: 0.8391\n",
            "Epoch 340/400\n",
            "4/4 [==============================] - 0s 7ms/step - loss: 0.3888 - accuracy: 0.8560\n",
            "Epoch 341/400\n",
            "4/4 [==============================] - 0s 5ms/step - loss: 0.3867 - accuracy: 0.8470\n",
            "Epoch 342/400\n",
            "4/4 [==============================] - 0s 6ms/step - loss: 0.3752 - accuracy: 0.8459\n",
            "Epoch 343/400\n",
            "4/4 [==============================] - 0s 5ms/step - loss: 0.3811 - accuracy: 0.8459\n",
            "Epoch 344/400\n",
            "4/4 [==============================] - 0s 7ms/step - loss: 0.3827 - accuracy: 0.8481\n",
            "Epoch 345/400\n",
            "4/4 [==============================] - 0s 5ms/step - loss: 0.3790 - accuracy: 0.8481\n",
            "Epoch 346/400\n",
            "4/4 [==============================] - 0s 5ms/step - loss: 0.3862 - accuracy: 0.8425\n",
            "Epoch 347/400\n",
            "4/4 [==============================] - 0s 6ms/step - loss: 0.3778 - accuracy: 0.8459\n",
            "Epoch 348/400\n",
            "4/4 [==============================] - 0s 5ms/step - loss: 0.3858 - accuracy: 0.8459\n",
            "Epoch 349/400\n",
            "4/4 [==============================] - 0s 6ms/step - loss: 0.3775 - accuracy: 0.8526\n",
            "Epoch 350/400\n",
            "4/4 [==============================] - 0s 4ms/step - loss: 0.3809 - accuracy: 0.8448\n",
            "Epoch 351/400\n",
            "4/4 [==============================] - 0s 4ms/step - loss: 0.3805 - accuracy: 0.8515\n",
            "Epoch 352/400\n",
            "4/4 [==============================] - 0s 10ms/step - loss: 0.3833 - accuracy: 0.8493\n",
            "Epoch 353/400\n",
            "4/4 [==============================] - 0s 5ms/step - loss: 0.3792 - accuracy: 0.8504\n",
            "Epoch 354/400\n",
            "4/4 [==============================] - 0s 7ms/step - loss: 0.3833 - accuracy: 0.8526\n",
            "Epoch 355/400\n",
            "4/4 [==============================] - 0s 5ms/step - loss: 0.3803 - accuracy: 0.8414\n",
            "Epoch 356/400\n",
            "4/4 [==============================] - 0s 4ms/step - loss: 0.3849 - accuracy: 0.8493\n",
            "Epoch 357/400\n",
            "4/4 [==============================] - 0s 8ms/step - loss: 0.3764 - accuracy: 0.8448\n",
            "Epoch 358/400\n",
            "4/4 [==============================] - 0s 7ms/step - loss: 0.3918 - accuracy: 0.8391\n",
            "Epoch 359/400\n",
            "4/4 [==============================] - 0s 6ms/step - loss: 0.3810 - accuracy: 0.8459\n",
            "Epoch 360/400\n",
            "4/4 [==============================] - 0s 6ms/step - loss: 0.3727 - accuracy: 0.8538\n",
            "Epoch 361/400\n",
            "4/4 [==============================] - 0s 5ms/step - loss: 0.3770 - accuracy: 0.8425\n",
            "Epoch 362/400\n",
            "4/4 [==============================] - 0s 4ms/step - loss: 0.3795 - accuracy: 0.8459\n",
            "Epoch 363/400\n",
            "4/4 [==============================] - 0s 5ms/step - loss: 0.3822 - accuracy: 0.8493\n",
            "Epoch 364/400\n",
            "4/4 [==============================] - 0s 5ms/step - loss: 0.3837 - accuracy: 0.8391\n",
            "Epoch 365/400\n",
            "4/4 [==============================] - 0s 4ms/step - loss: 0.3826 - accuracy: 0.8391\n",
            "Epoch 366/400\n",
            "4/4 [==============================] - 0s 4ms/step - loss: 0.3766 - accuracy: 0.8515\n",
            "Epoch 367/400\n",
            "4/4 [==============================] - 0s 5ms/step - loss: 0.3701 - accuracy: 0.8504\n",
            "Epoch 368/400\n",
            "4/4 [==============================] - 0s 5ms/step - loss: 0.3806 - accuracy: 0.8403\n",
            "Epoch 369/400\n",
            "4/4 [==============================] - 0s 5ms/step - loss: 0.3827 - accuracy: 0.8504\n",
            "Epoch 370/400\n",
            "4/4 [==============================] - 0s 5ms/step - loss: 0.3706 - accuracy: 0.8538\n",
            "Epoch 371/400\n",
            "4/4 [==============================] - 0s 4ms/step - loss: 0.3877 - accuracy: 0.8538\n",
            "Epoch 372/400\n",
            "4/4 [==============================] - 0s 4ms/step - loss: 0.3706 - accuracy: 0.8493\n",
            "Epoch 373/400\n",
            "4/4 [==============================] - 0s 6ms/step - loss: 0.3621 - accuracy: 0.8583\n",
            "Epoch 374/400\n",
            "4/4 [==============================] - 0s 5ms/step - loss: 0.3765 - accuracy: 0.8493\n",
            "Epoch 375/400\n",
            "4/4 [==============================] - 0s 4ms/step - loss: 0.3788 - accuracy: 0.8493\n",
            "Epoch 376/400\n",
            "4/4 [==============================] - 0s 4ms/step - loss: 0.3861 - accuracy: 0.8470\n",
            "Epoch 377/400\n",
            "4/4 [==============================] - 0s 4ms/step - loss: 0.3747 - accuracy: 0.8571\n",
            "Epoch 378/400\n",
            "4/4 [==============================] - 0s 4ms/step - loss: 0.3724 - accuracy: 0.8481\n",
            "Epoch 379/400\n",
            "4/4 [==============================] - 0s 5ms/step - loss: 0.3862 - accuracy: 0.8504\n",
            "Epoch 380/400\n",
            "4/4 [==============================] - 0s 8ms/step - loss: 0.3874 - accuracy: 0.8515\n",
            "Epoch 381/400\n",
            "4/4 [==============================] - 0s 4ms/step - loss: 0.3749 - accuracy: 0.8470\n",
            "Epoch 382/400\n",
            "4/4 [==============================] - 0s 5ms/step - loss: 0.3712 - accuracy: 0.8481\n",
            "Epoch 383/400\n",
            "4/4 [==============================] - 0s 5ms/step - loss: 0.3835 - accuracy: 0.8425\n",
            "Epoch 384/400\n",
            "4/4 [==============================] - 0s 5ms/step - loss: 0.3800 - accuracy: 0.8459\n",
            "Epoch 385/400\n",
            "4/4 [==============================] - 0s 5ms/step - loss: 0.3762 - accuracy: 0.8549\n",
            "Epoch 386/400\n",
            "4/4 [==============================] - 0s 5ms/step - loss: 0.3854 - accuracy: 0.8493\n",
            "Epoch 387/400\n",
            "4/4 [==============================] - 0s 6ms/step - loss: 0.3767 - accuracy: 0.8470\n",
            "Epoch 388/400\n",
            "4/4 [==============================] - 0s 8ms/step - loss: 0.3713 - accuracy: 0.8448\n",
            "Epoch 389/400\n",
            "4/4 [==============================] - 0s 4ms/step - loss: 0.3853 - accuracy: 0.8481\n",
            "Epoch 390/400\n",
            "4/4 [==============================] - 0s 5ms/step - loss: 0.3763 - accuracy: 0.8470\n",
            "Epoch 391/400\n",
            "4/4 [==============================] - 0s 9ms/step - loss: 0.3732 - accuracy: 0.8515\n",
            "Epoch 392/400\n",
            "4/4 [==============================] - 0s 4ms/step - loss: 0.3738 - accuracy: 0.8605\n",
            "Epoch 393/400\n",
            "4/4 [==============================] - 0s 5ms/step - loss: 0.3722 - accuracy: 0.8448\n",
            "Epoch 394/400\n",
            "4/4 [==============================] - 0s 5ms/step - loss: 0.3768 - accuracy: 0.8459\n",
            "Epoch 395/400\n",
            "4/4 [==============================] - 0s 6ms/step - loss: 0.3766 - accuracy: 0.8538\n",
            "Epoch 396/400\n",
            "4/4 [==============================] - 0s 5ms/step - loss: 0.3740 - accuracy: 0.8493\n",
            "Epoch 397/400\n",
            "4/4 [==============================] - 0s 5ms/step - loss: 0.3783 - accuracy: 0.8560\n",
            "Epoch 398/400\n",
            "4/4 [==============================] - 0s 5ms/step - loss: 0.3816 - accuracy: 0.8616\n",
            "Epoch 399/400\n",
            "4/4 [==============================] - 0s 7ms/step - loss: 0.3725 - accuracy: 0.8493\n",
            "Epoch 400/400\n",
            "4/4 [==============================] - 0s 4ms/step - loss: 0.3783 - accuracy: 0.8493\n"
          ]
        },
        {
          "data": {
            "text/plain": [
              "<tensorflow.python.keras.callbacks.History at 0x7f848608c090>"
            ]
          },
          "execution_count": 2015,
          "metadata": {
            "tags": []
          },
          "output_type": "execute_result"
        }
      ],
      "source": [
        "model.fit(X_train, y_train, epochs=400, batch_size=256)"
      ]
    },
    {
      "cell_type": "code",
      "execution_count": 2016,
      "metadata": {
        "id": "OC5uhDQ-vs75"
      },
      "outputs": [],
      "source": [
        "metrics = pd.DataFrame(model.history.history)"
      ]
    },
    {
      "cell_type": "code",
      "execution_count": 2017,
      "metadata": {
        "colab": {
          "base_uri": "https://localhost:8080/",
          "height": 282
        },
        "id": "1nAXDQkgxdTG",
        "outputId": "5cccbbbb-9e3e-4804-e465-072d9dc80767"
      },
      "outputs": [
        {
          "data": {
            "text/plain": [
              "<matplotlib.axes._subplots.AxesSubplot at 0x7f8485f24710>"
            ]
          },
          "execution_count": 2017,
          "metadata": {
            "tags": []
          },
          "output_type": "execute_result"
        },
        {
          "data": {
            "image/png": "[encoded data removed]",
            "text/plain": [
              "<Figure size 432x288 with 1 Axes>"
            ]
          },
          "metadata": {
            "needs_background": "light",
            "tags": []
          },
          "output_type": "display_data"
        }
      ],
      "source": [
        "metrics[\"loss\"].plot()"
      ]
    },
    {
      "cell_type": "markdown",
      "metadata": {
        "id": "6Qs9tUv9-gz0"
      },
      "source": [
        "# Evaluating Model Performance\n",
        "\n",
        "So, we've implemented several different models, and it's evident that logistic regression performed the best (neural network most likely overfit).\n",
        "\n",
        "Let's further evaluate the model's performance using a classification report and a confusion matrix. This will be done on the train dataset, since the test dataset y values are not given."
      ]
    },
    {
      "cell_type": "code",
      "execution_count": 2018,
      "metadata": {
        "id": "09-dBp-t_Uup"
      },
      "outputs": [],
      "source": [
        "logreg.fit(X_train, y_train)\n",
        "predictions = logreg.predict(X_train)"
      ]
    },
    {
      "cell_type": "code",
      "execution_count": 2019,
      "metadata": {
        "id": "50O1yro2_c9S"
      },
      "outputs": [],
      "source": [
        "from sklearn.metrics import classification_report,confusion_matrix"
      ]
    },
    {
      "cell_type": "markdown",
      "metadata": {
        "id": "QuS0GbUeCm7C"
      },
      "source": [
        "We will first create a classification report to understand the model's precision and recall. The f1-score is a nice metric which gives an overall score of the precision and recall."
      ]
    },
    {
      "cell_type": "code",
      "execution_count": 2020,
      "metadata": {
        "colab": {
          "base_uri": "https://localhost:8080/"
        },
        "id": "m4hBMGCV_y3j",
        "outputId": "3c6ee0a5-7ecf-46c0-898e-bcae69b880e1"
      },
      "outputs": [
        {
          "name": "stdout",
          "output_type": "stream",
          "text": [
            "              precision    recall  f1-score   support\n",
            "\n",
            "         0.0       0.86      0.88      0.87       549\n",
            "         1.0       0.80      0.77      0.78       340\n",
            "\n",
            "    accuracy                           0.84       889\n",
            "   macro avg       0.83      0.82      0.82       889\n",
            "weighted avg       0.83      0.84      0.84       889\n",
            "\n"
          ]
        }
      ],
      "source": [
        "print(classification_report(y_train, predictions))"
      ]
    },
    {
      "cell_type": "markdown",
      "metadata": {
        "id": "h14GWjwVC1hk"
      },
      "source": [
        "We will also create a confusion matrix to understand how the model makes predictions (true positives, false positives, true negatives, false negatives)."
      ]
    },
    {
      "cell_type": "code",
      "execution_count": 2021,
      "metadata": {
        "colab": {
          "base_uri": "https://localhost:8080/"
        },
        "id": "UyreGqwX_5YF",
        "outputId": "7a6aae33-4b7d-4713-99d2-363e9032faec"
      },
      "outputs": [
        {
          "data": {
            "text/plain": [
              "array([[482,  67],\n",
              "       [ 79, 261]])"
            ]
          },
          "execution_count": 2021,
          "metadata": {
            "tags": []
          },
          "output_type": "execute_result"
        }
      ],
      "source": [
        "confusion_matrix(y_train, predictions)"
      ]
    },
    {
      "cell_type": "markdown",
      "metadata": {
        "id": "Us6SE1icPyJS"
      },
      "source": [
        "# Final Submission\n",
        "\n",
        "Now, it's time to format the output for submitting!\n",
        "\n",
        "First, let's predict on the test set."
      ]
    },
    {
      "cell_type": "code",
      "execution_count": 2022,
      "metadata": {
        "colab": {
          "base_uri": "https://localhost:8080/"
        },
        "id": "19WVn8LTP0g3",
        "outputId": "4e5c658f-a0bf-4b5b-82a8-8f737cf3a8e5"
      },
      "outputs": [
        {
          "name": "stderr",
          "output_type": "stream",
          "text": [
            "/usr/local/lib/python3.7/dist-packages/tensorflow/python/keras/engine/sequential.py:455: UserWarning: `model.predict_classes()` is deprecated and will be removed after 2021-01-01. Please use instead:* `np.argmax(model.predict(x), axis=-1)`,   if your model does multi-class classification   (e.g. if it uses a `softmax` last-layer activation).* `(model.predict(x) > 0.5).astype(\"int32\")`,   if your model does binary classification   (e.g. if it uses a `sigmoid` last-layer activation).\n",
            "  warnings.warn('`model.predict_classes()` is deprecated and '\n"
          ]
        }
      ],
      "source": [
        "logreg_predictions = logreg.predict(X_test).astype(int)\n",
        "dectree_predictions = dectree.predict(X_test).astype(int)\n",
        "knn_predictions = knn.predict(X_test).astype(int)\n",
        "rf_predictions = rf.predict(X_test).astype(int)\n",
        "svc_predictions = svc.predict(X_test).astype(int)\n",
        "nn_predictions = model.predict_classes(X_test).reshape(-1)"
      ]
    },
    {
      "cell_type": "code",
      "execution_count": 2023,
      "metadata": {
        "colab": {
          "base_uri": "https://localhost:8080/"
        },
        "id": "G6Wy6YxnUIkX",
        "outputId": "3a1a42e8-e701-45b4-d28c-86b45aaa0c87"
      },
      "outputs": [
        {
          "data": {
            "text/plain": [
              "array([0, 1, 0, 0, 1, 0, 1, 0, 1, 0, 0, 0, 1, 0, 1, 1, 0, 0, 1, 1, 0, 0,\n",
              "       1, 0, 1, 0, 1, 0, 0, 0, 0, 0, 1, 1, 0, 0, 1, 1, 0, 0, 0, 1, 0, 1,\n",
              "       1, 0, 0, 0, 1, 1, 0, 0, 1, 1, 0, 0, 0, 0, 0, 1, 0, 0, 0, 1, 1, 1,\n",
              "       1, 0, 0, 1, 1, 0, 1, 1, 1, 1, 0, 1, 0, 1, 1, 0, 0, 0, 0, 0, 1, 1,\n",
              "       0, 1, 1, 0, 1, 0, 0, 0, 1, 0, 1, 0, 1, 0, 0, 0, 1, 0, 0, 0, 0, 0,\n",
              "       0, 1, 1, 1, 1, 0, 0, 1, 0, 1, 1, 0, 1, 0, 0, 1, 0, 1, 0, 0, 0, 1,\n",
              "       1, 0, 0, 0, 0, 0, 1, 0, 0, 1, 0, 0, 0, 0, 1, 0, 0, 0, 1, 0, 0, 1,\n",
              "       0, 0, 1, 1, 0, 1, 1, 1, 1, 0, 0, 1, 0, 0, 1, 1, 0, 0, 0, 0, 0, 1,\n",
              "       1, 0, 1, 1, 0, 1, 1, 0, 1, 0, 1, 0, 0, 0, 0, 0, 0, 0, 1, 0, 1, 1,\n",
              "       0, 1, 1, 0, 1, 1, 0, 0, 1, 0, 1, 0, 0, 0, 0, 1, 0, 0, 1, 0, 1, 0,\n",
              "       1, 0, 1, 0, 1, 1, 0, 1, 0, 0, 0, 1, 0, 0, 0, 0, 0, 0, 1, 1, 1, 1,\n",
              "       1, 0, 0, 0, 1, 0, 1, 1, 1, 0, 0, 0, 0, 0, 0, 0, 1, 0, 0, 0, 1, 1,\n",
              "       0, 0, 0, 0, 1, 0, 0, 0, 1, 1, 0, 1, 0, 0, 0, 0, 1, 0, 1, 1, 1, 0,\n",
              "       0, 0, 0, 0, 0, 1, 0, 0, 0, 0, 1, 0, 0, 0, 0, 0, 0, 0, 1, 1, 0, 1,\n",
              "       0, 1, 0, 0, 0, 1, 1, 1, 0, 0, 0, 0, 0, 0, 0, 0, 1, 0, 1, 0, 0, 0,\n",
              "       1, 0, 0, 1, 0, 0, 0, 0, 0, 1, 0, 0, 0, 1, 0, 1, 0, 1, 0, 1, 1, 0,\n",
              "       0, 0, 1, 1, 1, 0, 0, 1, 0, 1, 1, 0, 1, 0, 0, 1, 1, 0, 0, 1, 0, 0,\n",
              "       1, 1, 0, 0, 0, 0, 0, 0, 1, 1, 0, 1, 0, 0, 0, 0, 1, 1, 0, 0, 0, 1,\n",
              "       0, 1, 0, 0, 1, 0, 1, 0, 1, 1, 0, 0, 1, 1, 1, 1, 1, 0, 1, 0, 0, 0])"
            ]
          },
          "execution_count": 2023,
          "metadata": {
            "tags": []
          },
          "output_type": "execute_result"
        }
      ],
      "source": [
        "logreg_predictions"
      ]
    },
    {
      "cell_type": "markdown",
      "metadata": {
        "id": "Bl_r7_aXRrpP"
      },
      "source": [
        "Now, let's format the output, so that the passenger id is included in the submission (required)."
      ]
    },
    {
      "cell_type": "code",
      "execution_count": 2024,
      "metadata": {
        "id": "OON0EOMnQjRD"
      },
      "outputs": [],
      "source": [
        "# formatting output\n",
        "final_data_1 = {'PassengerId': test_data.PassengerId, 'Survived': logreg_predictions}\n",
        "submission_1 = pd.DataFrame(data=final_data_1)\n",
        "\n",
        "final_data_2 = {'PassengerId': test_data.PassengerId, 'Survived': dectree_predictions}\n",
        "submission_2 = pd.DataFrame(data=final_data_2)\n",
        "\n",
        "final_data_3 = {'PassengerId': test_data.PassengerId, 'Survived': knn_predictions}\n",
        "submission_3 = pd.DataFrame(data=final_data_3)\n",
        "\n",
        "final_data_4 = {'PassengerId': test_data.PassengerId, 'Survived': rf_predictions}\n",
        "submission_4 = pd.DataFrame(data=final_data_4)\n",
        "\n",
        "final_data_5 = {'PassengerId': test_data.PassengerId, 'Survived': svc_predictions}\n",
        "submission_5 = pd.DataFrame(data=final_data_5)\n",
        "\n",
        "final_data_6 = {'PassengerId': test_data.PassengerId, 'Survived': nn_predictions}\n",
        "submission_6 = pd.DataFrame(data=final_data_6)\n"
      ]
    },
    {
      "cell_type": "markdown",
      "metadata": {
        "id": "v7d6UdlqRzPx"
      },
      "source": [
        "Finally, let's convert the dataframes to csv files."
      ]
    },
    {
      "cell_type": "code",
      "execution_count": 2025,
      "metadata": {
        "id": "Xf_npWmYQ5Lf"
      },
      "outputs": [],
      "source": [
        "# creating submission files \n",
        "submission_1.to_csv('output/submission_logreg.csv', index=False)\n",
        "submission_2.to_csv('output/submission_dectree.csv',index=False)\n",
        "submission_3.to_csv('output/submission_knn.csv', index=False)\n",
        "submission_4.to_csv('output/submission_rf.csv', index=False)\n",
        "submission_5.to_csv('output/submission_svc.csv', index=False)\n",
        "submission_6.to_csv('output/submission_nn.csv', index=False)"
      ]
    },
    {
      "cell_type": "markdown",
      "metadata": {
        "id": "DOmt7bejAWrL"
      },
      "source": [
        "For further improving the model, gridsearchcv from scikit-learn can be used to find the ideal parameters. Also, further feature engineering could be done to extract better features. \n",
        "\n",
        "You've reached the end of this notebook! Thanks for reading!"
      ]
    }
  ],
  "metadata": {
    "colab": {
      "collapsed_sections": [],
      "name": "Titanic_Competition.ipynb",
      "provenance": []
    },
    "kernelspec": {
      "display_name": "Python 3",
      "name": "python3"
    },
    "language_info": {
      "name": "python"
    }
  },
  "nbformat": 4,
  "nbformat_minor": 0
}